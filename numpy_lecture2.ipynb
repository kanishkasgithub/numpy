{
  "nbformat": 4,
  "nbformat_minor": 0,
  "metadata": {
    "colab": {
      "provenance": []
    },
    "kernelspec": {
      "name": "python3",
      "display_name": "Python 3"
    },
    "language_info": {
      "name": "python"
    }
  },
  "cells": [
    {
      "cell_type": "markdown",
      "source": [
        "Topics covered:\n",
        "\n",
        "*   Numpy array vs Python lists\n",
        "*   Advanced Indexing\n",
        "*   Broadcasting\n",
        "*   Working with Mathematical formulas\n",
        "-   Working with missing values\n",
        "-   Plotting graphs\n"
      ],
      "metadata": {
        "id": "_b-fr1M1Kugy"
      }
    },
    {
      "cell_type": "markdown",
      "source": [
        "### Numpy array vs Python lists"
      ],
      "metadata": {
        "id": "EHJYayjkNg2h"
      }
    },
    {
      "cell_type": "markdown",
      "source": [
        "\n",
        "\n",
        "*   Speed - numpy array is faster than python list.\n",
        "*   Memory - numpy array takes less memory in comparison to python list.\n",
        "-   Convenience - numpy array are more convenient.\n"
      ],
      "metadata": {
        "id": "BFlVKI0sNh2s"
      }
    },
    {
      "cell_type": "code",
      "execution_count": null,
      "metadata": {
        "colab": {
          "base_uri": "https://localhost:8080/"
        },
        "id": "r-U53a5bKpol",
        "outputId": "b5ac887a-27f1-4d5e-958b-0d4a194c9bb9"
      },
      "outputs": [
        {
          "output_type": "stream",
          "name": "stdout",
          "text": [
            "2.732386350631714\n"
          ]
        }
      ],
      "source": [
        "# speed\n",
        "# list\n",
        "a = [i for i in range(10000000)]\n",
        "b = [i for i in range(10000000, 20000000)]\n",
        "\n",
        "c = []\n",
        "import time\n",
        "\n",
        "start = time.time()\n",
        "for i in range(len(a)):\n",
        "  c.append(a[i] + b[i])\n",
        "\n",
        "print(time.time() - start)"
      ]
    },
    {
      "cell_type": "code",
      "source": [
        "# numpy\n",
        "import numpy as np\n",
        "\n",
        "a = np.arange(10000000)\n",
        "b = np.arange(10000000, 20000000)\n",
        "\n",
        "start = time.time()\n",
        "c = a + b\n",
        "print(time.time() - start)"
      ],
      "metadata": {
        "colab": {
          "base_uri": "https://localhost:8080/"
        },
        "id": "OTET7cNbN2P5",
        "outputId": "a420a001-85f6-4ce9-b1df-1182eec75863"
      },
      "execution_count": null,
      "outputs": [
        {
          "output_type": "stream",
          "name": "stdout",
          "text": [
            "0.0318760871887207\n"
          ]
        }
      ]
    },
    {
      "cell_type": "code",
      "source": [
        "2.73/0.03"
      ],
      "metadata": {
        "colab": {
          "base_uri": "https://localhost:8080/"
        },
        "id": "Pa65nHP6OMmm",
        "outputId": "03cc784c-c062-4e12-bdff-50b348c1e762"
      },
      "execution_count": null,
      "outputs": [
        {
          "output_type": "execute_result",
          "data": {
            "text/plain": [
              "91.0"
            ]
          },
          "metadata": {},
          "execution_count": 7
        }
      ]
    },
    {
      "cell_type": "code",
      "source": [
        "# memory\n",
        "a = [i for i in range(10000000)]\n",
        "import sys\n",
        "sys.getsizeof(a)"
      ],
      "metadata": {
        "colab": {
          "base_uri": "https://localhost:8080/"
        },
        "id": "DMk5zGsqPx7l",
        "outputId": "d89ef101-6e0a-46ab-a2d0-2af063378bb3"
      },
      "execution_count": null,
      "outputs": [
        {
          "output_type": "execute_result",
          "data": {
            "text/plain": [
              "89095160"
            ]
          },
          "metadata": {},
          "execution_count": 8
        }
      ]
    },
    {
      "cell_type": "code",
      "source": [
        "a = np.arange(10000000)\n",
        "sys.getsizeof(a)"
      ],
      "metadata": {
        "colab": {
          "base_uri": "https://localhost:8080/"
        },
        "id": "7T-EnA88P0HD",
        "outputId": "7b2073e2-03d9-4527-f9ce-e7be25438179"
      },
      "execution_count": null,
      "outputs": [
        {
          "output_type": "execute_result",
          "data": {
            "text/plain": [
              "80000112"
            ]
          },
          "metadata": {},
          "execution_count": 9
        }
      ]
    },
    {
      "cell_type": "code",
      "source": [
        "a = np.arange(10000000,dtype=np.int32)\n",
        "sys.getsizeof(a)"
      ],
      "metadata": {
        "colab": {
          "base_uri": "https://localhost:8080/"
        },
        "id": "hg8o0hT5P2JL",
        "outputId": "077b541c-ab16-4566-ad98-13c98ad8242e"
      },
      "execution_count": null,
      "outputs": [
        {
          "output_type": "execute_result",
          "data": {
            "text/plain": [
              "40000112"
            ]
          },
          "metadata": {},
          "execution_count": 10
        }
      ]
    },
    {
      "cell_type": "code",
      "source": [
        "# convenience"
      ],
      "metadata": {
        "id": "nTx1TjPhP6O4"
      },
      "execution_count": null,
      "outputs": []
    },
    {
      "cell_type": "markdown",
      "source": [
        "### Advanced Indexing"
      ],
      "metadata": {
        "id": "jo_mGTpKQj8N"
      }
    },
    {
      "cell_type": "markdown",
      "source": [
        "**Normal indexing and slicing**"
      ],
      "metadata": {
        "id": "Yn-HdtaCR78t"
      }
    },
    {
      "cell_type": "code",
      "source": [
        "# Normal Indexing and slicing\n",
        "\n",
        "a = np.arange(12).reshape(4,3)\n",
        "a"
      ],
      "metadata": {
        "colab": {
          "base_uri": "https://localhost:8080/"
        },
        "id": "jDPiWQzPQ656",
        "outputId": "0862a831-2c94-4404-c8e9-e5fe1def4ed5"
      },
      "execution_count": null,
      "outputs": [
        {
          "output_type": "execute_result",
          "data": {
            "text/plain": [
              "array([[ 0,  1,  2],\n",
              "       [ 3,  4,  5],\n",
              "       [ 6,  7,  8],\n",
              "       [ 9, 10, 11]])"
            ]
          },
          "metadata": {},
          "execution_count": 11
        }
      ]
    },
    {
      "cell_type": "code",
      "source": [
        "a[1,2]"
      ],
      "metadata": {
        "colab": {
          "base_uri": "https://localhost:8080/"
        },
        "id": "xPvCQ3dVRBSt",
        "outputId": "966606b5-8e5b-4e95-d95e-657b847fd2c6"
      },
      "execution_count": null,
      "outputs": [
        {
          "output_type": "execute_result",
          "data": {
            "text/plain": [
              "5"
            ]
          },
          "metadata": {},
          "execution_count": 12
        }
      ]
    },
    {
      "cell_type": "code",
      "source": [
        "a[1:3,1:3]"
      ],
      "metadata": {
        "colab": {
          "base_uri": "https://localhost:8080/"
        },
        "id": "b52L5c22RC_R",
        "outputId": "c98d8447-fe34-4d97-d192-c63dc0df34d1"
      },
      "execution_count": null,
      "outputs": [
        {
          "output_type": "execute_result",
          "data": {
            "text/plain": [
              "array([[4, 5],\n",
              "       [7, 8]])"
            ]
          },
          "metadata": {},
          "execution_count": 14
        }
      ]
    },
    {
      "cell_type": "markdown",
      "source": [
        "**Fancy indexing**"
      ],
      "metadata": {
        "id": "i39T6dHfRrXU"
      }
    },
    {
      "cell_type": "code",
      "source": [
        "# Fancy indexing\n",
        "a"
      ],
      "metadata": {
        "colab": {
          "base_uri": "https://localhost:8080/"
        },
        "id": "AzHNAyesRG2f",
        "outputId": "dd13cd45-bc4c-4ee4-f6b5-e566067deaf9"
      },
      "execution_count": null,
      "outputs": [
        {
          "output_type": "execute_result",
          "data": {
            "text/plain": [
              "array([[ 0,  1,  2],\n",
              "       [ 3,  4,  5],\n",
              "       [ 6,  7,  8],\n",
              "       [ 9, 10, 11]])"
            ]
          },
          "metadata": {},
          "execution_count": 15
        }
      ]
    },
    {
      "cell_type": "code",
      "source": [
        "# retrive row 1,3,4\n",
        "a[[0,2,3]]"
      ],
      "metadata": {
        "colab": {
          "base_uri": "https://localhost:8080/"
        },
        "id": "dtzVT-EnRxpy",
        "outputId": "54a3d57e-3ac5-4151-ff21-a44d00211747"
      },
      "execution_count": null,
      "outputs": [
        {
          "output_type": "execute_result",
          "data": {
            "text/plain": [
              "array([[ 0,  1,  2],\n",
              "       [ 6,  7,  8],\n",
              "       [ 9, 10, 11]])"
            ]
          },
          "metadata": {},
          "execution_count": 16
        }
      ]
    },
    {
      "cell_type": "code",
      "source": [
        "a = np.arange(24).reshape(6,4)\n",
        "a"
      ],
      "metadata": {
        "colab": {
          "base_uri": "https://localhost:8080/"
        },
        "id": "Ss_XBYj7R4Ay",
        "outputId": "4e5f105d-d181-47ae-a57e-217c78856691"
      },
      "execution_count": null,
      "outputs": [
        {
          "output_type": "execute_result",
          "data": {
            "text/plain": [
              "array([[ 0,  1,  2,  3],\n",
              "       [ 4,  5,  6,  7],\n",
              "       [ 8,  9, 10, 11],\n",
              "       [12, 13, 14, 15],\n",
              "       [16, 17, 18, 19],\n",
              "       [20, 21, 22, 23]])"
            ]
          },
          "metadata": {},
          "execution_count": 17
        }
      ]
    },
    {
      "cell_type": "code",
      "source": [
        "# retrive row 1,3,4,6\n",
        "a[[0,2,3,5]]"
      ],
      "metadata": {
        "colab": {
          "base_uri": "https://localhost:8080/"
        },
        "id": "n183VUIgSEpQ",
        "outputId": "57b54460-9ffe-4581-ee8d-7044e5c894c4"
      },
      "execution_count": null,
      "outputs": [
        {
          "output_type": "execute_result",
          "data": {
            "text/plain": [
              "array([[ 0,  1,  2,  3],\n",
              "       [ 8,  9, 10, 11],\n",
              "       [12, 13, 14, 15],\n",
              "       [20, 21, 22, 23]])"
            ]
          },
          "metadata": {},
          "execution_count": 18
        }
      ]
    },
    {
      "cell_type": "code",
      "source": [
        "# retrive column 1,3,4\n",
        "a[:,[0,2,3]]"
      ],
      "metadata": {
        "colab": {
          "base_uri": "https://localhost:8080/"
        },
        "id": "BUFWgsP2SLHf",
        "outputId": "6d6cf319-9eba-4e07-ffe3-9bf964b1a5c1"
      },
      "execution_count": null,
      "outputs": [
        {
          "output_type": "execute_result",
          "data": {
            "text/plain": [
              "array([[ 0,  2,  3],\n",
              "       [ 4,  6,  7],\n",
              "       [ 8, 10, 11],\n",
              "       [12, 14, 15],\n",
              "       [16, 18, 19],\n",
              "       [20, 22, 23]])"
            ]
          },
          "metadata": {},
          "execution_count": 19
        }
      ]
    },
    {
      "cell_type": "markdown",
      "source": [
        "**Boolean Indexing**"
      ],
      "metadata": {
        "id": "DYINsMu2TcT3"
      }
    },
    {
      "cell_type": "code",
      "source": [
        "# Boolean Indexing - filter data based on given condition\n",
        "a = np.random.randint(1,100,24).reshape(6,4)\n",
        "a"
      ],
      "metadata": {
        "colab": {
          "base_uri": "https://localhost:8080/"
        },
        "id": "PuUL4e6GScUx",
        "outputId": "54787687-5bd4-4c49-9a0b-0fdcd9984b6c"
      },
      "execution_count": null,
      "outputs": [
        {
          "output_type": "execute_result",
          "data": {
            "text/plain": [
              "array([[80, 99,  9, 66],\n",
              "       [77, 50, 88, 14],\n",
              "       [19, 38, 33, 59],\n",
              "       [34, 47, 29, 31],\n",
              "       [55, 19, 55, 77],\n",
              "       [77, 10, 43, 75]])"
            ]
          },
          "metadata": {},
          "execution_count": 20
        }
      ]
    },
    {
      "cell_type": "code",
      "source": [
        "# find all numbers greater than 50\n",
        "a>50   # boolean array"
      ],
      "metadata": {
        "colab": {
          "base_uri": "https://localhost:8080/"
        },
        "id": "CavfUMSTTlE5",
        "outputId": "0c05d512-b285-40d3-8633-e561aa3000c6"
      },
      "execution_count": null,
      "outputs": [
        {
          "output_type": "execute_result",
          "data": {
            "text/plain": [
              "array([[ True,  True, False,  True],\n",
              "       [ True, False,  True, False],\n",
              "       [False, False, False,  True],\n",
              "       [False, False, False, False],\n",
              "       [ True, False,  True,  True],\n",
              "       [ True, False, False,  True]])"
            ]
          },
          "metadata": {},
          "execution_count": 21
        }
      ]
    },
    {
      "cell_type": "code",
      "source": [
        "a[a>50]    # boolean array masked on 'a' to get numbers greater than 50"
      ],
      "metadata": {
        "colab": {
          "base_uri": "https://localhost:8080/"
        },
        "id": "0Tm2CLXcTtdc",
        "outputId": "9d845938-4054-4854-b528-60e2f2501774"
      },
      "execution_count": null,
      "outputs": [
        {
          "output_type": "execute_result",
          "data": {
            "text/plain": [
              "array([80, 99, 66, 77, 88, 59, 55, 55, 77, 77, 75])"
            ]
          },
          "metadata": {},
          "execution_count": 22
        }
      ]
    },
    {
      "cell_type": "code",
      "source": [
        "# find out even numbers\n",
        "a%2==0"
      ],
      "metadata": {
        "colab": {
          "base_uri": "https://localhost:8080/"
        },
        "id": "pisqizoOTxca",
        "outputId": "dbf53e1e-bdec-4125-8d92-a5fac93c0289"
      },
      "execution_count": null,
      "outputs": [
        {
          "output_type": "execute_result",
          "data": {
            "text/plain": [
              "array([[ True, False, False,  True],\n",
              "       [False,  True,  True,  True],\n",
              "       [False,  True, False, False],\n",
              "       [ True, False, False, False],\n",
              "       [False, False, False, False],\n",
              "       [False,  True, False, False]])"
            ]
          },
          "metadata": {},
          "execution_count": 23
        }
      ]
    },
    {
      "cell_type": "code",
      "source": [
        "a[a%2==0]"
      ],
      "metadata": {
        "colab": {
          "base_uri": "https://localhost:8080/"
        },
        "id": "7dJ3nzr0UfDP",
        "outputId": "6ec9c9dd-6a0d-4c82-da45-3356a5c60476"
      },
      "execution_count": null,
      "outputs": [
        {
          "output_type": "execute_result",
          "data": {
            "text/plain": [
              "array([80, 66, 50, 88, 14, 38, 34, 10])"
            ]
          },
          "metadata": {},
          "execution_count": 24
        }
      ]
    },
    {
      "cell_type": "code",
      "source": [
        "# find all numbers greater than 50 and are even\n",
        "a[(a>50) & (a%2==0)]"
      ],
      "metadata": {
        "colab": {
          "base_uri": "https://localhost:8080/"
        },
        "id": "3NNgIvr2UhfD",
        "outputId": "c2dba778-c989-49ca-baca-abdfaaa717b6"
      },
      "execution_count": null,
      "outputs": [
        {
          "output_type": "execute_result",
          "data": {
            "text/plain": [
              "array([80, 66, 88])"
            ]
          },
          "metadata": {},
          "execution_count": 26
        }
      ]
    },
    {
      "cell_type": "code",
      "source": [
        "a[(a>50) and (a%2==0)]"
      ],
      "metadata": {
        "colab": {
          "base_uri": "https://localhost:8080/",
          "height": 141
        },
        "id": "NhDXLKl1Us3o",
        "outputId": "387f72e0-7321-4101-d5e9-6b27ba50b0e5"
      },
      "execution_count": null,
      "outputs": [
        {
          "output_type": "error",
          "ename": "ValueError",
          "evalue": "The truth value of an array with more than one element is ambiguous. Use a.any() or a.all()",
          "traceback": [
            "\u001b[0;31m---------------------------------------------------------------------------\u001b[0m",
            "\u001b[0;31mValueError\u001b[0m                                Traceback (most recent call last)",
            "\u001b[0;32m<ipython-input-27-089bc7c46a75>\u001b[0m in \u001b[0;36m<cell line: 1>\u001b[0;34m()\u001b[0m\n\u001b[0;32m----> 1\u001b[0;31m \u001b[0ma\u001b[0m\u001b[0;34m[\u001b[0m\u001b[0;34m(\u001b[0m\u001b[0ma\u001b[0m\u001b[0;34m>\u001b[0m\u001b[0;36m50\u001b[0m\u001b[0;34m)\u001b[0m \u001b[0;32mand\u001b[0m \u001b[0;34m(\u001b[0m\u001b[0ma\u001b[0m\u001b[0;34m%\u001b[0m\u001b[0;36m2\u001b[0m\u001b[0;34m==\u001b[0m\u001b[0;36m0\u001b[0m\u001b[0;34m)\u001b[0m\u001b[0;34m]\u001b[0m\u001b[0;34m\u001b[0m\u001b[0;34m\u001b[0m\u001b[0m\n\u001b[0m",
            "\u001b[0;31mValueError\u001b[0m: The truth value of an array with more than one element is ambiguous. Use a.any() or a.all()"
          ]
        }
      ]
    },
    {
      "cell_type": "markdown",
      "source": [
        "Use '&' and '|' for and/or operation (don't use and,or operation), as working with boolean values."
      ],
      "metadata": {
        "id": "S_PZOvTtVNRi"
      }
    },
    {
      "cell_type": "code",
      "source": [
        "# find all numbers not divisible by 7\n",
        "a[~(a%7==0)]"
      ],
      "metadata": {
        "colab": {
          "base_uri": "https://localhost:8080/"
        },
        "id": "bwYH9Ru_U1G0",
        "outputId": "6d1752e2-df6b-49f0-ae4b-1d2095bb34be"
      },
      "execution_count": null,
      "outputs": [
        {
          "output_type": "execute_result",
          "data": {
            "text/plain": [
              "array([80, 99,  9, 66, 50, 88, 19, 38, 33, 59, 34, 47, 29, 31, 55, 19, 55,\n",
              "       10, 43, 75])"
            ]
          },
          "metadata": {},
          "execution_count": 28
        }
      ]
    },
    {
      "cell_type": "code",
      "source": [
        "a[a%7!=0]"
      ],
      "metadata": {
        "colab": {
          "base_uri": "https://localhost:8080/"
        },
        "id": "yccpYg1jVkkE",
        "outputId": "890ed952-0a77-42c5-95cb-dca968f9429a"
      },
      "execution_count": null,
      "outputs": [
        {
          "output_type": "execute_result",
          "data": {
            "text/plain": [
              "array([80, 99,  9, 66, 50, 88, 19, 38, 33, 59, 34, 47, 29, 31, 55, 19, 55,\n",
              "       10, 43, 75])"
            ]
          },
          "metadata": {},
          "execution_count": 29
        }
      ]
    },
    {
      "cell_type": "code",
      "source": [
        "a[a%7==0]"
      ],
      "metadata": {
        "colab": {
          "base_uri": "https://localhost:8080/"
        },
        "id": "BEEi9WC6VoGZ",
        "outputId": "60de589b-9ec8-4166-f8c6-d0548d409bd7"
      },
      "execution_count": null,
      "outputs": [
        {
          "output_type": "execute_result",
          "data": {
            "text/plain": [
              "array([77, 14, 77, 77])"
            ]
          },
          "metadata": {},
          "execution_count": 30
        }
      ]
    },
    {
      "cell_type": "markdown",
      "source": [
        "### Broadcasting\n",
        "\n",
        "The term broadcasting describes how NumPy treats arrays with different shapes during arithmetic operations.\n",
        "\n",
        "The smaller array is “broadcast” across the larger array so that they have compatible shapes."
      ],
      "metadata": {
        "id": "gYHoLBUUY9QE"
      }
    },
    {
      "cell_type": "code",
      "source": [
        "# same shape\n",
        "a = np.arange(6).reshape(2,3)\n",
        "b = np.arange(6,12).reshape(2,3)\n",
        "\n",
        "print(a)\n",
        "print(b)\n",
        "\n",
        "print(a+b)"
      ],
      "metadata": {
        "colab": {
          "base_uri": "https://localhost:8080/"
        },
        "id": "zviBUGblY-KP",
        "outputId": "ecd100fb-9ca0-4118-939e-90fd19d7ec6e"
      },
      "execution_count": null,
      "outputs": [
        {
          "output_type": "stream",
          "name": "stdout",
          "text": [
            "[[0 1 2]\n",
            " [3 4 5]]\n",
            "[[ 6  7  8]\n",
            " [ 9 10 11]]\n",
            "[[ 6  8 10]\n",
            " [12 14 16]]\n"
          ]
        }
      ]
    },
    {
      "cell_type": "code",
      "source": [
        "# diff shape\n",
        "a = np.arange(6).reshape(2,3)\n",
        "b = np.arange(3).reshape(1,3)\n",
        "\n",
        "print(a)\n",
        "print(b)\n",
        "\n",
        "print(a+b)"
      ],
      "metadata": {
        "colab": {
          "base_uri": "https://localhost:8080/"
        },
        "id": "a9oKK_gcZEEx",
        "outputId": "a9127060-9516-4058-f544-f1a8f6686ab7"
      },
      "execution_count": null,
      "outputs": [
        {
          "output_type": "stream",
          "name": "stdout",
          "text": [
            "[[0 1 2]\n",
            " [3 4 5]]\n",
            "[[0 1 2]]\n",
            "[[0 2 4]\n",
            " [3 5 7]]\n"
          ]
        }
      ]
    },
    {
      "cell_type": "markdown",
      "source": [
        "#### Broadcasting Rules\n",
        "\n",
        "**1. Make the two arrays have the same number of dimensions.**<br>\n",
        "- If the numbers of dimensions of the two arrays are different, add new dimensions with size 1 to the head of the array with the smaller dimension.<br>"
      ],
      "metadata": {
        "id": "gZgfDWD-ZKu6"
      }
    },
    {
      "cell_type": "markdown",
      "source": [
        "**2. Make each dimension of the two arrays the same size.**<br>\n",
        "- If the sizes of each dimension of the two arrays do not match, dimensions with size 1 are stretched to the size of the other array.\n",
        "- If there is a dimension whose size is not 1 in either of the two arrays, it cannot be broadcasted, and an error is raised."
      ],
      "metadata": {
        "id": "jROKiA_8ZLhu"
      }
    },
    {
      "cell_type": "markdown",
      "source": [
        "<img src = \"https://jakevdp.github.io/PythonDataScienceHandbook/figures/02.05-broadcasting.png\">"
      ],
      "metadata": {
        "id": "S0ju4re0ZOZc"
      }
    },
    {
      "cell_type": "code",
      "source": [
        "# More examples\n",
        "\n",
        "a = np.arange(12).reshape(4,3)\n",
        "b = np.arange(3)\n",
        "\n",
        "print(a)\n",
        "print(b)\n",
        "print(a+b)"
      ],
      "metadata": {
        "colab": {
          "base_uri": "https://localhost:8080/"
        },
        "id": "PG88gI_GZSnn",
        "outputId": "b73ba19b-f76a-49c1-a178-c21eb66d1821"
      },
      "execution_count": null,
      "outputs": [
        {
          "output_type": "stream",
          "name": "stdout",
          "text": [
            "[[ 0  1  2]\n",
            " [ 3  4  5]\n",
            " [ 6  7  8]\n",
            " [ 9 10 11]]\n",
            "[0 1 2]\n",
            "[[ 0  2  4]\n",
            " [ 3  5  7]\n",
            " [ 6  8 10]\n",
            " [ 9 11 13]]\n"
          ]
        }
      ]
    },
    {
      "cell_type": "code",
      "source": [
        "a = np.arange(12).reshape(3,4)\n",
        "b = np.arange(3)\n",
        "\n",
        "print(a)\n",
        "print(b)\n",
        "\n",
        "print(a+b)"
      ],
      "metadata": {
        "colab": {
          "base_uri": "https://localhost:8080/",
          "height": 245
        },
        "id": "YMy4gzGdZb-E",
        "outputId": "5528ba50-63c6-4856-eeb0-c34d92d67881"
      },
      "execution_count": null,
      "outputs": [
        {
          "output_type": "stream",
          "name": "stdout",
          "text": [
            "[[ 0  1  2  3]\n",
            " [ 4  5  6  7]\n",
            " [ 8  9 10 11]]\n",
            "[0 1 2]\n"
          ]
        },
        {
          "output_type": "error",
          "ename": "ValueError",
          "evalue": "operands could not be broadcast together with shapes (3,4) (3,) ",
          "traceback": [
            "\u001b[0;31m---------------------------------------------------------------------------\u001b[0m",
            "\u001b[0;31mValueError\u001b[0m                                Traceback (most recent call last)",
            "\u001b[0;32m<ipython-input-34-fa6cbb589166>\u001b[0m in \u001b[0;36m<cell line: 7>\u001b[0;34m()\u001b[0m\n\u001b[1;32m      5\u001b[0m \u001b[0mprint\u001b[0m\u001b[0;34m(\u001b[0m\u001b[0mb\u001b[0m\u001b[0;34m)\u001b[0m\u001b[0;34m\u001b[0m\u001b[0;34m\u001b[0m\u001b[0m\n\u001b[1;32m      6\u001b[0m \u001b[0;34m\u001b[0m\u001b[0m\n\u001b[0;32m----> 7\u001b[0;31m \u001b[0mprint\u001b[0m\u001b[0;34m(\u001b[0m\u001b[0ma\u001b[0m\u001b[0;34m+\u001b[0m\u001b[0mb\u001b[0m\u001b[0;34m)\u001b[0m\u001b[0;34m\u001b[0m\u001b[0;34m\u001b[0m\u001b[0m\n\u001b[0m",
            "\u001b[0;31mValueError\u001b[0m: operands could not be broadcast together with shapes (3,4) (3,) "
          ]
        }
      ]
    },
    {
      "cell_type": "code",
      "source": [
        "a = np.arange(3).reshape(1,3)\n",
        "b = np.arange(3).reshape(3,1)\n",
        "\n",
        "print(a)\n",
        "print(b)\n",
        "\n",
        "print(a+b)"
      ],
      "metadata": {
        "colab": {
          "base_uri": "https://localhost:8080/"
        },
        "id": "PrjARoNoaLgM",
        "outputId": "267ded81-d585-4484-e115-3c2d8258db13"
      },
      "execution_count": null,
      "outputs": [
        {
          "metadata": {
            "tags": null
          },
          "name": "stdout",
          "output_type": "stream",
          "text": [
            "[[0 1 2]]\n",
            "[[0]\n",
            " [1]\n",
            " [2]]\n",
            "[[0 1 2]\n",
            " [1 2 3]\n",
            " [2 3 4]]\n"
          ]
        }
      ]
    },
    {
      "cell_type": "code",
      "source": [
        "a = np.arange(3).reshape(1,3)\n",
        "b = np.arange(4).reshape(4,1)\n",
        "\n",
        "print(a)\n",
        "print(b)\n",
        "\n",
        "print(a + b)"
      ],
      "metadata": {
        "colab": {
          "base_uri": "https://localhost:8080/"
        },
        "id": "EJEQFkf4aYal",
        "outputId": "db5e78fd-5bc0-4c96-a642-3f2007dae734"
      },
      "execution_count": null,
      "outputs": [
        {
          "output_type": "stream",
          "name": "stdout",
          "text": [
            "[[0 1 2]]\n",
            "[[0]\n",
            " [1]\n",
            " [2]\n",
            " [3]]\n",
            "[[0 1 2]\n",
            " [1 2 3]\n",
            " [2 3 4]\n",
            " [3 4 5]]\n"
          ]
        }
      ]
    },
    {
      "cell_type": "code",
      "source": [
        "a = np.array([1])\n",
        "# shape -> (1,1)\n",
        "b = np.arange(4).reshape(2,2)\n",
        "# shape -> (2,2)\n",
        "\n",
        "print(a)\n",
        "print(b)\n",
        "\n",
        "print(a+b)"
      ],
      "metadata": {
        "colab": {
          "base_uri": "https://localhost:8080/"
        },
        "id": "gy4RTWPvaomD",
        "outputId": "714891ce-ba3b-4bf1-896d-5632d32b93cb"
      },
      "execution_count": null,
      "outputs": [
        {
          "output_type": "stream",
          "name": "stdout",
          "text": [
            "[1]\n",
            "[[0 1]\n",
            " [2 3]]\n",
            "[[1 2]\n",
            " [3 4]]\n"
          ]
        }
      ]
    },
    {
      "cell_type": "code",
      "source": [
        "a = np.arange(12).reshape(3,4)\n",
        "b = np.arange(12).reshape(4,3)\n",
        "\n",
        "print(a)\n",
        "print(b)\n",
        "\n",
        "print(a+b)"
      ],
      "metadata": {
        "colab": {
          "base_uri": "https://localhost:8080/",
          "height": 297
        },
        "id": "4zWJfNETa0Jn",
        "outputId": "bf878c52-c994-4c3a-c22d-257000ed8941"
      },
      "execution_count": null,
      "outputs": [
        {
          "output_type": "stream",
          "name": "stdout",
          "text": [
            "[[ 0  1  2  3]\n",
            " [ 4  5  6  7]\n",
            " [ 8  9 10 11]]\n",
            "[[ 0  1  2]\n",
            " [ 3  4  5]\n",
            " [ 6  7  8]\n",
            " [ 9 10 11]]\n"
          ]
        },
        {
          "output_type": "error",
          "ename": "ValueError",
          "evalue": "operands could not be broadcast together with shapes (3,4) (4,3) ",
          "traceback": [
            "\u001b[0;31m---------------------------------------------------------------------------\u001b[0m",
            "\u001b[0;31mValueError\u001b[0m                                Traceback (most recent call last)",
            "\u001b[0;32m<ipython-input-38-c590a65467e5>\u001b[0m in \u001b[0;36m<cell line: 7>\u001b[0;34m()\u001b[0m\n\u001b[1;32m      5\u001b[0m \u001b[0mprint\u001b[0m\u001b[0;34m(\u001b[0m\u001b[0mb\u001b[0m\u001b[0;34m)\u001b[0m\u001b[0;34m\u001b[0m\u001b[0;34m\u001b[0m\u001b[0m\n\u001b[1;32m      6\u001b[0m \u001b[0;34m\u001b[0m\u001b[0m\n\u001b[0;32m----> 7\u001b[0;31m \u001b[0mprint\u001b[0m\u001b[0;34m(\u001b[0m\u001b[0ma\u001b[0m\u001b[0;34m+\u001b[0m\u001b[0mb\u001b[0m\u001b[0;34m)\u001b[0m\u001b[0;34m\u001b[0m\u001b[0;34m\u001b[0m\u001b[0m\n\u001b[0m",
            "\u001b[0;31mValueError\u001b[0m: operands could not be broadcast together with shapes (3,4) (4,3) "
          ]
        }
      ]
    },
    {
      "cell_type": "code",
      "source": [
        "a = np.arange(16).reshape(4,4)\n",
        "b = np.arange(4).reshape(2,2)\n",
        "\n",
        "print(a)\n",
        "print(b)\n",
        "\n",
        "print(a+b)"
      ],
      "metadata": {
        "colab": {
          "base_uri": "https://localhost:8080/",
          "height": 280
        },
        "id": "zgOZW4mya7OT",
        "outputId": "ac4672e7-e63a-4586-f4f5-2e9d2dc5d3ba"
      },
      "execution_count": null,
      "outputs": [
        {
          "output_type": "stream",
          "name": "stdout",
          "text": [
            "[[ 0  1  2  3]\n",
            " [ 4  5  6  7]\n",
            " [ 8  9 10 11]\n",
            " [12 13 14 15]]\n",
            "[[0 1]\n",
            " [2 3]]\n"
          ]
        },
        {
          "output_type": "error",
          "ename": "ValueError",
          "evalue": "operands could not be broadcast together with shapes (4,4) (2,2) ",
          "traceback": [
            "\u001b[0;31m---------------------------------------------------------------------------\u001b[0m",
            "\u001b[0;31mValueError\u001b[0m                                Traceback (most recent call last)",
            "\u001b[0;32m<ipython-input-39-57df50a0058a>\u001b[0m in \u001b[0;36m<cell line: 7>\u001b[0;34m()\u001b[0m\n\u001b[1;32m      5\u001b[0m \u001b[0mprint\u001b[0m\u001b[0;34m(\u001b[0m\u001b[0mb\u001b[0m\u001b[0;34m)\u001b[0m\u001b[0;34m\u001b[0m\u001b[0;34m\u001b[0m\u001b[0m\n\u001b[1;32m      6\u001b[0m \u001b[0;34m\u001b[0m\u001b[0m\n\u001b[0;32m----> 7\u001b[0;31m \u001b[0mprint\u001b[0m\u001b[0;34m(\u001b[0m\u001b[0ma\u001b[0m\u001b[0;34m+\u001b[0m\u001b[0mb\u001b[0m\u001b[0;34m)\u001b[0m\u001b[0;34m\u001b[0m\u001b[0;34m\u001b[0m\u001b[0m\n\u001b[0m",
            "\u001b[0;31mValueError\u001b[0m: operands could not be broadcast together with shapes (4,4) (2,2) "
          ]
        }
      ]
    },
    {
      "cell_type": "markdown",
      "source": [
        "### Working with mathematical formulas"
      ],
      "metadata": {
        "id": "4M7EYo1GbR9I"
      }
    },
    {
      "cell_type": "code",
      "source": [
        "a = np.arange(10)\n",
        "np.sin(a)"
      ],
      "metadata": {
        "colab": {
          "base_uri": "https://localhost:8080/"
        },
        "id": "i0eJdEeUsr0h",
        "outputId": "a4399c64-64cf-4447-f82a-cac5accd3254"
      },
      "execution_count": 40,
      "outputs": [
        {
          "output_type": "execute_result",
          "data": {
            "text/plain": [
              "array([ 0.        ,  0.84147098,  0.90929743,  0.14112001, -0.7568025 ,\n",
              "       -0.95892427, -0.2794155 ,  0.6569866 ,  0.98935825,  0.41211849])"
            ]
          },
          "metadata": {},
          "execution_count": 40
        }
      ]
    },
    {
      "cell_type": "markdown",
      "source": [
        "**Sigmoid Function**"
      ],
      "metadata": {
        "id": "dzEdgmAmwAuS"
      }
    },
    {
      "cell_type": "markdown",
      "source": [
        "![image.png](data:image/png;base64,iVBORw0KGgoAAAANSUhEUgAAATUAAAClCAIAAACybP2kAAAfrklEQVR4Ae2di1cTR/vHf//JJgQQAoncCQhGbtJW3mgpFKtWq7Z4rde+AoovWsWDtYqIUuU1faWCgJejr4IXtN6AIxcVtEAECyoFxQsqipe3es7zM5lkM9lcSCDBDTx7PMfZ2WeeefYz+2Ums7O7/8fghgSQAF8J/B9fA8O4kAASYFCfeBEgAf4SQH3yt20wMiSA+sRrAAnwlwDqk79tg5EhAdQnXgNIgL8EUJ/8bRuMDAmgPvEaQAL8JYD65G/bYGRIAPWJ18AIJCAQCMRi8Qg4MdTnCGhEPAUDAn5+fgUFBR0dHZ9++qnBASfcQX06YaNhyIYERCKRl5eXj49PWFhYRkZGfX09aLbo6GhDQ+fbQ306X5thxBwCmzZtOnfuXENDQ3d3N1Em6pODCHeRwEcjsH379r///rurq+vSpUt79uxhJYr950drEqwYCbAE/P39p0yZMnny5MDAwMjISNQnSwYTSIBfBFCf/GoPjAYJ0ARQnzQNTCMBfhFAffKrPTAaJEATQH3SNDCNBPhFAPXJr/bAaJAATYDW56xZs+hDzpjG9QnO2GoYs1kCtD5jYmLM2jnJAdSnkzQUhmkdAdSndZzQCgl8DAKoz49BHetEAtYRoPU5ceJE6wrx1wrHt/xtG4xsEARQn4OAhkWQwDARQH0OE2isBgkMggCtz9jY2EF44FURHN/yqjkwmKESQH0OlaBTlw8KCpLL5SKRaIhnIRQKIyIiIiMjh+gHi3MIoD45QEbR7ieffHL8+PGOjo6goKAhnnZ0dLRKpSovL586deoQXWFxqVQ6derU+Pj4uLi43Nxc9vnPvLy8NWvWTNdsvr6+zghq1I1vRSJRUlJSenp6SUnJ77//npeXt2zZMplMRhpvwYIFBw4c8PDwMG7LhISE+vr6vr6+VatWGR8dRE5SUlJ/f39jY+M//vGPQRTHIiyBdevWsZo0l9i4cSNr70SJ0aXP8ePH79y5s7W1ldOKNTU148ePnzVrVmdn5/nz541fzfjpp5+ePHkSAH7++Wc7tu6OHTsA4Pjx4yEhIXZ0O9pcpaSkVFRUHD16tLS0VKlU5ubmbtmyJTc3V6lUlpaWHj16tKKiIi0tzRmxjCJ9xsbGnjlzBgBevnyZnZ39/fffJyUlZWZm1tTUAMDVq1cbGhoAYOfOncYNuXPnTgC4dOmSfYUkFotra2sBoLCwcMyYMcb1Ys4oJzBa9BkZGVlWVgYAKpVKLpfTre7i4kLkRzrVGTNm0EcZhvniiy86OzsB4IcffuAcGvru3LlzX758+fjxY+N6h+4cPTg7gVGhT29v78LCQgBobm7miJO0X2BgYGVlJQB0d3dHRETQjSqVSs+ePQsAZ86ccXd3pw/ZJe3i4nL+/HkAOHjw4NixY+3iE52MGAKjQp8LFix4+PAhABQUFJhrueLiYgC4fPky58fn1KlTX7x4AQCO+wFDpjfu3r0bHx9vLjzMH50ERr4+xWIx6TwBIDk52VwzZ2dnA8C+fftoA5FIpFQqAaC9vV0ikdCH7JgeO3Zsb28vAJSWljqii7ZjqOhqmAmMfH1+9tln169fJ78tly5dao7vsWPH3r59+/3339MGCoWiuroaAE6fPk3n2z196dIlALhy5UpoaKjdnaND5yUw8vX54Zsc7N2UoqIik/c2GYYpKytra2vj/DqdPHnys2fPAGDt2rXWtHFoaOi4ceOkUilt7O3tHRAQYPn+eHp6OgC8evXqiy++oMtiepQTGPn6lMlkt27dYiV69uzZWbNmBQUFcYTq5eUVEBDAuRq2b98OAO/evYuKiuIc4uyGhYXt37+/rKxMpVIdPnw4MzNTKpV6e3tnZmb+9ttvtbW1eXl5M2bMEAqFnIJkVy6Xv3v3DgB++eUXkwaYOToJjHx9enh4XLhwgdXnh9sk/f39tbW1hw8f3rx5c0JCAmdCiL0OhEIhmbl9+vRpcHAwm2+ciI2NrampefXq1bVr12prax89egQASqUyPz8fAEpKSqqqqgDgr7/+mjdvnnFxhmF8fX2fPn0KACdPnnRzczNpg5mjkMDI1yfDMIsXL37+/DktUTb98OFDpVJp8lefTCa7ffs20ZW3t7e5i0Mul1+/fr2zszMxMVEikYhEom3btrH+jx8/rlAoSktL+/v7jeefWJ8eHh5dXV3k9qzlkTBbhGGYsLCwdUPbpk2bRjvENN8IjAp9SiSSrKysnp4eVjacRF1dnfHgViaT3blzBwBu3brl6upqsuW8vLxOnDjxYQy8Zs0a1iApKYn47+joiIiI+Prrr9nq9uzZw5rRCYFAQFYd3rlzZ9y4cfQhC+nTp0+zngeXaGpqcty8tIXI8ZCVBEaFPgkLhUKRnZ198uRJ+ucoe1lv3ryZgywhIeHJkycAcP36dc4hdlehULx58+bq1av0D0tyq4YMVhmGiY2NJbW0t7d//fXXbFlO4tq1awDQ09PDWSDBMaN3AwICJlnc5syZQx//TLd9qtvGjx9PO8Q03wiMIn0S9MHBweHh4fPnz1cqlX/99RdRDgBUVFRwVsBGRkaSlQmXL18212wJCQmtra1JSUmsgVAorKioIG7T09MZhvHw8Jg2bZpSqbQ8N3vx4kUAePHiBW/fauXu7v4dbvYmwF45JhMjWZ8CgcDNzU0gEJg8c4Zhvv322/v37xMt1dfXc4a4kZGR79+/B4Dy8nJzHlxdXTl3U6Kjo2/cuAEAz58/N1fKZD4ZJ79//563C3Hd3d3ZP2eYsAuBqqoqkxcDmzmS9Tlp0qTz589/88037NkaJ06dOkVA19XVcX6JRUREkFmlc+fOGRc0lxMTE/Pq1SsAGBA9xwPpdd+8ecPbt+a4u7uX42ZvApzLgLM7kvW5YcMGAJg5cybnnOnd1NRUos9Tp05x3loyfvz4P//8EwBqa2vpIpbTW7ZsIQ4PHDgwefJky8b00StXrgBAb2+v9foUiUT+Q9vYB9PpSDDNHwIjVp9ubm7//e9/Pyx5t/yOH3YKdNOmTZxWkclk5OHMpqYmjnRpS7FYHBgYSG6iikQitkPmrKcfN25cTEyMi4sLXZZONzc3A0BnZ6eV80MCgSArK0ulUjUNdmtubj506BDebqVbgW/pEavP4OBgcsdi9uzZ5qCPHTuWzOU2NjYqFAqOmY+PDxlz3rlzx9wahg/i/89//nP16tXjx4+LxeKIiIiOjg7Sf9K3Mb29vevr69va2vz8/Di1kF1XV9e7d+8CQGtrq/UvN1q8eHF5efmJIWx5eXkW/vSYDBUzh5PAiNXn9OnTiU6USqU5oLt37yY2OTk5xjaurq6lpaUA8PjxY39/f2MDmUx25MgR4qG1tdXf3z8lJYXs9vX1LViwgC2yd+9eADh8+LC5ySqpVPr48WMAqK6u5kxTsU6MEyJ7bMZuMYc/BEasPnft2kWkcvfu3eXLlxsTX7JkCZFEY2Mj3dfRluvXrweAt2/fctbNExuZTKZSqUgt+/bt8/b2LioqIrstLS3s+l6ZTPb333/fuHHDwsA1NDT07du3AFBUVEQHgOlRTmBk6tPNzY0MTYl+7t27l5+fP3PmzNjY2Ojo6ClTpuTk5JB7m+fOnQsPDzd3ESgUipcvXwLAt99+a2wjkUjIU90XLlxITEwkb3Ykt0k+3MlcsWKFQqFYv349Wbi3YsUKYw9szoIFC4iwjX8GszaYGIUERqY+g4ODm5qabt26FR8fn5eXd/PmTXL1P336tLm5mTwp0t3d/dtvv1le+P7hlapXr14li91NXhwzZ85kf3D29fUdO3YsNjZ29+7d7e3tpEYAqKmpSU1NNTeyJW7JVFZfXx9vb36aPH3MdDSBkalPuVx+586dxMREhmGEQmF0dHROTs6RI0cqKyubmprq6up27NiRmJhoblUtC93V1ZU8+1JbW2tunjMmJmbp0qVpaWkJCQlknOzn5zdp0qSlS5dmZGR89dVXA97DGDNmDOljz5w549SvIFIoFJmZmeZ+LLBUMWE9gZGpT4FA4OnpyaHg4eHh4+Pj5eXFWYfAMePsJicnv3jx4vXr1wkJCZxD9tpdtGgR6Wx//PFHe/kcTj9CoVAmk+Xk5JAJc96uTxxOJvaqa2Tq0150PrxXISAggLyZ+vDhw3Z0S7s6evQoADQ2NjrXavUVK1bs2bOnuLi4srKSPOhD/srYV59CodCJ7gCJRKLw8PCEhIT4+PjAwEDyZG9cXNy0adMGN6xAfdJKMZ1euXLl+/fv7927Z3IW13QZq3OjoqLIxb1+/XqrC/HCkH1M59WrV01NTezvbfvq84cfflAqlebuP/MCBBXEN998097e/vr160ePHlVXV3/55Ze1tbUtLS0vXrwoLy8fxFmgPim6ZpI+Pj7kxfNHjhwxYzL47PLycvJeT0eIf/BhWVEyNTV127Zty5Ytmz59+pw5cxykz7KyspaWFuvXbFgRuKNMJkyYAAA7duzw9/dfuHAhAPz+++8f7iNkZGQ8fPjw6dOnFu4UmIsJ9WmOjEF+VFTUH3/80dvbu3LlSoMDQ9tZvXr1h7d+3r9/39k/kUQuTbuPbwUCwYkTJ5qamvivTx8fn8OHD9fU1JCJ+vDwcPI0r0KhKCkpAYC2tjYLN8DNXUeoT3NkuPmTJ09+8uSJSqWy/Bgnt5j5/fDw8NbW1rdv386aNcu8lXMcGWH6DAkJkVu3sd/j8fDw+PCBAnLLgGEYsrLl4sWLYrF48eLFxcXFxgtIrWla1Kc1lNQ2AoEgMTHxwYMHDQ0NJpf7WetIYycWi6urq+/du7dw4UKbCvLT2EH6FAqFDuo/XV1dw8LC5HJ5aGgo5wle9qNV7IjdQqKqqop9pTibEAqFZGWoudfZWN+IqE/rWakt4+LisrOzB/FDn1ONp6fnzz//vGjRIk6+k+46SJ8fHqCzuz4lEsm8efOKiopqa2t7e3t7enoqKipSU1Pp+VV/f38f6zYySctpNZlMRj6K991333EO2bqL+rSVGNqbIOAgfdq3/xQKhfHx8ceOHXvw4EFXV9epU6e2bNlSXFzc2NgIALt27TJxYlZnCQSCoKCgxMREkUgUERHR1dX14sUL9lGH9PT0JUuWWF5DZrIq1KdJLJhpGwFan59//rlthc1b21efM2bMIKuyu7q6kpOT2WUqZH1IdXW1l5eX+VgGODJjxgwyIRQeHr5582byWD9x6Obm1tLSsnfvXtTnABDxsIMI0Pq04/1PO+pzypQp5GekSqXiTNWQRxHPnz8/lMWVBw4cIK8vjomJIY/ylpSUjBkzRiQSbdy48datW4O4ucIwDPafDrpiR5dbnuszNDSUPOcAAJwnhCQSCXkMOC8vz3hNqPWtuGLFCgC4cOGCSqW6ePEieYxp586dVVVVz54927RpE/0GVuvdoj6tZ4WWZgkMWp9isfhf//rXGjNbenr62bNnVSpVVlaWGZM169at40zAGkdJPrRB+rfZs2f7+/vLZLKoqKiMjIzjx48DwIdnJwb8xI6xWzpHJBJ9+eWXJSUlP/30U3BwsFQq3bRp08GDB7du3crprulSA6ZRnwMiQoOBCdD6tP79ZgzDsMNOC/cwBjy0evVqCyFKJBLyhXIAuHnzZkdHR3d3d19fH3F7/fr1HTt28HbxFurTQsviIWsJDFqfpP/8l5ktIyOjoqJCpVJt2bLFjMm/Nm7cSN8aMY44PDy8oaGBqPH06dP79+8vKCjYtm1bamrq9OnTQ0ND+bz+HvVp3KCYYzOBQevTck12mR+aOHEi+aIcANAvhbJcNU+Ooj550hDOHQaf9RkbG/u///2PvFvY6dY5oz6dWxg8iZ7P+pTL5eRDOzdu3GAXDHC4icXioczicLzZcRf1aUeYo9cVn/UplUrZ358m+8+YmBgygWThK68fq2lRnx+LvNPX6+HhERgY6OPj4+vrS1bPkDmY7777LiwsTCKRyGSyoazIIe+Ossv62+XLl5PYdu/eTXP39PT88ccf7927BwC5ubnsK1Fpm4+bRn1+XP5OXHtCQkJ7e7tKpWpubiafbCMa6O/vb9Fs7e3tmZmZQzlDu8wPMQzj7+9P7nM+evRo69atkydPXrhwoVKprKurIzdFMzIyhvinZCinaaEs6tMCHDxkiQD59mkztRGtshltbW080SfDMNHR0Xl5eez7xMmfkps3byqVyqlTp1o6z496DPX5UfE7c+UeHh6hoaEymcxXt0VGRuqS6v8nTJgwlBVzdhzfEswikUgul3/11VcrV65MS0ubM2dOaGioudem8qRlUJ88aQgMwwQBoVDoRO8fMnECQ85CfQ4ZITpwGAGhULh8+XKlUjmUJ0scFt1wOEZ9DgdlrGPQBAQCweCe/Bh0jbwqiPrkVXNgMEjAgADq0wAH7iABXhFAffKqOTAYJGBAAPVpgAN3kACvCKA+edUcGAwSMCCA+jTAgTtIgFcEUJ+8ag4MBgkYEEB9GuDAHSTAKwKoT141BwaDBAwIoD4NcOAOEuAVAdQnr5oDg0ECBgRQnwY4cAcJ8IoA6pNXzYHBIAEDAqhPAxy4gwR4RQD1yavmwGCQgAEB1KcBDtxBArwigPrkVXNgMEjAgADq0wAH7iABXhFAffKqOTAYJGBAAPVpgAN3kACvCAygTxcXF/rriAKBgI4+ICDg5MmTrq6udKbJtFAo3L9/v01fbjXpBzORwKgiYFaf/v7+CxYs2LNnT3Fx8aZNm2QyWUxMTFFREStXiUSSl5d39uxZd3d3a5CtWbPm1atXQUFB1hijDRJAAgzDmNZnUFBQUVHR27dvq6urs7Kybt68efv27crKytzcXELN1dU1Nzf3yZMn1utNIBDk5+c3NjZa/toxtgoSQAIsARP69Pb2zs7OBoCJEycSu7Fjx5aXlwPAjBkzSI5Cobh///7KlStZR9YkpFJpXV3dTz/9NJrfaGoNKLRBAoSACX3K5fL79+8fO3aMZpSVlfXnn3+Srk8sFhcVFTU1NUmlUtrGmnRubm59fb2/v781xmiDBEY5Aa4+hUJheno6AKxfv55Gs3z58tLSUjIVFBUV1dvbW1BQQBtYmZ40aRIA8PmLUVaeCJohgWEgwNUnwzC5ubkAUFdXt2jRopCQEDL94+PjM3/+fBIQ+RjrqlWrOPGFhITk5OScPXt27dq1AQEBKSkp5eXls2fPpj8R5e3t3dDQsHbtWhcXF05x3EUCSIBDwIQ+ly1bRr6OSFRaWFi4aNEiWmPka8RxcXG0r8DAwK6ursbGxsLCwidPnuTl5TU1NR08eBAAQkNDWUtXV9eqqqpffvlFLBazmUNP5Nf09NTkD92PsYfV5bd7bpetNjpgpkZ1tnozVcTIx4AZ+TU9t8tSNWapZeo4SHrAcmgwUgiY0KdYLF63bl1dXV1/fz/7ReS1a9eSUxaJRJmZme/fvw8JCWEhuLu7Z2VlNTY2enp6enl5NTQ09PX1zZ0798qVKwAwbdo01lIgEJw5c+bChQu0aNmjTpQwrc+9akEZi3mw50Xpc7AusJxTEzChT4ZhXFxcAgMDP/nkk6ysrDt37gBAQUEB6fFcXFx27drV2dlJTw4JBIIbN25MmDCBfEu8o6Pj4sWLYrE4OTl53759Hh4eNKMjR47cu3dv8HdZ1D2JdrtdrtUCpZbV7OGacrbP0Vzoe3VH1BLSdXQGnRKb2cN6Nug/9VXX1Bj12GpL3VazV1MB26Xrez9NJOXaXtag09c7J7Xrg6nZyzB6DwyjD94wzpoy3Rnq82nymHY6Agb69PT0zM7O5shpyZIlAHDt2jUyxHV1dVUqlSqVKjAwkD5bdt3CrFmzACA7O5s+SqeLi4vfvXtHd7/ao3vZq1Z3mff0qC9Ng02jRG2mPq1Jqce36oS2ByNCJWNCdbYuX5PWyZItqC2qFbzGjSat16dGP9p4SKis/NgIqf6T8kyrS1M7HaHWicace15U/6nXpz42Omby14EKDwfDbKs4ccJAn35+fgDg5+dHn1BcXBwAVFdXE326uLhkZGT09fXR/SfDMG5ubmQm6ddffwWAxMRE0g9LJBLOqsATJ0709PRERkbStVidpq9jfSFNbr7meqWuS7WK9Ppkpa4z1hTXKUqvQ+JVXVYtHTafTZDjBk7YQHTetH8pWAEbqouNhPXJJlhPmoQJfXItjeLUFTT+02boG/ecgYCBPpOSkp49exYQEEBHnp+f/+bNm3nz5pFMoVA4b948AKAX03p5eR05cuTo0aMhISHNzc3Pnz8PDg5mGIbMJHl6erIORSLRhQsXWlpaBn0LVH2Bko29+kk/UpOvGQRSuWZUob7qdQNjRqcort7UZQ30yTFQh0FVpT1BnTdb9clxrsNlQp9cS6M4NWU1Vtyhh84r/u88BAz0uXXrVgAoLCwkPw6FQmFsbGxtbW1RUZFEImFP6rPPPnv//v3ChQvZnPnz5wNAa2vrihUrOjo6yCI+X1/fBw8epKens2YMw3h6etbW1h46dMjEqnoyaNSPbdUptquhnajTOmOiNO1Vq7tYtcaoTy413HcyAnp9enh4VFZWFhcXX7x4saWlpby8vKmpCQAOHTokl8vp0woLC7t79+6///1vNjMgIKCrq6uzsxMAVq1a1d3d/ccffwBASUmJl5cXa8YwjJ+fX29v78aNG+nMQafZwZ6uV6E6HK2GTY9vjftP1pU2GKNxI8dAV6Nh7IPtPznOdU6p09H9reFaGsWpKYv9pw6hk/+v16ebm1txcbFUKvX19V23bt2vv/66YcOGqKgozu9M8lOzoqLi6tWr7JwQwzABAQEbNmyIi4tzdXWVy+VpaWnjxo0bO3Ysh8/y5cu7u7sH++NTN2zUjtzUM0AG/ad2woTc4eDOD7FdscnxLT3XQqcpPVAXPem9LY5v1QV1I2B1SVO/hE07Z9jzMqFPOjY6TbniUOK0AO46EwG9Pm2KetmyZa9fvyaTQNYXHDNmzIkTJ/bv3z+kxQm6ka1m+Ktdk0D1ZkSWmoPq+ytEQ5S0NBe1cf+pOQuNjjQDbNbA4LpXd2LkcFmZ0f0VtQeq/2Q0MiPmNXtZpRlEYtq5elhPnVeP5m+Qrv+0Kk5ycwd/f1p/afLVcpD69PLyqqysPHr0qJUPf5LT/+c//3n//n16YsmxWNTXtO5Kd2xN6B0JOITAIPXJMExUVFR9fX1KSoqVccXExADA6tWrTcwMWeliYDOD3kmz45BFfwMHghZIwB4EBq9PhmHCw8O7urri4+MHjEQgEFRWVhYVFXEWPwxY0GYDU6Nfm51gASTADwJD0ieZK+IsPzB3Xm5ubvhYtjk4mI8ETBIYqj5NOsVMJIAE7EIA9WkXjOgECTiEAOrTIVjRKRKwCwHUp10wohMk4BACqE+HYEWnSMAuBFCfdsGITpCAQwigPh2CFZ0iAbsQQH3aBSM6QQIOIYD6dAhWdIoE7EIA9WkXjOgECTiEAOrTIVjRKRKwCwHUp10wohMk4BACqE+HYEWnSMAuBMzq08qnUuwSBDpBAkjAJAET+vT19U1JSTl37lxBQcG0adNQqCbBYSYSGAYCBvoUiUQzZ85sa2urqanJy8u7fv36UF5U66Dog3L69lQC919hiYXqFIWwx6IBXVbt32pjuqAd0tOrN1f2JU+3gyd0MTII6PUpFArnzp1L3n9L3tknl8sBwPov2A8PkUHoB/U5PE2DtdidgF6foaGhbW1tfX19n3/+eWBgYGpqan9/v+kXSds9ClscWtCn+tDJ6iCtt5K0SkjTfD/JQJ+rb7N9LznKMIyiENJyqjeru+W+ZYVs/6n2oDU21aNqIqlOPqm12ZyjfamvQXX6LrEkrbIveTWpBTRxsv51fabGOK1QN0CgKx0obOx1bbmInMZWr8+pU6cCQK9me/369d27d7dv32788lsHnhn96iDyXkpT748fkj7VV/ltBTkHvXLU+tTnr76tUdrG5JOgkxyd1gNQR6L7E8CoPWtlZl6fRJYMwxBlGtmrQ2Jt1JVqR9rWhK2PC1Mjh4Ben+SzvMXFxT4+PmPGjKHfPc2r0yWqYPtAkiA9ofqQpf5TfcWzfSbDMKzUDRSlPVvTmqRRDFSdxlb/V0Dfn5MeW/8rd/Vtbdh6Y01ZrSxtCpsOENNOT0CvT/KdssLCQvacBAJBSkrKkN4lzfqyX4IVlbHLgQTDjid1o9ZKbQdlSp+MpkvUWOo1b1DnQNVpjPWS4+pT1zlrKiJVqI113TvDMNqyNoZtECPuODcBvT4DAwMrKysvX74sFouFQqFUKj127Fh/f390dPQwnaLDx7cGCqFPyrQ+iYVaJBqV0r8GNYeGU590t89Gbils1ggTzkxAr0+GYVJSUh48eNDQ0NDS0gIAVVVVtn7BYRhQDKH/NDtkHfhCp38B6k7SMfrUzRUxpAO/rWCGELYuVPzfSQkY6JNhmJCQkNmzZ8+cOTMkJIRvI1uC2II+6UkatZlu8kYvP2oWh6Gue72BvhkNVGHKQPPzVT/01XfOmqq1w1R1Qe28kd6A/P40M77VzQlp5pC0NjaErT8BTI0AAlx98v+UiPA480Ps7KtGD+rh6OacEnY2iFYXXZxVCG2gJ8CObPVzqvqD2uklU/okytdNXGluq6iXHFipz9vJ7AIMakRtQ9gGMeKOcxNwPn06N2+MHgnYQgD1aQsttEUCw0sA9Tm8vLE2JGALAdSnLbTQFgkMLwHU5/DyxtqQgC0EUJ+20EJbJDC8BFCfw8sba0MCthBAfdpCC22RwPASQH0OL2+sDQnYQgD1aQsttEUCw0sA9Tm8vLE2JGALAdSnLbTQFgkMLwHU5/DyxtqQgC0EUJ+20EJbJDC8BFCfw8sba0MCthBAfdpCC22RwPAS+H8z9cGkGzu0kAAAAABJRU5ErkJggg==)"
      ],
      "metadata": {
        "id": "7tAgHXTLv-lK"
      }
    },
    {
      "cell_type": "code",
      "source": [
        "# sigmoid\n",
        "def sigmoid(array):\n",
        "  return 1/(1+np.exp(-array))\n",
        "\n",
        "a = np.arange(10)\n",
        "sigmoid(a)"
      ],
      "metadata": {
        "colab": {
          "base_uri": "https://localhost:8080/"
        },
        "id": "fgqyqLHEs9Tb",
        "outputId": "afd5b6f3-d319-449a-afa6-c514e6af10aa"
      },
      "execution_count": 42,
      "outputs": [
        {
          "output_type": "execute_result",
          "data": {
            "text/plain": [
              "array([0.5       , 0.73105858, 0.88079708, 0.95257413, 0.98201379,\n",
              "       0.99330715, 0.99752738, 0.99908895, 0.99966465, 0.99987661])"
            ]
          },
          "metadata": {},
          "execution_count": 42
        }
      ]
    },
    {
      "cell_type": "markdown",
      "source": [
        "**Mean Squared Error**"
      ],
      "metadata": {
        "id": "R83ulWgKwGbC"
      }
    },
    {
      "cell_type": "markdown",
      "source": [
        "![image.png](data:image/png;base64,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)"
      ],
      "metadata": {
        "id": "lUWcj9gYvYRe"
      }
    },
    {
      "cell_type": "code",
      "source": [
        "# mean squared error\n",
        "\n",
        "actual = np.random.randint(1,50,25)\n",
        "predicted = np.random.randint(1,50,25)"
      ],
      "metadata": {
        "id": "dl9fUF71tMIN"
      },
      "execution_count": 43,
      "outputs": []
    },
    {
      "cell_type": "code",
      "source": [
        "actual"
      ],
      "metadata": {
        "colab": {
          "base_uri": "https://localhost:8080/"
        },
        "id": "OP14koKmxQZM",
        "outputId": "15c91a4c-9a56-43a4-8242-42b008b77a7e"
      },
      "execution_count": 44,
      "outputs": [
        {
          "output_type": "execute_result",
          "data": {
            "text/plain": [
              "array([40,  3, 47, 20,  3,  7, 31, 47, 26,  5, 19,  8, 38, 46,  8, 11, 18,\n",
              "       39, 28, 38, 17, 14, 18, 15,  1])"
            ]
          },
          "metadata": {},
          "execution_count": 44
        }
      ]
    },
    {
      "cell_type": "code",
      "source": [
        "predicted"
      ],
      "metadata": {
        "colab": {
          "base_uri": "https://localhost:8080/"
        },
        "id": "z0_ZV1z_xV4R",
        "outputId": "0accc3b3-2d6a-43c0-b311-ed33f780bfd1"
      },
      "execution_count": 45,
      "outputs": [
        {
          "output_type": "execute_result",
          "data": {
            "text/plain": [
              "array([37, 25, 42, 40, 47, 27,  7,  4, 31,  4, 37, 36, 32, 35, 23, 33, 17,\n",
              "        9, 26, 28, 14, 47, 23, 20, 35])"
            ]
          },
          "metadata": {},
          "execution_count": 45
        }
      ]
    },
    {
      "cell_type": "code",
      "source": [
        "def mse(actual,predicted):\n",
        "  return np.mean((actual - predicted)**2)"
      ],
      "metadata": {
        "id": "QhObIhyxxZVR"
      },
      "execution_count": 48,
      "outputs": []
    },
    {
      "cell_type": "code",
      "source": [
        "mse(actual,predicted)"
      ],
      "metadata": {
        "colab": {
          "base_uri": "https://localhost:8080/"
        },
        "id": "eCXggwI-xoBw",
        "outputId": "cd91341b-9aa4-4ace-9d12-3a11fe0d0777"
      },
      "execution_count": 49,
      "outputs": [
        {
          "output_type": "execute_result",
          "data": {
            "text/plain": [
              "439.52"
            ]
          },
          "metadata": {},
          "execution_count": 49
        }
      ]
    },
    {
      "cell_type": "markdown",
      "source": [
        "**Binary Cross Entropy**"
      ],
      "metadata": {
        "id": "cYUqroUavwHB"
      }
    },
    {
      "cell_type": "markdown",
      "source": [
        "![image.png](data:image/png;base64,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)"
      ],
      "metadata": {
        "id": "KOS5hS3M0DDo"
      }
    },
    {
      "cell_type": "markdown",
      "source": [
        "https://towardsdatascience.com/understanding-binary-cross-entropy-log-loss-a-visual-explanation-a3ac6025181a"
      ],
      "metadata": {
        "id": "P3wCGNKs3-ce"
      }
    },
    {
      "cell_type": "code",
      "source": [
        "actual = np.random.randint(1,50,25)\n",
        "predicted = np.random.random(25)"
      ],
      "metadata": {
        "id": "4PfBS-Ohy2OT"
      },
      "execution_count": 61,
      "outputs": []
    },
    {
      "cell_type": "code",
      "source": [
        "actual"
      ],
      "metadata": {
        "colab": {
          "base_uri": "https://localhost:8080/"
        },
        "id": "6cOjo-jWy2ME",
        "outputId": "1835441b-1bf7-4fa1-8e85-451ce6f4ccd9"
      },
      "execution_count": 62,
      "outputs": [
        {
          "output_type": "execute_result",
          "data": {
            "text/plain": [
              "array([45, 42, 17, 34, 27,  9,  5, 11, 21, 43, 36, 15, 11, 49, 34, 42, 47,\n",
              "        4, 17,  2, 18, 13, 44, 21, 19])"
            ]
          },
          "metadata": {},
          "execution_count": 62
        }
      ]
    },
    {
      "cell_type": "code",
      "source": [
        "predicted"
      ],
      "metadata": {
        "colab": {
          "base_uri": "https://localhost:8080/"
        },
        "id": "Lm3eGQzJ2NC1",
        "outputId": "cfb3eded-90cb-40a0-b143-6edfa6d60ad4"
      },
      "execution_count": 63,
      "outputs": [
        {
          "output_type": "execute_result",
          "data": {
            "text/plain": [
              "array([0.68067151, 0.44440452, 0.11803839, 0.55314884, 0.12258991,\n",
              "       0.20627884, 0.76323328, 0.61461092, 0.48611229, 0.97551471,\n",
              "       0.16419026, 0.50061216, 0.52884811, 0.39786695, 0.72926263,\n",
              "       0.95567606, 0.76646313, 0.16333319, 0.10195176, 0.84095076,\n",
              "       0.22961881, 0.91856006, 0.34311643, 0.97836263, 0.08494698])"
            ]
          },
          "metadata": {},
          "execution_count": 63
        }
      ]
    },
    {
      "cell_type": "code",
      "source": [
        "def bce(actual,predicted):\n",
        "    return -np.mean(actual*np.log(predicted)+(1-actual)*np.log(1-predicted))"
      ],
      "metadata": {
        "id": "z2foGElc2UZ5"
      },
      "execution_count": 64,
      "outputs": []
    },
    {
      "cell_type": "code",
      "source": [
        "bce(actual,predicted)"
      ],
      "metadata": {
        "colab": {
          "base_uri": "https://localhost:8080/"
        },
        "id": "2APGz12k2oH3",
        "outputId": "a8ab40a3-d06f-46ec-8555-e731aa9decd1"
      },
      "execution_count": 65,
      "outputs": [
        {
          "output_type": "execute_result",
          "data": {
            "text/plain": [
              "-7.619033870177454"
            ]
          },
          "metadata": {},
          "execution_count": 65
        }
      ]
    },
    {
      "cell_type": "markdown",
      "source": [
        "### Working with missing values"
      ],
      "metadata": {
        "id": "aSsYEJ1s4WVj"
      }
    },
    {
      "cell_type": "code",
      "source": [
        "# Working with missing values -> np.nan\n",
        "a = np.array([1,2,3,np.nan,5,6,7,np.nan])\n",
        "a"
      ],
      "metadata": {
        "colab": {
          "base_uri": "https://localhost:8080/"
        },
        "id": "EaCEVQFf2yBn",
        "outputId": "39015911-685c-4b1a-dfa0-904f7132dec4"
      },
      "execution_count": 68,
      "outputs": [
        {
          "output_type": "execute_result",
          "data": {
            "text/plain": [
              "array([ 1.,  2.,  3., nan,  5.,  6.,  7., nan])"
            ]
          },
          "metadata": {},
          "execution_count": 68
        }
      ]
    },
    {
      "cell_type": "code",
      "source": [
        "~np.isnan(a)"
      ],
      "metadata": {
        "colab": {
          "base_uri": "https://localhost:8080/"
        },
        "id": "96AVXmmJ2x-t",
        "outputId": "0402c83a-2f46-47d3-d5c5-ea62c8848a89"
      },
      "execution_count": 70,
      "outputs": [
        {
          "output_type": "execute_result",
          "data": {
            "text/plain": [
              "array([ True,  True,  True, False,  True,  True,  True, False])"
            ]
          },
          "metadata": {},
          "execution_count": 70
        }
      ]
    },
    {
      "cell_type": "code",
      "source": [
        "a[~np.isnan(a)]"
      ],
      "metadata": {
        "colab": {
          "base_uri": "https://localhost:8080/"
        },
        "id": "G0gOsLZ62x73",
        "outputId": "5ec4993c-70a7-4cdc-ff00-78c61325f885"
      },
      "execution_count": 71,
      "outputs": [
        {
          "output_type": "execute_result",
          "data": {
            "text/plain": [
              "array([1., 2., 3., 5., 6., 7.])"
            ]
          },
          "metadata": {},
          "execution_count": 71
        }
      ]
    },
    {
      "cell_type": "markdown",
      "source": [
        "NONE and nan are similar, but in Numpy we use nan for missing values."
      ],
      "metadata": {
        "id": "7QGGRKhb2Otu"
      }
    },
    {
      "cell_type": "markdown",
      "source": [
        "### Plotting Graphs"
      ],
      "metadata": {
        "id": "PwNkOHKh5Rv9"
      }
    },
    {
      "cell_type": "code",
      "source": [
        "# plotting a 2D plot\n",
        "# x = y\n",
        "import matplotlib.pyplot as plt\n",
        "import numpy as np\n",
        "\n",
        "x = np.linspace(-10,10,100)\n",
        "y = x\n",
        "plt.plot(x,y)\n",
        "# plt.show()"
      ],
      "metadata": {
        "colab": {
          "base_uri": "https://localhost:8080/",
          "height": 447
        },
        "id": "XQBFlwZB5Rct",
        "outputId": "ec673ef5-cbb0-4d22-825b-275a85891258"
      },
      "execution_count": 74,
      "outputs": [
        {
          "output_type": "execute_result",
          "data": {
            "text/plain": [
              "[<matplotlib.lines.Line2D at 0x7808db4fe4d0>]"
            ]
          },
          "metadata": {},
          "execution_count": 74
        },
        {
          "output_type": "display_data",
          "data": {
            "text/plain": [
              "<Figure size 640x480 with 1 Axes>"
            ],
            "image/png": "[encoded data removed]"
          },
          "metadata": {}
        }
      ]
    },
    {
      "cell_type": "code",
      "source": [
        "# y = x^2\n",
        "x = np.linspace(-10,10,100)\n",
        "y = x**2\n",
        "plt.plot(x,y)"
      ],
      "metadata": {
        "colab": {
          "base_uri": "https://localhost:8080/",
          "height": 447
        },
        "id": "61VIWZjz7F3Q",
        "outputId": "537361f5-dc53-4c83-bda6-53cae046ab3b"
      },
      "execution_count": 75,
      "outputs": [
        {
          "output_type": "execute_result",
          "data": {
            "text/plain": [
              "[<matplotlib.lines.Line2D at 0x7808db1ab190>]"
            ]
          },
          "metadata": {},
          "execution_count": 75
        },
        {
          "output_type": "display_data",
          "data": {
            "text/plain": [
              "<Figure size 640x480 with 1 Axes>"
            ],
            "image/png": "[encoded data removed]"
          },
          "metadata": {}
        }
      ]
    },
    {
      "cell_type": "code",
      "source": [
        "# y = sin(x)\n",
        "x = np.linspace(-10,10,100)\n",
        "y = np.sin(x)\n",
        "plt.plot(x,y)"
      ],
      "metadata": {
        "colab": {
          "base_uri": "https://localhost:8080/",
          "height": 447
        },
        "id": "1TejexZ57VAD",
        "outputId": "b96a3b44-d9f4-4f29-c841-9ffee5e48155"
      },
      "execution_count": 76,
      "outputs": [
        {
          "output_type": "execute_result",
          "data": {
            "text/plain": [
              "[<matplotlib.lines.Line2D at 0x7808dac260b0>]"
            ]
          },
          "metadata": {},
          "execution_count": 76
        },
        {
          "output_type": "display_data",
          "data": {
            "text/plain": [
              "<Figure size 640x480 with 1 Axes>"
            ],
            "image/png": "[encoded data removed]"
          },
          "metadata": {}
        }
      ]
    },
    {
      "cell_type": "code",
      "source": [
        "# y = xlog(x)\n",
        "x = np.linspace(1,10,100)\n",
        "y = x*np.log(x)\n",
        "plt.plot(x,y)"
      ],
      "metadata": {
        "colab": {
          "base_uri": "https://localhost:8080/",
          "height": 447
        },
        "id": "fwrET4nD7a24",
        "outputId": "1c7b5759-a114-41e4-c00a-a15c13ab22ce"
      },
      "execution_count": 77,
      "outputs": [
        {
          "output_type": "execute_result",
          "data": {
            "text/plain": [
              "[<matplotlib.lines.Line2D at 0x7808dacab4f0>]"
            ]
          },
          "metadata": {},
          "execution_count": 77
        },
        {
          "output_type": "display_data",
          "data": {
            "text/plain": [
              "<Figure size 640x480 with 1 Axes>"
            ],
            "image/png": "[encoded data removed]"
          },
          "metadata": {}
        }
      ]
    },
    {
      "cell_type": "code",
      "source": [
        "# sigmoid\n",
        "x = np.linspace(-10,10,100)\n",
        "y = 1/(1+np.exp(-x))\n",
        "plt.plot(x,y)"
      ],
      "metadata": {
        "colab": {
          "base_uri": "https://localhost:8080/",
          "height": 447
        },
        "id": "-GW6Edcv7p9l",
        "outputId": "8b0ca2f4-046a-45e3-9670-2f9337df83ed"
      },
      "execution_count": 78,
      "outputs": [
        {
          "output_type": "execute_result",
          "data": {
            "text/plain": [
              "[<matplotlib.lines.Line2D at 0x7808db1c9360>]"
            ]
          },
          "metadata": {},
          "execution_count": 78
        },
        {
          "output_type": "display_data",
          "data": {
            "text/plain": [
              "<Figure size 640x480 with 1 Axes>"
            ],
            "image/png": "[encoded data removed]"
          },
          "metadata": {}
        }
      ]
    }
  ]
}