{
  "nbformat": 4,
  "nbformat_minor": 0,
  "metadata": {
    "colab": {
      "provenance": []
    },
    "kernelspec": {
      "name": "python3",
      "display_name": "Python 3"
    },
    "language_info": {
      "name": "python"
    }
  },
  "cells": [
    {
      "cell_type": "markdown",
      "source": [
        "Topics covered:\n",
        "\n",
        "*   What is Numpy?\n",
        "-   Creating Numpy arrays\n",
        "-   Array attributes\n",
        "-   Array operations\n",
        "-   Array functions\n",
        "-   Indexing and slicing\n",
        "-   Iterating\n",
        "-   Reshaping\n",
        "-   Stacking\n",
        "-   Splitting\n",
        "\n"
      ],
      "metadata": {
        "id": "xa1o9-D2F8_R"
      }
    },
    {
      "cell_type": "markdown",
      "source": [
        "### What is numpy?\n",
        "\n",
        "NumPy is the fundamental package for scientific computing in Python. It is a Python library that provides a multidimensional array object, various derived objects (such as masked arrays and matrices), and an assortment of routines for fast operations on arrays, including mathematical, logical, shape manipulation, sorting, selecting, I/O, discrete Fourier transforms, basic linear algebra, basic statistical operations, random simulation and much more.\n",
        "\n",
        "\n",
        "At the core of the NumPy package, is the ndarray object. This encapsulates n-dimensional arrays of homogeneous data types"
      ],
      "metadata": {
        "id": "D7DO4Iv2GGl2"
      }
    },
    {
      "cell_type": "markdown",
      "source": [
        "### Why do we need NumPy package?\n",
        "\n",
        "Python is easy-to-learn language with simple syntax, but its **datatypes** are **slow**. To enhance computing speed, NumPy datatype is created in C ( which is much faster) and integrated in python."
      ],
      "metadata": {
        "id": "lRrz9zZXHBtz"
      }
    },
    {
      "cell_type": "markdown",
      "source": [
        "### Numpy Arrays Vs Python Sequences\n",
        "\n",
        "- NumPy arrays have a fixed size at creation, unlike Python lists (which can grow dynamically). Changing the size of an ndarray will create a new array and delete the original.\n",
        "\n",
        "- The elements in a NumPy array are all required to be of the same data type, and thus will be the same size in memory.\n",
        "\n",
        "- NumPy arrays facilitate advanced mathematical and other types of operations on large numbers of data. Typically, such operations are executed more efficiently and with less code than is possible using Python’s built-in sequences.\n",
        "\n",
        "- A growing plethora of scientific and mathematical Python-based packages are using NumPy arrays; though these typically support Python-sequence input, they convert such input to NumPy arrays prior to processing, and they often output NumPy arrays."
      ],
      "metadata": {
        "id": "96LfvvX3Ghj-"
      }
    },
    {
      "cell_type": "markdown",
      "source": [
        "### Creating Numpy Arrays"
      ],
      "metadata": {
        "id": "zRkntpw5NQFz"
      }
    },
    {
      "cell_type": "markdown",
      "source": [
        "*   np.array\n",
        "*   np.arange\n",
        "*   np.ones , np.zeros, np.random\n",
        "*   np.linspace\n",
        "*   np.identity"
      ],
      "metadata": {
        "id": "BO5XqfLFTgHO"
      }
    },
    {
      "cell_type": "code",
      "execution_count": 1,
      "metadata": {
        "id": "7xLAeit2FmlY"
      },
      "outputs": [],
      "source": [
        "import numpy as np"
      ]
    },
    {
      "cell_type": "code",
      "source": [
        "# 1D array -> vector\n",
        "a = np.array([1, 2, 3, 4, 5])\n",
        "print(a)"
      ],
      "metadata": {
        "colab": {
          "base_uri": "https://localhost:8080/"
        },
        "id": "IzaHtObsNSzQ",
        "outputId": "2f30b0df-be2f-4def-938c-97f8ad5e043f"
      },
      "execution_count": 8,
      "outputs": [
        {
          "output_type": "stream",
          "name": "stdout",
          "text": [
            "[1 2 3 4 5]\n"
          ]
        }
      ]
    },
    {
      "cell_type": "code",
      "source": [
        "print(type(a))"
      ],
      "metadata": {
        "colab": {
          "base_uri": "https://localhost:8080/"
        },
        "id": "skES4gSSNZyQ",
        "outputId": "a57379d2-1a55-49aa-a6c2-01d334edc3eb"
      },
      "execution_count": 9,
      "outputs": [
        {
          "output_type": "stream",
          "name": "stdout",
          "text": [
            "<class 'numpy.ndarray'>\n"
          ]
        }
      ]
    },
    {
      "cell_type": "code",
      "source": [
        "# 2D array -> matrix\n",
        "b = np.array([[1, 2, 3], [4, 5, 6]])\n",
        "print(b)"
      ],
      "metadata": {
        "colab": {
          "base_uri": "https://localhost:8080/"
        },
        "id": "x-ou-hN_NbR1",
        "outputId": "be3ab3a0-c00d-415c-ee62-0a67150a53ce"
      },
      "execution_count": 10,
      "outputs": [
        {
          "output_type": "stream",
          "name": "stdout",
          "text": [
            "[[1 2 3]\n",
            " [4 5 6]]\n"
          ]
        }
      ]
    },
    {
      "cell_type": "code",
      "source": [
        "# 3D array -> tensor\n",
        "c = np.array([[[1, 2, 3], [4, 5, 6]], [[1, 2, 3], [4, 5, 6]]])\n",
        "print(c)"
      ],
      "metadata": {
        "colab": {
          "base_uri": "https://localhost:8080/"
        },
        "id": "1RIkhP06Njp7",
        "outputId": "eb3d4aa2-e6a2-4d98-af26-7f700e943370"
      },
      "execution_count": 11,
      "outputs": [
        {
          "output_type": "stream",
          "name": "stdout",
          "text": [
            "[[[1 2 3]\n",
            "  [4 5 6]]\n",
            "\n",
            " [[1 2 3]\n",
            "  [4 5 6]]]\n"
          ]
        }
      ]
    },
    {
      "cell_type": "code",
      "source": [
        "# dtype -> to create array of any datatype\n",
        "d = np.array([1, 2, 3], dtype = float)\n",
        "print(d)"
      ],
      "metadata": {
        "colab": {
          "base_uri": "https://localhost:8080/"
        },
        "id": "wxh7WBizNlxQ",
        "outputId": "fd0cd9c6-056d-4aac-a524-d1a346ae262d"
      },
      "execution_count": 12,
      "outputs": [
        {
          "output_type": "stream",
          "name": "stdout",
          "text": [
            "[1. 2. 3.]\n"
          ]
        }
      ]
    },
    {
      "cell_type": "code",
      "source": [
        "d = np.array([1, 2, 3], dtype = complex)\n",
        "print(d)"
      ],
      "metadata": {
        "colab": {
          "base_uri": "https://localhost:8080/"
        },
        "id": "Jow2U9LeOBjA",
        "outputId": "e9378e09-86c9-4cef-bab5-b0e5152d42eb"
      },
      "execution_count": 13,
      "outputs": [
        {
          "output_type": "stream",
          "name": "stdout",
          "text": [
            "[1.+0.j 2.+0.j 3.+0.j]\n"
          ]
        }
      ]
    },
    {
      "cell_type": "code",
      "source": [
        "d = np.array([1, 2, 3], dtype = str)\n",
        "print(d)"
      ],
      "metadata": {
        "colab": {
          "base_uri": "https://localhost:8080/"
        },
        "id": "n8Tf138FOD3p",
        "outputId": "1e36b89a-2538-4694-e3ca-4b3aeb783b41"
      },
      "execution_count": 14,
      "outputs": [
        {
          "output_type": "stream",
          "name": "stdout",
          "text": [
            "['1' '2' '3']\n"
          ]
        }
      ]
    },
    {
      "cell_type": "code",
      "source": [
        "d = np.array([1, 2, 3], dtype = bool)\n",
        "print(d)"
      ],
      "metadata": {
        "colab": {
          "base_uri": "https://localhost:8080/"
        },
        "id": "QqkG7R7JOFii",
        "outputId": "accee394-b5af-4ec6-827f-d418e35fcc59"
      },
      "execution_count": 15,
      "outputs": [
        {
          "output_type": "stream",
          "name": "stdout",
          "text": [
            "[ True  True  True]\n"
          ]
        }
      ]
    },
    {
      "cell_type": "code",
      "source": [
        "# np.arange\n",
        "np.arange(1,11)"
      ],
      "metadata": {
        "colab": {
          "base_uri": "https://localhost:8080/"
        },
        "id": "IOxyj6ouOG-O",
        "outputId": "a9c00b68-24a8-4456-fd81-5bb77478c21e"
      },
      "execution_count": 16,
      "outputs": [
        {
          "output_type": "execute_result",
          "data": {
            "text/plain": [
              "array([ 1,  2,  3,  4,  5,  6,  7,  8,  9, 10])"
            ]
          },
          "metadata": {},
          "execution_count": 16
        }
      ]
    },
    {
      "cell_type": "code",
      "source": [
        "np.arange(1,11,2)"
      ],
      "metadata": {
        "colab": {
          "base_uri": "https://localhost:8080/"
        },
        "id": "6xWsL9akPL3R",
        "outputId": "1cf010bf-494d-4a90-96fb-360436985060"
      },
      "execution_count": 17,
      "outputs": [
        {
          "output_type": "execute_result",
          "data": {
            "text/plain": [
              "array([1, 3, 5, 7, 9])"
            ]
          },
          "metadata": {},
          "execution_count": 17
        }
      ]
    },
    {
      "cell_type": "code",
      "source": [
        "# with reshape -> changes shape of array (row,column)\n",
        "np.arange(1,11).reshape(2,5)"
      ],
      "metadata": {
        "colab": {
          "base_uri": "https://localhost:8080/"
        },
        "id": "wtKEQIISPOvs",
        "outputId": "c613a712-ff19-4f3b-a051-2a9bb5289acf"
      },
      "execution_count": 18,
      "outputs": [
        {
          "output_type": "execute_result",
          "data": {
            "text/plain": [
              "array([[ 1,  2,  3,  4,  5],\n",
              "       [ 6,  7,  8,  9, 10]])"
            ]
          },
          "metadata": {},
          "execution_count": 18
        }
      ]
    },
    {
      "cell_type": "code",
      "source": [
        "np.arange(1,11).reshape(5,2)"
      ],
      "metadata": {
        "colab": {
          "base_uri": "https://localhost:8080/"
        },
        "id": "fvDdUW1nPZJo",
        "outputId": "f13648c1-e803-464d-bd7c-88a0638e6424"
      },
      "execution_count": 19,
      "outputs": [
        {
          "output_type": "execute_result",
          "data": {
            "text/plain": [
              "array([[ 1,  2],\n",
              "       [ 3,  4],\n",
              "       [ 5,  6],\n",
              "       [ 7,  8],\n",
              "       [ 9, 10]])"
            ]
          },
          "metadata": {},
          "execution_count": 19
        }
      ]
    },
    {
      "cell_type": "code",
      "source": [
        "np.arange(1,11).reshape(4,3)"
      ],
      "metadata": {
        "colab": {
          "base_uri": "https://localhost:8080/",
          "height": 141
        },
        "id": "0fbB4-VSPbRO",
        "outputId": "ad3730d2-0ded-494a-f77d-7b8c1d1d5426"
      },
      "execution_count": 20,
      "outputs": [
        {
          "output_type": "error",
          "ename": "ValueError",
          "evalue": "cannot reshape array of size 10 into shape (4,3)",
          "traceback": [
            "\u001b[0;31m---------------------------------------------------------------------------\u001b[0m",
            "\u001b[0;31mValueError\u001b[0m                                Traceback (most recent call last)",
            "\u001b[0;32m<ipython-input-20-664867d1970d>\u001b[0m in \u001b[0;36m<cell line: 1>\u001b[0;34m()\u001b[0m\n\u001b[0;32m----> 1\u001b[0;31m \u001b[0mnp\u001b[0m\u001b[0;34m.\u001b[0m\u001b[0marange\u001b[0m\u001b[0;34m(\u001b[0m\u001b[0;36m1\u001b[0m\u001b[0;34m,\u001b[0m\u001b[0;36m11\u001b[0m\u001b[0;34m)\u001b[0m\u001b[0;34m.\u001b[0m\u001b[0mreshape\u001b[0m\u001b[0;34m(\u001b[0m\u001b[0;36m4\u001b[0m\u001b[0;34m,\u001b[0m\u001b[0;36m3\u001b[0m\u001b[0;34m)\u001b[0m\u001b[0;34m\u001b[0m\u001b[0;34m\u001b[0m\u001b[0m\n\u001b[0m",
            "\u001b[0;31mValueError\u001b[0m: cannot reshape array of size 10 into shape (4,3)"
          ]
        }
      ]
    },
    {
      "cell_type": "code",
      "source": [
        "np.arange(16).reshape(2,2,2,2)"
      ],
      "metadata": {
        "colab": {
          "base_uri": "https://localhost:8080/"
        },
        "id": "C19SAXgnRGEK",
        "outputId": "1cd27582-8869-486b-83a0-00c0e042b1ae"
      },
      "execution_count": 26,
      "outputs": [
        {
          "output_type": "execute_result",
          "data": {
            "text/plain": [
              "array([[[[ 0,  1],\n",
              "         [ 2,  3]],\n",
              "\n",
              "        [[ 4,  5],\n",
              "         [ 6,  7]]],\n",
              "\n",
              "\n",
              "       [[[ 8,  9],\n",
              "         [10, 11]],\n",
              "\n",
              "        [[12, 13],\n",
              "         [14, 15]]]])"
            ]
          },
          "metadata": {},
          "execution_count": 26
        }
      ]
    },
    {
      "cell_type": "code",
      "source": [
        "# np.ones\n",
        "np.ones((3,4))"
      ],
      "metadata": {
        "colab": {
          "base_uri": "https://localhost:8080/"
        },
        "id": "dq4cPjR9Prp_",
        "outputId": "24dfa89f-ca45-4f04-8ae8-76963f941510"
      },
      "execution_count": 21,
      "outputs": [
        {
          "output_type": "execute_result",
          "data": {
            "text/plain": [
              "array([[1., 1., 1., 1.],\n",
              "       [1., 1., 1., 1.],\n",
              "       [1., 1., 1., 1.]])"
            ]
          },
          "metadata": {},
          "execution_count": 21
        }
      ]
    },
    {
      "cell_type": "code",
      "source": [
        "# np.zeros\n",
        "np.zeros((3,4))"
      ],
      "metadata": {
        "colab": {
          "base_uri": "https://localhost:8080/"
        },
        "id": "LN56RDJHQsEF",
        "outputId": "fe49ae63-8427-420d-8f72-2c477f85f7b9"
      },
      "execution_count": 23,
      "outputs": [
        {
          "output_type": "execute_result",
          "data": {
            "text/plain": [
              "array([[0., 0., 0., 0.],\n",
              "       [0., 0., 0., 0.],\n",
              "       [0., 0., 0., 0.]])"
            ]
          },
          "metadata": {},
          "execution_count": 23
        }
      ]
    },
    {
      "cell_type": "code",
      "source": [
        "# np.random -> initialize array with random values from 0 to 1\n",
        "np.random.random((3,4))"
      ],
      "metadata": {
        "colab": {
          "base_uri": "https://localhost:8080/"
        },
        "id": "fZBlIcO2Qubg",
        "outputId": "90c9f0b9-82e4-4d43-d685-cc936e58d786"
      },
      "execution_count": 24,
      "outputs": [
        {
          "output_type": "execute_result",
          "data": {
            "text/plain": [
              "array([[0.69282918, 0.97356714, 0.47090784, 0.30781236],\n",
              "       [0.08578792, 0.68212181, 0.14060668, 0.3285565 ],\n",
              "       [0.64667729, 0.91429193, 0.97435724, 0.14721565]])"
            ]
          },
          "metadata": {},
          "execution_count": 24
        }
      ]
    },
    {
      "cell_type": "code",
      "source": [
        "# np.linspace -> linearly spaced array : np.linspace(start,stop,number of point)\n",
        "np.linspace(-10,10,10)"
      ],
      "metadata": {
        "colab": {
          "base_uri": "https://localhost:8080/"
        },
        "id": "8bWkqWi_Qx--",
        "outputId": "2639ba8a-bdf2-4284-e159-a9b5281ed131"
      },
      "execution_count": 32,
      "outputs": [
        {
          "output_type": "execute_result",
          "data": {
            "text/plain": [
              "array([-10.        ,  -7.77777778,  -5.55555556,  -3.33333333,\n",
              "        -1.11111111,   1.11111111,   3.33333333,   5.55555556,\n",
              "         7.77777778,  10.        ])"
            ]
          },
          "metadata": {},
          "execution_count": 32
        }
      ]
    },
    {
      "cell_type": "code",
      "source": [
        "np.linspace(-10,10,10,dtype = int)"
      ],
      "metadata": {
        "colab": {
          "base_uri": "https://localhost:8080/"
        },
        "id": "qJB1YtdXTALs",
        "outputId": "af1a86dd-42df-4353-a45f-752a1877769e"
      },
      "execution_count": 29,
      "outputs": [
        {
          "output_type": "execute_result",
          "data": {
            "text/plain": [
              "array([-10,  -8,  -6,  -4,  -2,   1,   3,   5,   7,  10])"
            ]
          },
          "metadata": {},
          "execution_count": 29
        }
      ]
    },
    {
      "cell_type": "code",
      "source": [
        "# np.identity\n",
        "np.identity(3)"
      ],
      "metadata": {
        "colab": {
          "base_uri": "https://localhost:8080/"
        },
        "id": "1Y9DskEHTEK_",
        "outputId": "6a9342ed-28e2-4c95-850f-16fdf3c1f000"
      },
      "execution_count": 30,
      "outputs": [
        {
          "output_type": "execute_result",
          "data": {
            "text/plain": [
              "array([[1., 0., 0.],\n",
              "       [0., 1., 0.],\n",
              "       [0., 0., 1.]])"
            ]
          },
          "metadata": {},
          "execution_count": 30
        }
      ]
    },
    {
      "cell_type": "markdown",
      "source": [
        "### Array Attributes"
      ],
      "metadata": {
        "id": "Seaqsj2PtUtO"
      }
    },
    {
      "cell_type": "code",
      "source": [
        "a1 = np.arange(10,dtype=np.int32)\n",
        "a2 = np.arange(12,dtype=float).reshape(3,4)\n",
        "a3 = np.arange(8).reshape(2,2,2)\n",
        "\n",
        "print(a1)\n",
        "print(a2)\n",
        "print(a3)"
      ],
      "metadata": {
        "colab": {
          "base_uri": "https://localhost:8080/"
        },
        "id": "ATa2TEamTINL",
        "outputId": "ff71155c-6cee-4ccb-ee23-b24633f07e19"
      },
      "execution_count": 33,
      "outputs": [
        {
          "output_type": "stream",
          "name": "stdout",
          "text": [
            "[0 1 2 3 4 5 6 7 8 9]\n",
            "[[ 0.  1.  2.  3.]\n",
            " [ 4.  5.  6.  7.]\n",
            " [ 8.  9. 10. 11.]]\n",
            "[[[0 1]\n",
            "  [2 3]]\n",
            "\n",
            " [[4 5]\n",
            "  [6 7]]]\n"
          ]
        }
      ]
    },
    {
      "cell_type": "code",
      "source": [
        "# ndim\n",
        "print(a1.ndim)\n",
        "print(a2.ndim)\n",
        "print(a3.ndim)"
      ],
      "metadata": {
        "colab": {
          "base_uri": "https://localhost:8080/"
        },
        "id": "zXFppO9eTPC6",
        "outputId": "777fa7c2-4b16-4b56-f307-69e2e72fc49a"
      },
      "execution_count": 34,
      "outputs": [
        {
          "output_type": "stream",
          "name": "stdout",
          "text": [
            "1\n",
            "2\n",
            "3\n"
          ]
        }
      ]
    },
    {
      "cell_type": "code",
      "source": [
        "# shape\n",
        "print(a1.shape)\n",
        "print(a2.shape)\n",
        "print(a3.shape)"
      ],
      "metadata": {
        "colab": {
          "base_uri": "https://localhost:8080/"
        },
        "id": "s7jRK9j7toab",
        "outputId": "af61857b-6276-43d8-cb0b-8abda8647d2b"
      },
      "execution_count": 35,
      "outputs": [
        {
          "output_type": "stream",
          "name": "stdout",
          "text": [
            "(10,)\n",
            "(3, 4)\n",
            "(2, 2, 2)\n"
          ]
        }
      ]
    },
    {
      "cell_type": "code",
      "source": [
        "# size - gives number of elements in array\n",
        "print(a1.size)\n",
        "print(a2.size)\n",
        "print(a3.size)"
      ],
      "metadata": {
        "colab": {
          "base_uri": "https://localhost:8080/"
        },
        "id": "unPN2pYCtuF5",
        "outputId": "f4b4e6d9-0164-4b55-8c68-643dd261d076"
      },
      "execution_count": 36,
      "outputs": [
        {
          "output_type": "stream",
          "name": "stdout",
          "text": [
            "10\n",
            "12\n",
            "8\n"
          ]
        }
      ]
    },
    {
      "cell_type": "code",
      "source": [
        "# itemsize\n",
        "print(a1.itemsize)\n",
        "print(a2.itemsize)\n",
        "print(a3.itemsize)"
      ],
      "metadata": {
        "colab": {
          "base_uri": "https://localhost:8080/"
        },
        "id": "NBl30nrYt0Rp",
        "outputId": "ed16f1b9-f499-4a68-b2be-38f32c14a12e"
      },
      "execution_count": 37,
      "outputs": [
        {
          "output_type": "stream",
          "name": "stdout",
          "text": [
            "4\n",
            "8\n",
            "8\n"
          ]
        }
      ]
    },
    {
      "cell_type": "code",
      "source": [
        "# dtype\n",
        "print(a1.dtype)\n",
        "print(a2.dtype)\n",
        "print(a3.dtype)"
      ],
      "metadata": {
        "colab": {
          "base_uri": "https://localhost:8080/"
        },
        "id": "ghQ4xGQ9t8ND",
        "outputId": "094ad883-4a3b-49b1-b821-96f92d172611"
      },
      "execution_count": 38,
      "outputs": [
        {
          "output_type": "stream",
          "name": "stdout",
          "text": [
            "int32\n",
            "float64\n",
            "int64\n"
          ]
        }
      ]
    },
    {
      "cell_type": "markdown",
      "source": [
        "### Changing Datatype"
      ],
      "metadata": {
        "id": "qcdnH7y5AaN9"
      }
    },
    {
      "cell_type": "code",
      "source": [
        "# astype\n",
        "a3.dtype"
      ],
      "metadata": {
        "colab": {
          "base_uri": "https://localhost:8080/"
        },
        "id": "msqlyh7AuAv1",
        "outputId": "e23caf37-a8a0-4dd2-a5cd-f76687b5dd71"
      },
      "execution_count": 40,
      "outputs": [
        {
          "output_type": "execute_result",
          "data": {
            "text/plain": [
              "dtype('int64')"
            ]
          },
          "metadata": {},
          "execution_count": 40
        }
      ]
    },
    {
      "cell_type": "code",
      "source": [
        "a3.astype(np.int32)"
      ],
      "metadata": {
        "colab": {
          "base_uri": "https://localhost:8080/"
        },
        "id": "-oKGh_S3AfAP",
        "outputId": "a545ce9a-c980-4f9d-e0ef-16d20faa92f4"
      },
      "execution_count": 41,
      "outputs": [
        {
          "output_type": "execute_result",
          "data": {
            "text/plain": [
              "array([[[0, 1],\n",
              "        [2, 3]],\n",
              "\n",
              "       [[4, 5],\n",
              "        [6, 7]]], dtype=int32)"
            ]
          },
          "metadata": {},
          "execution_count": 41
        }
      ]
    },
    {
      "cell_type": "code",
      "source": [
        "a3.dtype"
      ],
      "metadata": {
        "colab": {
          "base_uri": "https://localhost:8080/"
        },
        "id": "T4RYsdtIAkpj",
        "outputId": "923af700-2a55-4a8f-9bf1-9de0a64b7d54"
      },
      "execution_count": 42,
      "outputs": [
        {
          "output_type": "execute_result",
          "data": {
            "text/plain": [
              "dtype('int64')"
            ]
          },
          "metadata": {},
          "execution_count": 42
        }
      ]
    },
    {
      "cell_type": "markdown",
      "source": [
        "### Array Operations"
      ],
      "metadata": {
        "id": "-634VMiYB9QA"
      }
    },
    {
      "cell_type": "code",
      "source": [
        "a1 = np.arange(12).reshape(3,4)\n",
        "a2 = np.arange(12,24).reshape(3,4)\n",
        "\n",
        "print(a1)\n",
        "print(a2)"
      ],
      "metadata": {
        "colab": {
          "base_uri": "https://localhost:8080/"
        },
        "id": "JjXquSx9AoBA",
        "outputId": "7dd82553-5069-47f2-80b4-ce346329345a"
      },
      "execution_count": 44,
      "outputs": [
        {
          "output_type": "stream",
          "name": "stdout",
          "text": [
            "[[ 0  1  2  3]\n",
            " [ 4  5  6  7]\n",
            " [ 8  9 10 11]]\n",
            "[[12 13 14 15]\n",
            " [16 17 18 19]\n",
            " [20 21 22 23]]\n"
          ]
        }
      ]
    },
    {
      "cell_type": "markdown",
      "source": [
        "**Scalar operations**"
      ],
      "metadata": {
        "id": "xU_-Ogj8CQJK"
      }
    },
    {
      "cell_type": "code",
      "source": [
        "# arithmetic : all arithmetic operations are supported\n",
        "a1 + 5"
      ],
      "metadata": {
        "colab": {
          "base_uri": "https://localhost:8080/"
        },
        "id": "f9gEw4JXCFVX",
        "outputId": "da6a7d05-8437-4cc1-d8f7-b21015ecb767"
      },
      "execution_count": 45,
      "outputs": [
        {
          "output_type": "execute_result",
          "data": {
            "text/plain": [
              "array([[ 5,  6,  7,  8],\n",
              "       [ 9, 10, 11, 12],\n",
              "       [13, 14, 15, 16]])"
            ]
          },
          "metadata": {},
          "execution_count": 45
        }
      ]
    },
    {
      "cell_type": "code",
      "source": [
        "a1 ** 2"
      ],
      "metadata": {
        "colab": {
          "base_uri": "https://localhost:8080/"
        },
        "id": "t-2guvq0Cc83",
        "outputId": "8d5199cf-dff9-43bb-834e-0b72d1c12629"
      },
      "execution_count": 46,
      "outputs": [
        {
          "output_type": "execute_result",
          "data": {
            "text/plain": [
              "array([[  0,   1,   4,   9],\n",
              "       [ 16,  25,  36,  49],\n",
              "       [ 64,  81, 100, 121]])"
            ]
          },
          "metadata": {},
          "execution_count": 46
        }
      ]
    },
    {
      "cell_type": "code",
      "source": [
        "a1 / 2"
      ],
      "metadata": {
        "colab": {
          "base_uri": "https://localhost:8080/"
        },
        "id": "tLs8CVvjCfML",
        "outputId": "9d2e1522-1460-4df7-90d0-b9bcf190ce1a"
      },
      "execution_count": 47,
      "outputs": [
        {
          "output_type": "execute_result",
          "data": {
            "text/plain": [
              "array([[0. , 0.5, 1. , 1.5],\n",
              "       [2. , 2.5, 3. , 3.5],\n",
              "       [4. , 4.5, 5. , 5.5]])"
            ]
          },
          "metadata": {},
          "execution_count": 47
        }
      ]
    },
    {
      "cell_type": "code",
      "source": [
        "# relational : < , > , <= , >= , != , ==\n",
        "a2 > 20"
      ],
      "metadata": {
        "colab": {
          "base_uri": "https://localhost:8080/"
        },
        "id": "dJHnheOnCg1Z",
        "outputId": "31d21fe7-8a9f-41d6-9778-7d3c624113ff"
      },
      "execution_count": 48,
      "outputs": [
        {
          "output_type": "execute_result",
          "data": {
            "text/plain": [
              "array([[False, False, False, False],\n",
              "       [False, False, False, False],\n",
              "       [False,  True,  True,  True]])"
            ]
          },
          "metadata": {},
          "execution_count": 48
        }
      ]
    },
    {
      "cell_type": "code",
      "source": [
        "a2 == 16"
      ],
      "metadata": {
        "colab": {
          "base_uri": "https://localhost:8080/"
        },
        "id": "diCu3jJrCrAv",
        "outputId": "35142a10-381f-4fe5-bb8b-0e38950a1edf"
      },
      "execution_count": 49,
      "outputs": [
        {
          "output_type": "execute_result",
          "data": {
            "text/plain": [
              "array([[False, False, False, False],\n",
              "       [ True, False, False, False],\n",
              "       [False, False, False, False]])"
            ]
          },
          "metadata": {},
          "execution_count": 49
        }
      ]
    },
    {
      "cell_type": "code",
      "source": [
        "a2 != 16"
      ],
      "metadata": {
        "colab": {
          "base_uri": "https://localhost:8080/"
        },
        "id": "3ivAB62mCttZ",
        "outputId": "8f78c131-746d-41c5-f91c-2475f59bd68a"
      },
      "execution_count": 50,
      "outputs": [
        {
          "output_type": "execute_result",
          "data": {
            "text/plain": [
              "array([[ True,  True,  True,  True],\n",
              "       [False,  True,  True,  True],\n",
              "       [ True,  True,  True,  True]])"
            ]
          },
          "metadata": {},
          "execution_count": 50
        }
      ]
    },
    {
      "cell_type": "code",
      "source": [
        "a2 <= 18"
      ],
      "metadata": {
        "colab": {
          "base_uri": "https://localhost:8080/"
        },
        "id": "LyolsTh5CwtA",
        "outputId": "45919c1d-2e7b-4a02-f06b-5e558f6f6a03"
      },
      "execution_count": 51,
      "outputs": [
        {
          "output_type": "execute_result",
          "data": {
            "text/plain": [
              "array([[ True,  True,  True,  True],\n",
              "       [ True,  True,  True, False],\n",
              "       [False, False, False, False]])"
            ]
          },
          "metadata": {},
          "execution_count": 51
        }
      ]
    },
    {
      "cell_type": "markdown",
      "source": [
        "**Vector operations**"
      ],
      "metadata": {
        "id": "vKK74JIeD33F"
      }
    },
    {
      "cell_type": "code",
      "source": [
        "# arithmetic\n",
        "a1 + a2"
      ],
      "metadata": {
        "colab": {
          "base_uri": "https://localhost:8080/"
        },
        "id": "OSDiRtuUCzb9",
        "outputId": "59f0f3cd-4534-4a00-f09c-60ce74304ffa"
      },
      "execution_count": 52,
      "outputs": [
        {
          "output_type": "execute_result",
          "data": {
            "text/plain": [
              "array([[12, 14, 16, 18],\n",
              "       [20, 22, 24, 26],\n",
              "       [28, 30, 32, 34]])"
            ]
          },
          "metadata": {},
          "execution_count": 52
        }
      ]
    },
    {
      "cell_type": "code",
      "source": [
        "a1 - a2"
      ],
      "metadata": {
        "colab": {
          "base_uri": "https://localhost:8080/"
        },
        "id": "BWKquynsD8PG",
        "outputId": "21ab836c-d20b-4134-fff5-b10c169ebe27"
      },
      "execution_count": 53,
      "outputs": [
        {
          "output_type": "execute_result",
          "data": {
            "text/plain": [
              "array([[-12, -12, -12, -12],\n",
              "       [-12, -12, -12, -12],\n",
              "       [-12, -12, -12, -12]])"
            ]
          },
          "metadata": {},
          "execution_count": 53
        }
      ]
    },
    {
      "cell_type": "code",
      "source": [
        "a1 * a2"
      ],
      "metadata": {
        "colab": {
          "base_uri": "https://localhost:8080/"
        },
        "id": "1EiGqQsqEBPH",
        "outputId": "054d9c1f-b320-49db-9523-eaf3e290daa7"
      },
      "execution_count": 54,
      "outputs": [
        {
          "output_type": "execute_result",
          "data": {
            "text/plain": [
              "array([[  0,  13,  28,  45],\n",
              "       [ 64,  85, 108, 133],\n",
              "       [160, 189, 220, 253]])"
            ]
          },
          "metadata": {},
          "execution_count": 54
        }
      ]
    },
    {
      "cell_type": "markdown",
      "source": [
        "### Array Functions"
      ],
      "metadata": {
        "id": "1VeWUuVsHAO-"
      }
    },
    {
      "cell_type": "code",
      "source": [
        "a1 = np.random.random((3,3))\n",
        "a1 = np.round(a1*100)\n",
        "a1"
      ],
      "metadata": {
        "colab": {
          "base_uri": "https://localhost:8080/"
        },
        "id": "XJGfi4a1EDLs",
        "outputId": "65a9275d-2c38-443c-b343-dcb0edfa0c84"
      },
      "execution_count": 61,
      "outputs": [
        {
          "output_type": "execute_result",
          "data": {
            "text/plain": [
              "array([[54., 52., 83.],\n",
              "       [95., 23., 70.],\n",
              "       [81., 91., 12.]])"
            ]
          },
          "metadata": {},
          "execution_count": 61
        }
      ]
    },
    {
      "cell_type": "markdown",
      "source": [
        "**max,min,sum,prod**"
      ],
      "metadata": {
        "id": "OTI5-RcfIYZW"
      }
    },
    {
      "cell_type": "code",
      "source": [
        "# max,min,sum,prod\n",
        "np.max(a1)"
      ],
      "metadata": {
        "colab": {
          "base_uri": "https://localhost:8080/"
        },
        "id": "vGHb5PnvHFyl",
        "outputId": "e0c609d4-500b-48ab-8a0e-3b2cc39fc87d"
      },
      "execution_count": 62,
      "outputs": [
        {
          "output_type": "execute_result",
          "data": {
            "text/plain": [
              "95.0"
            ]
          },
          "metadata": {},
          "execution_count": 62
        }
      ]
    },
    {
      "cell_type": "code",
      "source": [
        "np.min(a1)"
      ],
      "metadata": {
        "colab": {
          "base_uri": "https://localhost:8080/"
        },
        "id": "Hf6hys6oHqZh",
        "outputId": "3be1fcd8-55e1-4e8f-a334-4da68a1dc2c8"
      },
      "execution_count": 64,
      "outputs": [
        {
          "output_type": "execute_result",
          "data": {
            "text/plain": [
              "12.0"
            ]
          },
          "metadata": {},
          "execution_count": 64
        }
      ]
    },
    {
      "cell_type": "code",
      "source": [
        "np.sum(a1)"
      ],
      "metadata": {
        "colab": {
          "base_uri": "https://localhost:8080/"
        },
        "id": "2k9SwkPbHssU",
        "outputId": "90143e30-9d1e-4f24-bd50-e0f7ef0226a3"
      },
      "execution_count": 65,
      "outputs": [
        {
          "output_type": "execute_result",
          "data": {
            "text/plain": [
              "561.0"
            ]
          },
          "metadata": {},
          "execution_count": 65
        }
      ]
    },
    {
      "cell_type": "code",
      "source": [
        "np.prod(a1)"
      ],
      "metadata": {
        "colab": {
          "base_uri": "https://localhost:8080/"
        },
        "id": "fF5Dm1dEHwPH",
        "outputId": "15d4689e-35c3-45cc-e45b-8e7af04a4505"
      },
      "execution_count": 68,
      "outputs": [
        {
          "output_type": "execute_result",
          "data": {
            "text/plain": [
              "3153060721137600.0"
            ]
          },
          "metadata": {},
          "execution_count": 68
        }
      ]
    },
    {
      "cell_type": "markdown",
      "source": [
        "How to find perform function for each row/column?\n",
        "<br> Use 0 -> column, 1 -> row"
      ],
      "metadata": {
        "id": "xLfY6Bm_H7gG"
      }
    },
    {
      "cell_type": "code",
      "source": [
        "# 0 -> column, 1 -> row\n",
        "np.max(a1,axis=0)"
      ],
      "metadata": {
        "colab": {
          "base_uri": "https://localhost:8080/"
        },
        "id": "7teOFFVbH7IL",
        "outputId": "22b396c5-58a3-4ceb-9f36-72c88ca8af6e"
      },
      "execution_count": 69,
      "outputs": [
        {
          "output_type": "execute_result",
          "data": {
            "text/plain": [
              "array([95., 91., 83.])"
            ]
          },
          "metadata": {},
          "execution_count": 69
        }
      ]
    },
    {
      "cell_type": "code",
      "source": [
        "np.max(a1,axis=1)"
      ],
      "metadata": {
        "colab": {
          "base_uri": "https://localhost:8080/"
        },
        "id": "1VWXDEqeH0cb",
        "outputId": "65a22df9-b489-4684-e3b2-a55d1f4be7c8"
      },
      "execution_count": 71,
      "outputs": [
        {
          "output_type": "execute_result",
          "data": {
            "text/plain": [
              "array([83., 95., 91.])"
            ]
          },
          "metadata": {},
          "execution_count": 71
        }
      ]
    },
    {
      "cell_type": "code",
      "source": [
        "np.sum(a1,axis=0)"
      ],
      "metadata": {
        "colab": {
          "base_uri": "https://localhost:8080/"
        },
        "id": "nw62wY29INBv",
        "outputId": "e11b37d3-0501-405f-b6de-26642f894a33"
      },
      "execution_count": 72,
      "outputs": [
        {
          "output_type": "execute_result",
          "data": {
            "text/plain": [
              "array([230., 166., 165.])"
            ]
          },
          "metadata": {},
          "execution_count": 72
        }
      ]
    },
    {
      "cell_type": "markdown",
      "source": [
        "**mean/median/std/var**"
      ],
      "metadata": {
        "id": "u_Wqyp7_I1pr"
      }
    },
    {
      "cell_type": "code",
      "source": [
        "# mean,median,std,var\n",
        "np.mean(a1)"
      ],
      "metadata": {
        "colab": {
          "base_uri": "https://localhost:8080/"
        },
        "id": "Ebg7j5ItIT8j",
        "outputId": "0dc757a7-abac-4dab-e6a6-7907458cf099"
      },
      "execution_count": 73,
      "outputs": [
        {
          "output_type": "execute_result",
          "data": {
            "text/plain": [
              "62.333333333333336"
            ]
          },
          "metadata": {},
          "execution_count": 73
        }
      ]
    },
    {
      "cell_type": "code",
      "source": [
        "np.mean(a1,axis=1)"
      ],
      "metadata": {
        "colab": {
          "base_uri": "https://localhost:8080/"
        },
        "id": "fx-LTYTIJLZl",
        "outputId": "151756d7-0f3d-48fd-8dea-03a4b6c45cac"
      },
      "execution_count": 75,
      "outputs": [
        {
          "output_type": "execute_result",
          "data": {
            "text/plain": [
              "array([63.        , 62.66666667, 61.33333333])"
            ]
          },
          "metadata": {},
          "execution_count": 75
        }
      ]
    },
    {
      "cell_type": "code",
      "source": [
        "np.median(a1)"
      ],
      "metadata": {
        "colab": {
          "base_uri": "https://localhost:8080/"
        },
        "id": "FXXs55kwJHX7",
        "outputId": "7273d7c6-6f96-4e17-e479-f7f598bcd1e0"
      },
      "execution_count": 74,
      "outputs": [
        {
          "output_type": "execute_result",
          "data": {
            "text/plain": [
              "70.0"
            ]
          },
          "metadata": {},
          "execution_count": 74
        }
      ]
    },
    {
      "cell_type": "code",
      "source": [
        "np.std(a1,axis=1)"
      ],
      "metadata": {
        "colab": {
          "base_uri": "https://localhost:8080/"
        },
        "id": "G1dEOT95JJby",
        "outputId": "6be2d045-232c-4deb-c5d7-a5c2e84edd0d"
      },
      "execution_count": 77,
      "outputs": [
        {
          "output_type": "execute_result",
          "data": {
            "text/plain": [
              "array([14.16568624, 29.84776187, 35.12200956])"
            ]
          },
          "metadata": {},
          "execution_count": 77
        }
      ]
    },
    {
      "cell_type": "code",
      "source": [
        "np.var(a1,axis=1)"
      ],
      "metadata": {
        "colab": {
          "base_uri": "https://localhost:8080/"
        },
        "id": "0tj_8JBuJRpX",
        "outputId": "b365643c-150a-4279-d884-f2cf90a23c52"
      },
      "execution_count": 78,
      "outputs": [
        {
          "output_type": "execute_result",
          "data": {
            "text/plain": [
              "array([ 200.66666667,  890.88888889, 1233.55555556])"
            ]
          },
          "metadata": {},
          "execution_count": 78
        }
      ]
    },
    {
      "cell_type": "markdown",
      "source": [
        "**trignometric functions**"
      ],
      "metadata": {
        "id": "VAIUWJldJhQP"
      }
    },
    {
      "cell_type": "code",
      "source": [
        "# trignometric functions\n",
        "np.sin(a1)"
      ],
      "metadata": {
        "colab": {
          "base_uri": "https://localhost:8080/"
        },
        "id": "zYZYoph_JXdF",
        "outputId": "09f24920-aa97-4b9a-d7f9-4f58f1b9c22f"
      },
      "execution_count": 80,
      "outputs": [
        {
          "output_type": "execute_result",
          "data": {
            "text/plain": [
              "array([[-0.55878905,  0.98662759,  0.96836446],\n",
              "       [ 0.68326171, -0.8462204 ,  0.77389068],\n",
              "       [-0.62988799,  0.10598751, -0.53657292]])"
            ]
          },
          "metadata": {},
          "execution_count": 80
        }
      ]
    },
    {
      "cell_type": "markdown",
      "source": [
        "**dot product**"
      ],
      "metadata": {
        "id": "Xl7mx9sEKjB2"
      }
    },
    {
      "cell_type": "code",
      "source": [
        "# dot product\n",
        "a2 = np.arange(12).reshape(3,4)\n",
        "a3 = np.arange(12,24).reshape(4,3)\n",
        "\n",
        "print(a2)\n",
        "print(a3)"
      ],
      "metadata": {
        "colab": {
          "base_uri": "https://localhost:8080/"
        },
        "id": "aIke9GNwKlNE",
        "outputId": "1a354faa-bc87-4872-e8ca-ca14ee330af1"
      },
      "execution_count": 81,
      "outputs": [
        {
          "output_type": "stream",
          "name": "stdout",
          "text": [
            "[[ 0  1  2  3]\n",
            " [ 4  5  6  7]\n",
            " [ 8  9 10 11]]\n",
            "[[12 13 14]\n",
            " [15 16 17]\n",
            " [18 19 20]\n",
            " [21 22 23]]\n"
          ]
        }
      ]
    },
    {
      "cell_type": "code",
      "source": [
        "np.dot(a2,a3)"
      ],
      "metadata": {
        "colab": {
          "base_uri": "https://localhost:8080/"
        },
        "id": "TwnMvH3bKphL",
        "outputId": "26682681-a368-445e-96fe-91ebceb59fd0"
      },
      "execution_count": 82,
      "outputs": [
        {
          "output_type": "execute_result",
          "data": {
            "text/plain": [
              "array([[114, 120, 126],\n",
              "       [378, 400, 422],\n",
              "       [642, 680, 718]])"
            ]
          },
          "metadata": {},
          "execution_count": 82
        }
      ]
    },
    {
      "cell_type": "markdown",
      "source": [
        "**log and exponents**"
      ],
      "metadata": {
        "id": "lLIu5YuYKu2t"
      }
    },
    {
      "cell_type": "code",
      "source": [
        "# log and exponents\n",
        "np.log(a1)"
      ],
      "metadata": {
        "colab": {
          "base_uri": "https://localhost:8080/"
        },
        "id": "WLXQ19zuKsnm",
        "outputId": "bb5b83b7-b96d-42df-9205-1aeaf54ccafa"
      },
      "execution_count": 83,
      "outputs": [
        {
          "output_type": "execute_result",
          "data": {
            "text/plain": [
              "array([[3.98898405, 3.95124372, 4.41884061],\n",
              "       [4.55387689, 3.13549422, 4.24849524],\n",
              "       [4.39444915, 4.51085951, 2.48490665]])"
            ]
          },
          "metadata": {},
          "execution_count": 83
        }
      ]
    },
    {
      "cell_type": "code",
      "source": [
        "np.exp(a1)"
      ],
      "metadata": {
        "colab": {
          "base_uri": "https://localhost:8080/"
        },
        "id": "cJa512s7KzdT",
        "outputId": "4f5bf634-11f4-4235-8660-d7b2794cf785"
      },
      "execution_count": 84,
      "outputs": [
        {
          "output_type": "execute_result",
          "data": {
            "text/plain": [
              "array([[2.83075330e+23, 3.83100800e+22, 1.11286375e+36],\n",
              "       [1.81123908e+41, 9.74480345e+09, 2.51543867e+30],\n",
              "       [1.50609731e+35, 3.31740010e+39, 1.62754791e+05]])"
            ]
          },
          "metadata": {},
          "execution_count": 84
        }
      ]
    },
    {
      "cell_type": "markdown",
      "source": [
        "**round,floor,ceil**"
      ],
      "metadata": {
        "id": "PATyIPieMGEZ"
      }
    },
    {
      "cell_type": "code",
      "source": [
        "# round,floor,ceil\n",
        "a = np.random.random((2,3))\n",
        "a = a*100\n",
        "a"
      ],
      "metadata": {
        "colab": {
          "base_uri": "https://localhost:8080/"
        },
        "id": "KTx7YQVxK1Dt",
        "outputId": "43d14453-53fd-4fda-8bdd-0090297aaace"
      },
      "execution_count": 86,
      "outputs": [
        {
          "output_type": "execute_result",
          "data": {
            "text/plain": [
              "array([[79.52919766, 92.93619437, 23.53337542],\n",
              "       [61.33998085, 64.96265043, 55.17277984]])"
            ]
          },
          "metadata": {},
          "execution_count": 86
        }
      ]
    },
    {
      "cell_type": "code",
      "source": [
        "np.round(a)"
      ],
      "metadata": {
        "colab": {
          "base_uri": "https://localhost:8080/"
        },
        "id": "4XCz9cvWL09C",
        "outputId": "63abc1f9-0426-4a08-a538-a1ec48a65e2e"
      },
      "execution_count": 89,
      "outputs": [
        {
          "output_type": "execute_result",
          "data": {
            "text/plain": [
              "array([[80., 93., 24.],\n",
              "       [61., 65., 55.]])"
            ]
          },
          "metadata": {},
          "execution_count": 89
        }
      ]
    },
    {
      "cell_type": "code",
      "source": [
        "np.floor(a)"
      ],
      "metadata": {
        "colab": {
          "base_uri": "https://localhost:8080/"
        },
        "id": "vys9nzv7L3bI",
        "outputId": "b88e7128-a39a-4622-bc80-048c93eed0bf"
      },
      "execution_count": 90,
      "outputs": [
        {
          "output_type": "execute_result",
          "data": {
            "text/plain": [
              "array([[79., 92., 23.],\n",
              "       [61., 64., 55.]])"
            ]
          },
          "metadata": {},
          "execution_count": 90
        }
      ]
    },
    {
      "cell_type": "code",
      "source": [
        "np.ceil(a)"
      ],
      "metadata": {
        "colab": {
          "base_uri": "https://localhost:8080/"
        },
        "id": "SpM5xBbWL7DR",
        "outputId": "b3308bfa-b07f-4b68-febe-73a17d035a52"
      },
      "execution_count": 91,
      "outputs": [
        {
          "output_type": "execute_result",
          "data": {
            "text/plain": [
              "array([[80., 93., 24.],\n",
              "       [62., 65., 56.]])"
            ]
          },
          "metadata": {},
          "execution_count": 91
        }
      ]
    },
    {
      "cell_type": "markdown",
      "source": [
        "### Indexing and Slicing"
      ],
      "metadata": {
        "id": "fv63OT8sJ8GO"
      }
    },
    {
      "cell_type": "code",
      "source": [
        "import numpy as np"
      ],
      "metadata": {
        "id": "F_mg8Zc-L4rG"
      },
      "execution_count": 2,
      "outputs": []
    },
    {
      "cell_type": "code",
      "source": [
        "a1 = np.arange(10)\n",
        "a2 = np.arange(12).reshape(3,4)\n",
        "a3 = np.arange(8).reshape(2,2,2)"
      ],
      "metadata": {
        "id": "EgaaqQkSMCo0"
      },
      "execution_count": 3,
      "outputs": []
    },
    {
      "cell_type": "code",
      "source": [
        "print(a1,a2,a3,sep='\\n\\n')"
      ],
      "metadata": {
        "colab": {
          "base_uri": "https://localhost:8080/"
        },
        "id": "dPU5DG7iL8HE",
        "outputId": "ff40c23f-ac08-452c-c9ec-a4ff4a44dc91"
      },
      "execution_count": 6,
      "outputs": [
        {
          "output_type": "stream",
          "name": "stdout",
          "text": [
            "[0 1 2 3 4 5 6 7 8 9]\n",
            "\n",
            "[[ 0  1  2  3]\n",
            " [ 4  5  6  7]\n",
            " [ 8  9 10 11]]\n",
            "\n",
            "[[[0 1]\n",
            "  [2 3]]\n",
            "\n",
            " [[4 5]\n",
            "  [6 7]]]\n"
          ]
        }
      ]
    },
    {
      "cell_type": "markdown",
      "source": [
        "**Indexing**"
      ],
      "metadata": {
        "id": "BltAoQ5FMVgT"
      }
    },
    {
      "cell_type": "code",
      "source": [
        "a1"
      ],
      "metadata": {
        "colab": {
          "base_uri": "https://localhost:8080/"
        },
        "id": "coutsZt1MgIe",
        "outputId": "ea81218c-32df-430c-86d5-a91b3d6156d0"
      },
      "execution_count": 9,
      "outputs": [
        {
          "output_type": "execute_result",
          "data": {
            "text/plain": [
              "array([0, 1, 2, 3, 4, 5, 6, 7, 8, 9])"
            ]
          },
          "metadata": {},
          "execution_count": 9
        }
      ]
    },
    {
      "cell_type": "code",
      "source": [
        "a1[-1]"
      ],
      "metadata": {
        "colab": {
          "base_uri": "https://localhost:8080/"
        },
        "id": "5b-xnSFCL-tJ",
        "outputId": "8a8e2ac8-7a98-4745-ead0-3105b1e6d843"
      },
      "execution_count": 7,
      "outputs": [
        {
          "output_type": "execute_result",
          "data": {
            "text/plain": [
              "9"
            ]
          },
          "metadata": {},
          "execution_count": 7
        }
      ]
    },
    {
      "cell_type": "code",
      "source": [
        "a1[0]"
      ],
      "metadata": {
        "colab": {
          "base_uri": "https://localhost:8080/"
        },
        "id": "3dfrmWuBMZbB",
        "outputId": "32d465c2-a1d2-4ef3-e8bc-06b2f3ab1430"
      },
      "execution_count": 8,
      "outputs": [
        {
          "output_type": "execute_result",
          "data": {
            "text/plain": [
              "0"
            ]
          },
          "metadata": {},
          "execution_count": 8
        }
      ]
    },
    {
      "cell_type": "code",
      "source": [
        "a2"
      ],
      "metadata": {
        "colab": {
          "base_uri": "https://localhost:8080/"
        },
        "id": "o8ntYDmwMej_",
        "outputId": "f7155b6e-4f58-4159-e462-666389cf1a13"
      },
      "execution_count": 10,
      "outputs": [
        {
          "output_type": "execute_result",
          "data": {
            "text/plain": [
              "array([[ 0,  1,  2,  3],\n",
              "       [ 4,  5,  6,  7],\n",
              "       [ 8,  9, 10, 11]])"
            ]
          },
          "metadata": {},
          "execution_count": 10
        }
      ]
    },
    {
      "cell_type": "code",
      "source": [
        "a2[1,2]"
      ],
      "metadata": {
        "colab": {
          "base_uri": "https://localhost:8080/"
        },
        "id": "hmlQrnQoPFJ0",
        "outputId": "b14279c6-7110-4c21-ff37-4c9dea754d1f"
      },
      "execution_count": 11,
      "outputs": [
        {
          "output_type": "execute_result",
          "data": {
            "text/plain": [
              "6"
            ]
          },
          "metadata": {},
          "execution_count": 11
        }
      ]
    },
    {
      "cell_type": "code",
      "source": [
        "a2[2,3]"
      ],
      "metadata": {
        "colab": {
          "base_uri": "https://localhost:8080/"
        },
        "id": "AhPYRm9pPJZq",
        "outputId": "9fb4f1c8-9ee2-4981-a065-54b4829cfe13"
      },
      "execution_count": 12,
      "outputs": [
        {
          "output_type": "execute_result",
          "data": {
            "text/plain": [
              "11"
            ]
          },
          "metadata": {},
          "execution_count": 12
        }
      ]
    },
    {
      "cell_type": "code",
      "source": [
        "a2[-1,-1]"
      ],
      "metadata": {
        "colab": {
          "base_uri": "https://localhost:8080/"
        },
        "id": "KE19vmEMPWWm",
        "outputId": "8c05d781-3242-46b2-a5ab-3b8fe1c87fb3"
      },
      "execution_count": 13,
      "outputs": [
        {
          "output_type": "execute_result",
          "data": {
            "text/plain": [
              "11"
            ]
          },
          "metadata": {},
          "execution_count": 13
        }
      ]
    },
    {
      "cell_type": "code",
      "source": [
        "a2[1,0]"
      ],
      "metadata": {
        "colab": {
          "base_uri": "https://localhost:8080/"
        },
        "id": "N41PCy-vPa6f",
        "outputId": "62f17798-de49-4f98-e7b4-3303de420d17"
      },
      "execution_count": 14,
      "outputs": [
        {
          "output_type": "execute_result",
          "data": {
            "text/plain": [
              "4"
            ]
          },
          "metadata": {},
          "execution_count": 14
        }
      ]
    },
    {
      "cell_type": "code",
      "source": [
        "a3"
      ],
      "metadata": {
        "colab": {
          "base_uri": "https://localhost:8080/"
        },
        "id": "0zMiKpO2PeSB",
        "outputId": "01d08bb4-5129-4a0e-eb09-1ff7b2018560"
      },
      "execution_count": 15,
      "outputs": [
        {
          "output_type": "execute_result",
          "data": {
            "text/plain": [
              "array([[[0, 1],\n",
              "        [2, 3]],\n",
              "\n",
              "       [[4, 5],\n",
              "        [6, 7]]])"
            ]
          },
          "metadata": {},
          "execution_count": 15
        }
      ]
    },
    {
      "cell_type": "code",
      "source": [
        "a3[1,0,1]"
      ],
      "metadata": {
        "colab": {
          "base_uri": "https://localhost:8080/"
        },
        "id": "_QP_Q4hXPqdI",
        "outputId": "a1a2ccac-3a0e-47dd-9576-21ad8c3050f9"
      },
      "execution_count": 16,
      "outputs": [
        {
          "output_type": "execute_result",
          "data": {
            "text/plain": [
              "5"
            ]
          },
          "metadata": {},
          "execution_count": 16
        }
      ]
    },
    {
      "cell_type": "code",
      "source": [
        "a3[0,1,0]"
      ],
      "metadata": {
        "colab": {
          "base_uri": "https://localhost:8080/"
        },
        "id": "-scJry1WPsm8",
        "outputId": "16c68567-a789-48e9-eb72-36eaed7ef1ae"
      },
      "execution_count": 17,
      "outputs": [
        {
          "output_type": "execute_result",
          "data": {
            "text/plain": [
              "2"
            ]
          },
          "metadata": {},
          "execution_count": 17
        }
      ]
    },
    {
      "cell_type": "code",
      "source": [
        "a3[0,0,0]"
      ],
      "metadata": {
        "colab": {
          "base_uri": "https://localhost:8080/"
        },
        "id": "mtFJxXieP-XN",
        "outputId": "d8eefb2e-7f23-4f72-b0f1-dd78549c8d9b"
      },
      "execution_count": 18,
      "outputs": [
        {
          "output_type": "execute_result",
          "data": {
            "text/plain": [
              "0"
            ]
          },
          "metadata": {},
          "execution_count": 18
        }
      ]
    },
    {
      "cell_type": "code",
      "source": [
        "a3[1,1,0]"
      ],
      "metadata": {
        "colab": {
          "base_uri": "https://localhost:8080/"
        },
        "id": "0imJE8agQFzs",
        "outputId": "1268ce44-2607-4140-bf50-8fa4cc331a34"
      },
      "execution_count": 19,
      "outputs": [
        {
          "output_type": "execute_result",
          "data": {
            "text/plain": [
              "6"
            ]
          },
          "metadata": {},
          "execution_count": 19
        }
      ]
    },
    {
      "cell_type": "markdown",
      "source": [
        "**Slicing**"
      ],
      "metadata": {
        "id": "4ugcFHALQgLs"
      }
    },
    {
      "cell_type": "code",
      "source": [
        "a1"
      ],
      "metadata": {
        "colab": {
          "base_uri": "https://localhost:8080/"
        },
        "id": "V40ia6rYQVjA",
        "outputId": "b8218235-9172-4ef7-e850-711c1a8361d9"
      },
      "execution_count": 20,
      "outputs": [
        {
          "output_type": "execute_result",
          "data": {
            "text/plain": [
              "array([0, 1, 2, 3, 4, 5, 6, 7, 8, 9])"
            ]
          },
          "metadata": {},
          "execution_count": 20
        }
      ]
    },
    {
      "cell_type": "code",
      "source": [
        "a1[2:5]"
      ],
      "metadata": {
        "colab": {
          "base_uri": "https://localhost:8080/"
        },
        "id": "9lBZiCKqTq9-",
        "outputId": "de075b36-8d92-4be1-955c-945cd9370c67"
      },
      "execution_count": 21,
      "outputs": [
        {
          "output_type": "execute_result",
          "data": {
            "text/plain": [
              "array([2, 3, 4])"
            ]
          },
          "metadata": {},
          "execution_count": 21
        }
      ]
    },
    {
      "cell_type": "code",
      "source": [
        "a1[2:5:2]"
      ],
      "metadata": {
        "colab": {
          "base_uri": "https://localhost:8080/"
        },
        "id": "o6jK2cM0T2Fu",
        "outputId": "c428be61-753a-49b2-e375-c45a24dec4f7"
      },
      "execution_count": 22,
      "outputs": [
        {
          "output_type": "execute_result",
          "data": {
            "text/plain": [
              "array([2, 4])"
            ]
          },
          "metadata": {},
          "execution_count": 22
        }
      ]
    },
    {
      "cell_type": "code",
      "source": [
        "a2"
      ],
      "metadata": {
        "colab": {
          "base_uri": "https://localhost:8080/"
        },
        "id": "w3RlXBK1UBj9",
        "outputId": "53c4ed44-395c-41ef-9c4d-5c9ebda8d48b"
      },
      "execution_count": 23,
      "outputs": [
        {
          "output_type": "execute_result",
          "data": {
            "text/plain": [
              "array([[ 0,  1,  2,  3],\n",
              "       [ 4,  5,  6,  7],\n",
              "       [ 8,  9, 10, 11]])"
            ]
          },
          "metadata": {},
          "execution_count": 23
        }
      ]
    },
    {
      "cell_type": "code",
      "source": [
        "a2[0]"
      ],
      "metadata": {
        "colab": {
          "base_uri": "https://localhost:8080/"
        },
        "id": "6uYVo1c5UHhB",
        "outputId": "6e1fa4a0-ed02-43c5-bccf-a9b49a0fed8a"
      },
      "execution_count": 24,
      "outputs": [
        {
          "output_type": "execute_result",
          "data": {
            "text/plain": [
              "array([0, 1, 2, 3])"
            ]
          },
          "metadata": {},
          "execution_count": 24
        }
      ]
    },
    {
      "cell_type": "code",
      "source": [
        "a2[:,2]"
      ],
      "metadata": {
        "colab": {
          "base_uri": "https://localhost:8080/"
        },
        "id": "hhpFu9K4ULeb",
        "outputId": "96ebdba3-b807-47e2-ad97-78bf8332db8f"
      },
      "execution_count": 25,
      "outputs": [
        {
          "output_type": "execute_result",
          "data": {
            "text/plain": [
              "array([ 2,  6, 10])"
            ]
          },
          "metadata": {},
          "execution_count": 25
        }
      ]
    },
    {
      "cell_type": "code",
      "source": [
        "a2[1:,1:3]"
      ],
      "metadata": {
        "colab": {
          "base_uri": "https://localhost:8080/"
        },
        "id": "JWyiZ2ewUXIg",
        "outputId": "c6c67130-b5aa-428a-867a-61d82fd8432e"
      },
      "execution_count": 26,
      "outputs": [
        {
          "output_type": "execute_result",
          "data": {
            "text/plain": [
              "array([[ 5,  6],\n",
              "       [ 9, 10]])"
            ]
          },
          "metadata": {},
          "execution_count": 26
        }
      ]
    },
    {
      "cell_type": "code",
      "source": [
        "a2[::2,::3]"
      ],
      "metadata": {
        "colab": {
          "base_uri": "https://localhost:8080/"
        },
        "id": "MOUy7g6rUqTs",
        "outputId": "830d886d-f56a-4ce5-f0cc-59944221138b"
      },
      "execution_count": 27,
      "outputs": [
        {
          "output_type": "execute_result",
          "data": {
            "text/plain": [
              "array([[ 0,  3],\n",
              "       [ 8, 11]])"
            ]
          },
          "metadata": {},
          "execution_count": 27
        }
      ]
    },
    {
      "cell_type": "code",
      "source": [
        "a2[::2,1::2]"
      ],
      "metadata": {
        "colab": {
          "base_uri": "https://localhost:8080/"
        },
        "id": "dWY4lLT7VR0y",
        "outputId": "792e1cee-3372-462c-c518-291dff69001c"
      },
      "execution_count": 28,
      "outputs": [
        {
          "output_type": "execute_result",
          "data": {
            "text/plain": [
              "array([[ 1,  3],\n",
              "       [ 9, 11]])"
            ]
          },
          "metadata": {},
          "execution_count": 28
        }
      ]
    },
    {
      "cell_type": "code",
      "source": [
        "a2[1,::3]"
      ],
      "metadata": {
        "colab": {
          "base_uri": "https://localhost:8080/"
        },
        "id": "DuLXuwJ7V5OJ",
        "outputId": "91c026e0-e163-459d-c18c-f5d41bfdcd52"
      },
      "execution_count": 30,
      "outputs": [
        {
          "output_type": "execute_result",
          "data": {
            "text/plain": [
              "array([4, 7])"
            ]
          },
          "metadata": {},
          "execution_count": 30
        }
      ]
    },
    {
      "cell_type": "code",
      "source": [
        "a2[0:2,1:]"
      ],
      "metadata": {
        "colab": {
          "base_uri": "https://localhost:8080/"
        },
        "id": "md8DFX5oV-xr",
        "outputId": "a0d11288-2737-43c9-8470-1c2e2025816a"
      },
      "execution_count": 31,
      "outputs": [
        {
          "output_type": "execute_result",
          "data": {
            "text/plain": [
              "array([[1, 2, 3],\n",
              "       [5, 6, 7]])"
            ]
          },
          "metadata": {},
          "execution_count": 31
        }
      ]
    },
    {
      "cell_type": "code",
      "source": [
        "a3 = np.arange(27).reshape(3,3,3)\n",
        "a3"
      ],
      "metadata": {
        "colab": {
          "base_uri": "https://localhost:8080/"
        },
        "id": "32Foqf_bU81e",
        "outputId": "2b840084-477a-4a13-b87a-205d728375c5"
      },
      "execution_count": 33,
      "outputs": [
        {
          "output_type": "execute_result",
          "data": {
            "text/plain": [
              "array([[[ 0,  1,  2],\n",
              "        [ 3,  4,  5],\n",
              "        [ 6,  7,  8]],\n",
              "\n",
              "       [[ 9, 10, 11],\n",
              "        [12, 13, 14],\n",
              "        [15, 16, 17]],\n",
              "\n",
              "       [[18, 19, 20],\n",
              "        [21, 22, 23],\n",
              "        [24, 25, 26]]])"
            ]
          },
          "metadata": {},
          "execution_count": 33
        }
      ]
    },
    {
      "cell_type": "code",
      "source": [
        "a3[1]"
      ],
      "metadata": {
        "colab": {
          "base_uri": "https://localhost:8080/"
        },
        "id": "bLaS9Yh-WSrK",
        "outputId": "580bb668-a4c8-463d-82fe-fc70a97c54b5"
      },
      "execution_count": 34,
      "outputs": [
        {
          "output_type": "execute_result",
          "data": {
            "text/plain": [
              "array([[ 9, 10, 11],\n",
              "       [12, 13, 14],\n",
              "       [15, 16, 17]])"
            ]
          },
          "metadata": {},
          "execution_count": 34
        }
      ]
    },
    {
      "cell_type": "code",
      "source": [
        "a3[::2]"
      ],
      "metadata": {
        "colab": {
          "base_uri": "https://localhost:8080/"
        },
        "id": "kwW2x963hG-5",
        "outputId": "510e7363-3483-40b6-ccee-c2b7a0502570"
      },
      "execution_count": 35,
      "outputs": [
        {
          "output_type": "execute_result",
          "data": {
            "text/plain": [
              "array([[[ 0,  1,  2],\n",
              "        [ 3,  4,  5],\n",
              "        [ 6,  7,  8]],\n",
              "\n",
              "       [[18, 19, 20],\n",
              "        [21, 22, 23],\n",
              "        [24, 25, 26]]])"
            ]
          },
          "metadata": {},
          "execution_count": 35
        }
      ]
    },
    {
      "cell_type": "code",
      "source": [
        "a3[0,1]"
      ],
      "metadata": {
        "colab": {
          "base_uri": "https://localhost:8080/"
        },
        "id": "urbRESiOhTKO",
        "outputId": "f36b49fd-36c0-4ac1-9742-78256db4f4f2"
      },
      "execution_count": 37,
      "outputs": [
        {
          "output_type": "execute_result",
          "data": {
            "text/plain": [
              "array([3, 4, 5])"
            ]
          },
          "metadata": {},
          "execution_count": 37
        }
      ]
    },
    {
      "cell_type": "code",
      "source": [
        "a3[1,:,1]"
      ],
      "metadata": {
        "colab": {
          "base_uri": "https://localhost:8080/"
        },
        "id": "vDg-rrf-hjtJ",
        "outputId": "ddb2872c-a34a-433f-9c44-cdffb939b424"
      },
      "execution_count": 38,
      "outputs": [
        {
          "output_type": "execute_result",
          "data": {
            "text/plain": [
              "array([10, 13, 16])"
            ]
          },
          "metadata": {},
          "execution_count": 38
        }
      ]
    },
    {
      "cell_type": "code",
      "source": [
        "a3[2,1:,1:]"
      ],
      "metadata": {
        "colab": {
          "base_uri": "https://localhost:8080/"
        },
        "id": "r7xhB-VohyDb",
        "outputId": "91d28560-213b-4500-a351-567ea43c9101"
      },
      "execution_count": 39,
      "outputs": [
        {
          "output_type": "execute_result",
          "data": {
            "text/plain": [
              "array([[22, 23],\n",
              "       [25, 26]])"
            ]
          },
          "metadata": {},
          "execution_count": 39
        }
      ]
    },
    {
      "cell_type": "code",
      "source": [
        "a3[::2,0,::2]"
      ],
      "metadata": {
        "colab": {
          "base_uri": "https://localhost:8080/"
        },
        "id": "DJ-WnxvQh_7O",
        "outputId": "e4a75078-56e9-443d-e706-61ac85de5597"
      },
      "execution_count": 40,
      "outputs": [
        {
          "output_type": "execute_result",
          "data": {
            "text/plain": [
              "array([[ 0,  2],\n",
              "       [18, 20]])"
            ]
          },
          "metadata": {},
          "execution_count": 40
        }
      ]
    },
    {
      "cell_type": "markdown",
      "source": [
        "### Iterating"
      ],
      "metadata": {
        "id": "7C64OeIx1lA8"
      }
    },
    {
      "cell_type": "code",
      "source": [
        "a1"
      ],
      "metadata": {
        "colab": {
          "base_uri": "https://localhost:8080/"
        },
        "id": "8Dc0idt7iSGm",
        "outputId": "f192d439-bc9b-4127-cea5-8e720541eca8"
      },
      "execution_count": 41,
      "outputs": [
        {
          "output_type": "execute_result",
          "data": {
            "text/plain": [
              "array([0, 1, 2, 3, 4, 5, 6, 7, 8, 9])"
            ]
          },
          "metadata": {},
          "execution_count": 41
        }
      ]
    },
    {
      "cell_type": "code",
      "source": [
        "for i in a1:\n",
        "  print(i)"
      ],
      "metadata": {
        "colab": {
          "base_uri": "https://localhost:8080/"
        },
        "id": "PVzohKUR1mgC",
        "outputId": "277588ad-9eea-4fde-8087-e515fb0ce0be"
      },
      "execution_count": 43,
      "outputs": [
        {
          "output_type": "stream",
          "name": "stdout",
          "text": [
            "0\n",
            "1\n",
            "2\n",
            "3\n",
            "4\n",
            "5\n",
            "6\n",
            "7\n",
            "8\n",
            "9\n"
          ]
        }
      ]
    },
    {
      "cell_type": "code",
      "source": [
        "a2"
      ],
      "metadata": {
        "colab": {
          "base_uri": "https://localhost:8080/"
        },
        "id": "sH4wBLIx1qHC",
        "outputId": "fb51e579-ab66-4ed4-9412-ce87736cece4"
      },
      "execution_count": 44,
      "outputs": [
        {
          "output_type": "execute_result",
          "data": {
            "text/plain": [
              "array([[ 0,  1,  2,  3],\n",
              "       [ 4,  5,  6,  7],\n",
              "       [ 8,  9, 10, 11]])"
            ]
          },
          "metadata": {},
          "execution_count": 44
        }
      ]
    },
    {
      "cell_type": "code",
      "source": [
        "for i in a2:\n",
        "  print(i)"
      ],
      "metadata": {
        "colab": {
          "base_uri": "https://localhost:8080/"
        },
        "id": "JB2u6Lv41upb",
        "outputId": "992cfad5-0114-4dda-9087-3fea63925e99"
      },
      "execution_count": 45,
      "outputs": [
        {
          "output_type": "stream",
          "name": "stdout",
          "text": [
            "[0 1 2 3]\n",
            "[4 5 6 7]\n",
            "[ 8  9 10 11]\n"
          ]
        }
      ]
    },
    {
      "cell_type": "code",
      "source": [
        "a3"
      ],
      "metadata": {
        "colab": {
          "base_uri": "https://localhost:8080/"
        },
        "id": "Yh0JCLSU1xG0",
        "outputId": "69523344-c6e5-4238-e0eb-646098bf8808"
      },
      "execution_count": 46,
      "outputs": [
        {
          "output_type": "execute_result",
          "data": {
            "text/plain": [
              "array([[[ 0,  1,  2],\n",
              "        [ 3,  4,  5],\n",
              "        [ 6,  7,  8]],\n",
              "\n",
              "       [[ 9, 10, 11],\n",
              "        [12, 13, 14],\n",
              "        [15, 16, 17]],\n",
              "\n",
              "       [[18, 19, 20],\n",
              "        [21, 22, 23],\n",
              "        [24, 25, 26]]])"
            ]
          },
          "metadata": {},
          "execution_count": 46
        }
      ]
    },
    {
      "cell_type": "code",
      "source": [
        "for i in a3:\n",
        "  print(i)"
      ],
      "metadata": {
        "colab": {
          "base_uri": "https://localhost:8080/"
        },
        "id": "h0bO6Imf1yQe",
        "outputId": "76ddc22f-26b3-4aca-df01-dc89a8512b61"
      },
      "execution_count": 48,
      "outputs": [
        {
          "output_type": "stream",
          "name": "stdout",
          "text": [
            "[[0 1 2]\n",
            " [3 4 5]\n",
            " [6 7 8]]\n",
            "[[ 9 10 11]\n",
            " [12 13 14]\n",
            " [15 16 17]]\n",
            "[[18 19 20]\n",
            " [21 22 23]\n",
            " [24 25 26]]\n"
          ]
        }
      ]
    },
    {
      "cell_type": "code",
      "source": [
        "# how to print each element of an array -> use np.nditer() -> converts N-dimension array into 1D array\n",
        "for i in np.nditer(a3):\n",
        "  print(i,end=' ')"
      ],
      "metadata": {
        "colab": {
          "base_uri": "https://localhost:8080/"
        },
        "id": "3BnG5dFY11Xh",
        "outputId": "7338b3ef-715c-4fa0-ca2f-cd0b7cedf0f5"
      },
      "execution_count": 74,
      "outputs": [
        {
          "output_type": "stream",
          "name": "stdout",
          "text": [
            "0 1 2 3 4 5 6 7 8 9 10 11 12 13 14 15 16 17 18 19 20 21 22 23 24 25 26 "
          ]
        }
      ]
    },
    {
      "cell_type": "markdown",
      "source": [
        "### Reshaping\n",
        "\n",
        "*   reshape\n",
        "*   transpose\n",
        "-   ravel"
      ],
      "metadata": {
        "id": "QBaQkzmk3zOo"
      }
    },
    {
      "cell_type": "code",
      "source": [
        "# reshape\n",
        "a2"
      ],
      "metadata": {
        "colab": {
          "base_uri": "https://localhost:8080/"
        },
        "id": "2zt6RjEr2SRS",
        "outputId": "a9842300-eb88-410d-ec39-85cc60f8c3d1"
      },
      "execution_count": 53,
      "outputs": [
        {
          "output_type": "execute_result",
          "data": {
            "text/plain": [
              "array([[ 0,  1,  2,  3],\n",
              "       [ 4,  5,  6,  7],\n",
              "       [ 8,  9, 10, 11]])"
            ]
          },
          "metadata": {},
          "execution_count": 53
        }
      ]
    },
    {
      "cell_type": "code",
      "source": [
        "a2.reshape(2,6)"
      ],
      "metadata": {
        "colab": {
          "base_uri": "https://localhost:8080/"
        },
        "id": "_dF3-IPz2T4L",
        "outputId": "9d2b632b-20fb-4170-ce16-7840b056cbdc"
      },
      "execution_count": 55,
      "outputs": [
        {
          "output_type": "execute_result",
          "data": {
            "text/plain": [
              "array([[ 0,  1,  2,  3,  4,  5],\n",
              "       [ 6,  7,  8,  9, 10, 11]])"
            ]
          },
          "metadata": {},
          "execution_count": 55
        }
      ]
    },
    {
      "cell_type": "code",
      "source": [
        "# transpose\n",
        "np.transpose(a2)"
      ],
      "metadata": {
        "colab": {
          "base_uri": "https://localhost:8080/"
        },
        "id": "w_QDZoTH4AvA",
        "outputId": "b2018a68-b26c-4ff5-90fe-fc71f1549252"
      },
      "execution_count": 57,
      "outputs": [
        {
          "output_type": "execute_result",
          "data": {
            "text/plain": [
              "array([[ 0,  4,  8],\n",
              "       [ 1,  5,  9],\n",
              "       [ 2,  6, 10],\n",
              "       [ 3,  7, 11]])"
            ]
          },
          "metadata": {},
          "execution_count": 57
        }
      ]
    },
    {
      "cell_type": "code",
      "source": [
        "a2.T"
      ],
      "metadata": {
        "colab": {
          "base_uri": "https://localhost:8080/"
        },
        "id": "6kaa99w64Jsp",
        "outputId": "7aa6a97c-6b9c-4292-b9d9-452a937d8545"
      },
      "execution_count": 58,
      "outputs": [
        {
          "output_type": "execute_result",
          "data": {
            "text/plain": [
              "array([[ 0,  4,  8],\n",
              "       [ 1,  5,  9],\n",
              "       [ 2,  6, 10],\n",
              "       [ 3,  7, 11]])"
            ]
          },
          "metadata": {},
          "execution_count": 58
        }
      ]
    },
    {
      "cell_type": "code",
      "source": [
        "# ravel - convert N-dim array into 1D array\n",
        "a2.ravel()"
      ],
      "metadata": {
        "colab": {
          "base_uri": "https://localhost:8080/"
        },
        "id": "dPyjTKEW4PPk",
        "outputId": "45d0bdcf-4bd5-4eac-e2d8-809f0904d07b"
      },
      "execution_count": 59,
      "outputs": [
        {
          "output_type": "execute_result",
          "data": {
            "text/plain": [
              "array([ 0,  1,  2,  3,  4,  5,  6,  7,  8,  9, 10, 11])"
            ]
          },
          "metadata": {},
          "execution_count": 59
        }
      ]
    },
    {
      "cell_type": "code",
      "source": [
        "a3"
      ],
      "metadata": {
        "colab": {
          "base_uri": "https://localhost:8080/"
        },
        "id": "33lGN-hC4SfI",
        "outputId": "9c19d878-526a-40e1-9717-057de786c01f"
      },
      "execution_count": 60,
      "outputs": [
        {
          "output_type": "execute_result",
          "data": {
            "text/plain": [
              "array([[[ 0,  1,  2],\n",
              "        [ 3,  4,  5],\n",
              "        [ 6,  7,  8]],\n",
              "\n",
              "       [[ 9, 10, 11],\n",
              "        [12, 13, 14],\n",
              "        [15, 16, 17]],\n",
              "\n",
              "       [[18, 19, 20],\n",
              "        [21, 22, 23],\n",
              "        [24, 25, 26]]])"
            ]
          },
          "metadata": {},
          "execution_count": 60
        }
      ]
    },
    {
      "cell_type": "code",
      "source": [
        "a3.ravel()"
      ],
      "metadata": {
        "colab": {
          "base_uri": "https://localhost:8080/"
        },
        "id": "E26Mgssf4T4X",
        "outputId": "773b119e-d6c1-4763-d3aa-68732cdec5a8"
      },
      "execution_count": 61,
      "outputs": [
        {
          "output_type": "execute_result",
          "data": {
            "text/plain": [
              "array([ 0,  1,  2,  3,  4,  5,  6,  7,  8,  9, 10, 11, 12, 13, 14, 15, 16,\n",
              "       17, 18, 19, 20, 21, 22, 23, 24, 25, 26])"
            ]
          },
          "metadata": {},
          "execution_count": 61
        }
      ]
    },
    {
      "cell_type": "markdown",
      "source": [
        "### Stacking\n",
        "\n",
        "*   hstack\n",
        "*   vstack\n",
        "\n"
      ],
      "metadata": {
        "id": "SbBRZ3yz68f7"
      }
    },
    {
      "cell_type": "code",
      "source": [
        "a4 = np.arange(12).reshape(3,4)\n",
        "a5 = np.arange(12,24).reshape(3,4)\n",
        "\n",
        "print(a4,a5,sep='\\n\\n')"
      ],
      "metadata": {
        "colab": {
          "base_uri": "https://localhost:8080/"
        },
        "id": "AcAivHvR4VuN",
        "outputId": "db3c4dc5-ec18-44e9-bb47-ae7ad54751d6"
      },
      "execution_count": 63,
      "outputs": [
        {
          "output_type": "stream",
          "name": "stdout",
          "text": [
            "[[ 0  1  2  3]\n",
            " [ 4  5  6  7]\n",
            " [ 8  9 10 11]]\n",
            "\n",
            "[[12 13 14 15]\n",
            " [16 17 18 19]\n",
            " [20 21 22 23]]\n"
          ]
        }
      ]
    },
    {
      "cell_type": "code",
      "source": [
        "# horizontal stacking\n",
        "np.hstack((a4,a5))"
      ],
      "metadata": {
        "colab": {
          "base_uri": "https://localhost:8080/"
        },
        "id": "7eAE2woV7Czp",
        "outputId": "66ff9575-071d-4817-bef6-8a388144bce9"
      },
      "execution_count": 64,
      "outputs": [
        {
          "output_type": "execute_result",
          "data": {
            "text/plain": [
              "array([[ 0,  1,  2,  3, 12, 13, 14, 15],\n",
              "       [ 4,  5,  6,  7, 16, 17, 18, 19],\n",
              "       [ 8,  9, 10, 11, 20, 21, 22, 23]])"
            ]
          },
          "metadata": {},
          "execution_count": 64
        }
      ]
    },
    {
      "cell_type": "code",
      "source": [
        "# vertical stacking\n",
        "np.vstack((a4,a5))"
      ],
      "metadata": {
        "colab": {
          "base_uri": "https://localhost:8080/"
        },
        "id": "gz2FX9TG7LJL",
        "outputId": "f2a87044-6e3d-4e95-a6e4-20ef06bec0ab"
      },
      "execution_count": 66,
      "outputs": [
        {
          "output_type": "execute_result",
          "data": {
            "text/plain": [
              "array([[ 0,  1,  2,  3],\n",
              "       [ 4,  5,  6,  7],\n",
              "       [ 8,  9, 10, 11],\n",
              "       [12, 13, 14, 15],\n",
              "       [16, 17, 18, 19],\n",
              "       [20, 21, 22, 23]])"
            ]
          },
          "metadata": {},
          "execution_count": 66
        }
      ]
    },
    {
      "cell_type": "markdown",
      "source": [
        "![image.png](data:image/png;base64,iVBORw0KGgoAAAANSUhEUgAAApIAAAElCAIAAADYzZVhAAAgAElEQVR4Ae2dTU7svBKG2QSbYXJHSHclTNkGQyYMzyKYILEBRncDCLED9tBXidPV7o7za5ddjp9PR/qMY5ffelzhJemf3J34DwIQgAAEIACBSgjcVaITmRCAAAQgAAEInLBtigACEIAABCBQDQFsu5qtQigEIAABCEAA26YGIAABCEAAAtUQwLar2SqEQgACEIAABLBtagACEIAABCBQDQFsu5qtQigEIAABCEAA26YGIAABCEAAAtUQwLar2SqEQgACEIAABLBtagACEIAABCBQDYEj2PbdxH/VbEIKoRMMhu4UK9zGmF9xx9HbBfgZAhCAAARGBKq37R324KaMUBjt2J2gP1EjNz9+wraGVGJCAAIQOAyBdm377q6O3JM4oka9JhE2DqIhlZg+AWHud9KGAARqIVCHde2mKb+hgo3dYXNODCq/6cypR2ktyUgpPmGFgKBe2ZCJNCAAAQsE1tq2nOErRcv4xcbKgKmGiZ5UAbXjVCd4H5BG0twHJ+0sQZ22kVYk0SAAgSkCm2077ame/0616J8iYq2/OsH7ADaS5j44aWcJ6rSNtCKJBgEITBHAtqfIWOmX361WBOnoaCRNHXjbom5CLYMXG9tEMBoCENhLQMu29+pRnye/fdRXSrRAdYL35d1ImvvgpJ0F6rQ8W4gmNSONFrI2m+Nm2zabyUph1ZVddYJXbsTNsEbSvMm6yI+gLoK93kWlYHY06s3asnJs2/LudNrkVLEuNE5fI2nGQUozG9RpODYTRQombaMZfukTxbbTM00bUU6VtGGtRWskTQvYQW1hFw6gQQppX+MABEqlgG2XIr92XTkl1k6oc1wjaVrYHFBb2IV2NEi9jRvtQEibKbadlmf6aFLr6UNbithImhaQg9rCLrSsgQqM3H1sOxKg+vRGSryRNNXLZcUCDvWKgQyBgAoBTvZIrNh2JED16Y2UeCNpqpfL0gJwXiLEcXUCFGEkYmw7EqD69EZKvJE01ctlaQE4LxHiuDoBijASMbYdCVB9eiMl3kia6uWytACclwhxXJ0ARRiJGNuOBKg+vZESbyRN9XJZWgDOS4Q4rk6AIoxEjG1HAlSf3kiJN5KmerksLQDnJUIcVydAEUYixrYjAapPb6TEG0lTvVyWFoDzEiGOqxOgCCMRY9uRANWnN1LijaSpXi5LC8B5iRDH1QlQhJGIse1IgOrTGylx42n+57//c//U91t5AeOclbMnvAkCFGHkNmDbkQDVpzdS4sbTFNuu3byNc1Y/nVjAAAFXhAaE1CoB27a+c438njWe5o1t12vexjlbPxvRF01AoQI/3+/uX+4ev348cT9v/7rO52+vb13TRdsxcV345VHLArDtZYplRyhUedmEwqsbTzNo2zWat3HO4eKg90AEFCqwHtv++f1+enz/mN9ObHvER6FoRmsk7ahO8L7sjacptn06naTtN/ZlnX+Wcc75gbBiZgIKFZjWtvV4/H493L/c3WPbmxErFM1mDZsmVCd4U3Yy2Hia4tAiWHr8hhw12zDO2Sw3hKUioFCBq2z77/W5v23e3U5/f/38G/IZ5r4/uaPP3z/exe5wp73zWvknpjsb8Pn75+29N+mXh+f+7v3g2UOch7dOwMfbPzfm7v487HQ6eQImoHOTfAKMmW6FKjeTmyfEeJrizZ7krin9fuNmjKkfjXM2xQoxGgQUKtD53MVZxWLlte3vp9HRp88+u5u5z9++a07b9uqA/bqdSY9sOxDcvaCObY/qTqFoRmsk7ahO8L7s06bpm2jadjC74BLBkcU703Iung4CqiOgUIE31us7dG+Eg0E+fn38drjOftlfNw9z/732h7rDQdf8PF8691fJ6wN+PPd/Qzg/nr5J/vPmvasuKOBqn7navsJh8AeFKjeY5SltmkEfTdI5wy4Yf2Z8kUNpORdJgUWrJqBQgc7npt9J7rxzuLzu4Llr5d6qx3PHrnnt2d3N7d6MVwX0o41t+/fv4+1ruD8vb4b3p4S3GtsOc7HTq1DldpK7KEmbZtBB4zsvcqdbwVWmh+c+kpZzbvWsVz8BhQocW69cUveXuRtcdny1fb657V6NdvyXA7rL65to17btLtkfnr8+fv+uLvGx7VGVKxTNaI2kHdUJ3pd92jTFO/eJiZ8lAvxGfNj4CGk5x+shQmsEFCpwybbD97Td1fl4ru+aIc++3Ga/uevuBwza9nCV797U9vf62N0/7y/Z/9zfAcOnzH0B4ergajvMxU6vQpXbSe6iJG2aYpaXBUq0RIbfKCHksmZazpe4tCCwjoBCBY6t9/pq+3xX3Hur2uCX51ey/RvsnmsObuq/WD5MXHpL2pxtdzIe3r6dbXvvUT9/Y4wnYAIptj0Bxky3QpWbyc0TkjZNsUlvhWJNEeM3SqlxnEutzroQSHum9zyXbft0+v2e/QCY9w1rnmtO2/ZSwLBtd5/4cj7dv7f8+6m/4O4+kPbrLr69d8lJhEDJYNsBKKa6FKrcVH6DmLRpikHaSVUk+Y3M8tJCziye5Y5BgCKM30dsO56hboRGqjxtmmKNunuzPboIk8b2GPtnpIW8XwczGyZAEcZvPrYdz1A3QiNVnjbNIqa4pg5EmDTWzEo1Ji3kVKqI0xQBijB+u7HteIa6ERqp8rRpFjHF+ToQSX5jfkryo2khJ5dHwBYIUITxu4xtxzPUjdBIladNU6xRd2/WRRcxfmPd1MSj0kJOLI5wbRCgCOP3eZVtC+i7u1Xj42WpRpB0VFdJFbwutbuzTpumGORuPUkmigy/kSTyviBpIe/TwKzGCVCE8QWwyoYPBrqidCqSGlmLaTMVm4xUtXu6CPAbu6OlmpgWcipVxGmKAEUYv93YdjxDxQiNlHjyNH2zTNhes9PB5dZMzDAmOecMmlniYATqKULvA9xXezDVfzVI9QdsWxVvbPB6Sjwq0+RpBr0zSedMnsH4M+PzH0rOOX8KrFg7AVeEmbL4+f1+epQnZG9cdMqep/o3ho8Yjm1HwNOf2sjv2eRpBh00SWdwz4ORgyPLdibnXDYdVq+OQN4KvH50x2ZY5e15SjK2PUXGRH/eKi+Wsv00xZhvGEm/37gZY+dH+5ztsEKJBgGlCvz7eB6+NLT7uu/n75/T6XR+Csjly0RP3XeLPpy/YPzh2ftC09+v4XtGu+nnft+2Xft+9OWj5zE/b+cHcsv0XoML28U8j0yBFdtOQVEthlKVq+ndGdh+muLKkqH0+A05arNhn7NNbqhKRUClAocHfJ39uPPp5++xbYeHjQx+mO4/c3P4C6B/PrffL21/6e4xIX8dr+u/G9xfD8MzvmJxYtuxBFXnq1S5quJdwe2nKd58Op2k7Td25Z17kn3OuYmwXl4CKhXoHvjhPw97SGr6JvnP23vno/2DvwY7H67R3aO9eod218eP7gL9X/+EzT6wf93s2veDo/vP35SnhXaX/qfhMZ3Y9u56Uymd3WpmJ1YkdTaPhYP20/Qd+qa9kJulw/Y5W6KFlvQEdCrwc7hB3d0hf3x//fzrnVKud723pP3+fbx9Pckd9c62/edeXyc8WLJ73Of5UluusN0TugZrD9xXdxYeNvvrdbb/xNX2dmYZZ+hUecYE1i1lP80bq3Y/rkvO0Cj7nA3BQooCAb0K7P14uDI+P7j6+mrbXf4+PH99/P6dLlfMy7b98Ni/cC5P0rzMPT+uO3QI205bP3qlk1bn6XSqSGpM7vbTvLHtmGQLzrXPuSAcls5AQL8Cr6za3fF2V9u+Pf8F7mYPbyX7fu2fgd1dJV/s2c09X3Bf+v0xPT3vEDfJ09aTfukk01uR1Jic7acpth2TZvG59jkXR4QAVQIqFTh4sP++sP5F69PJ2XZ3l/vhbfDj4a1hbrAbNn7vmOv3PHiw8Kn+0NX2zVvSbi/ZozBzkzwKn/ZklSrXFr09fiNpbgeTeAacEwMl3EYCShXYfQAs+Mmuj7fhg2HdG9a6r17pX6h+fH/9dRfQ55e9Fz8AdjpdbnqP7Txo2/2r4E5V95k0f9ZGaqPh2PYIiaUOpSq3lGKnpZE0i2N3nIvLQECzBBo604eb5PfvH7/ddg9/QIjBR5UAth2FT3tyI1XeSJra1TIfH8jzfDiagUBLRTi+937/cnljeRRsbDsKn/bkRqq8kTS1q2U+PpDn+XA0A4G2ivDn8/3B3ZbvXkr/9+S+hiUBZmw7AUS9EI1UeSNp6tXJmshAXkOJMaoEKMIkeLHtJBi1gjRS5Y2kqVUl6+ICeR0nRikSoAiTwMW2k2DUCtJIlTeSplaVrIsL5HWcGKVIgCJMAhfbToJRK0gjVd5ImlpVsi4ukNdxYpQiAYowCVxsOwlGrSCNVHkjaWpVybq4QF7HiVGKBCjCJHCx7SQYtYI0UuWNpKlVJeviAnkdJ0YpEqAIk8DFtpNg1ArSSJU3kqZWlayLC+R1nBilSMAVoeICbYTGtk3vcyO/ahtJs2ypAbksf1anAlPVALadiqRKnEYKvZE0VUpkdVAgr0bFQBUCVGAqrNh2KpIqcRop9EbSVCmR1UGBvBoVA1UIUIGpsGLbqUiqxGmk0BtJU6VEVgcF8mpUDFQhQAWmwoptpyKpEqeRQm8kTZUSWR0UyKtRMVCFABWYCiu2nYqkSpxGCr2RNFVKZHVQIK9GxUAVAlRgKqzYdiqSKnEaKfRG0lQpkdVBgbwaFQNVCFCBqbBi26lIqsRppNAbSVOlRFYHBfJqVAxUIUAFpsKKbaciqRKnkUJvJE2VElkdFMirUTFQhQAVmArrsm0L62AjlY41cYICxp2LoWTK4sjiAyqSGsOqkTRjEMXPBXI8QyLEEKACY+j5c2NtW3ZipuGvF9OeWWLfoRgxeeZKXnmWK7VKI2mWwuvWdZDLamD1lglwmqfafWw7FUmVOI0UeiNpqpTIuqAQXseJUYoEKMJUcJdt+3Q6zeOWo1ONVFpXxpmSMe5fGbDgMNFcUEOGpRtJMwPJqSUgPEWG/mwEKMJUqFfZdqrFjMSpqHoqkhqzuY2kGYMoci6EIwEyPZ4ARRjP0EVo0bZTsdOOI1W+u6GtMFV8STBVQOLcEIDwDRB+zE+AIkzFHNtORTJ9HKny3Y30mnQiSoI64Ym68DoXgCCQgQCneSrI2HYqkunjSJXvbqTXNBFxt8KbiRPh6Y4lIJxjAzEfAnsJUIR7yd3Ow7ZvifDzDgJyQkY2dizNlDUEZF/WDGYMBDQIUISpqGLbqUg2HUdOyMhG0xA1k5d90VyE2BCYI0ARztHZcgzb3kKLsRCok4D8xlxs1Jkfqisg4GqvAqHmJWLb5rcIgRCIJrDo1lsHRCsiQFsEpMDaSlsnW2xbhytRIWCJgPzSTNWwlBxaKiAghVeBVvMSsW3zW4RACOQiIL9bFxu5FLHOQQhIRR0kn6JpYNtF8bM4BCAAgQYIYNsJNxnbTgiTUBCAAAQgECCAbQeg7O3CtveSYx4EIAABCKwjgG2v47RqFLa9ChODIAABCDRCQCx2TWMlEwm1cjzDZghg2zNwOAQBCECgOQJisRqN5mgqJIxtK0AlJAQgAIFqCWi4tcSslooh4di2oc1ACgQgAIG6CIgfr2zUlZ1Ntdi2zX1BFQQgAAEIQCBAANsOQKELAhCAAAQgYJMAtm1zX1AFAQhAAAIQCBDAtgNQ6IIABCAAAQjYJIBt29wXVEEAAhCAAAQCBLDtABS6IAABCEAAAjYJYNs29wVVEIAABCAAgQABbDsAhS4IQAACEICATQLYts19QRUEIAABCEAgQADbDkChCwIQgAAEIGCTALZtc19QBQEIQAACEAgQaMi25StzAxjoggAEIAABCNRAANuuYZfQCAEIbCTAn+kbgTG8GgLHt205e28a1WwRQiEAge0E5HzfPpUZEDBNYNm2pfp3N/IA2CovjypWgUARAnI6nE4nabtGET0ZFr1J0/8xw+osAYFsBOZs26/7mHaGZHbIy6CKJSBQisCOM8JNKSV4cd3dGd3dzf2WW1yXARCwRmCuoGPOE39uhpz95W7asrr0Sw8NCByVgFR7fMMCosgsLKSABgikIrDKtlMtVjaOnPllZbA6BDIQmKl2ObS+kUHw/BKLUsfTZcr4ED0QqJoAtl319iEeAmECu01LJvqN8Bq2e0W/bZmog8BmAtj2ZmRMgIB9ApgWBOxXKQr3EcC293FjFgRME8C0IGC6QBEXQQDbjoDHVAhYJYBpQcBqbaIrlgC2HUuQ+RAwSADTgoDBskRSEgLYdhKMBIGALQKYFgRsVSRq0hHAttOxJBIEzBDAtCBgphgRkpgAtp0YKOEgYIEApgUBC3WIBg0C2LYGVWJCoDABTAsChUuQ5dUIYNtqaAkMgXIEMC0IlKs+VtYlgG3r8iU6BIoQwLQgUKTwWDQDAWw7A2SWgEBuApgWBHLXHOvlIoBt5yLNOhDISADTgkDGcmOprASw7ay4WQwCeQhgWhDIU2mskp8Atp2fOStCQJ0ApgUB9SJjgUIEsO1C4FkWApoEMC0IaNYXsUsSwLZL0mdtCCgRwLQgoFRahC1OANsuvgUIgEB6ApgWBNJXFRFtEMC2bewDKiCQlACmBYGkBUUwQwSwbUObgRQIpCKAaUEgVS0RxxoBbNvajqAHAgkIYFoQSFBGhDBJANs2uS2IgkAcAUwLAnEVxGy7BFqxbc5huzWIMgUCFDwEFMqKkCYIYNsmtgEREEhLANOCQNqKIpodAti2nb1ACQSSEcC0IJCsmAhkjAC2bWxDkAOBFAQwLQikqCNiWCSAbVvcFTRBIJIApgWByBJiulkCk7Z9sKI/WDpm6wlhRghQ8BAwUorISE4A206OlIAQKE8A04JA+SpEgQ4BbFuHK1EhUJQApgWBogXI4ooEsG1FuISGQCkCmBYEStUe62oTwLa1CRMfAgUIYFoQKFB2LJmFALadBTOLQCAvAUwLAnkrjtXyEcC287FmJQhkI4BpQSBbsbFQZgLYdmbgLAeBHAQwLQjkqDPWKEEA2y5BnTUhoEwA04KAcokRvhgBbLsYehaGgB4BTAsCetVF5LIEsO2y/FkdAioEMC0IqBQWQQ0QwLYNbAISIJCaAKYFgdQ1RTwrBLBtKzuBDggkJIBpQSBhORHKFAFs29R2IAYCaQhgWhBIU0lEsUcA27a3JyiCQDQBTCsngfe7+5e7x68fb9t+3v51nc/fXt/25mcfeV+QmLnblTIjIwFsOyNsloJALgI5TStXTtvWyUng7/Xx5e7+3+vvReLH88vd/cvT56VnZevn9/vp8f3DjY6x3pi5K7UyrAwBbLsMd1b9z3//5/6BQoNATtPS0B8fMysBd2398PZ31v39NLr+Ph+a/f/v18P9y9392bZnxy4cxLYXANV7GNuud+/qVi62LY268zGmPqtpGcvdyclLwNmt3CfvLfPi4r/fr8/9PfPOy98/5KLcOevj+5M7+nge0zn3Szf9xnp/v566y/r+6PPlnvzH27/e7K/7b+aa3CRE7SKAbe/CxqRoAuLWwUZ0+NYD5DUti7QzE3D3yYer5P4Oudwz76+8e691jnu5ne6cVQ49Xtw3YNvDhfhg2/LC+fAiugSRF9SxbYtlmUQTtp0EI0E2Ewi69bhzc1wm9AQym5ZB6rkJOPvsX8y+ukM+3D9//nZvWPvx3XSwbTH40+nmJrk3eLBnF+fX/SngTex34OfNe3OcN9fg9iApggC2HQGPqREExKElhvQEGzKMxhoCuU1rjaa8Y7ITcI77/O3ubMsdcvfetPN19vla2d1Od84qt9ZPM7btruYn3uP2+/fx9jXcaZfX1LHtvAWXcTVsOyNslvIIiDd7fUNTDgUb4/H0jAlkN62xhMI9BQj0Dv3+1L2H/PKesrBtuwEpbPt8Nf/18Xv9Wji2XbgC9ZbHtvXYEnmOgFjyzCAZE2zMTORQAdMyBr0EAeeU8upyT+Tq5vYNo7Ftn9zd77Pre9Z7juPeifbdf+Ts5enTvwr/G/5EcJ/z9ubeLMuPlRPAtivfwGrlixOvzEDGjxsrIzQ1rIRp2QJchMDw7rPrj2sPnf598uEW+qRt9+8Jv3kn+fgtad3d9cG2/eDDF79g27YKMqGaJmy7yAmccJMOGUrcd2t2MjHY2BrtqOOp+TIE3H3y4ctSpLi6b1CRD3f9e5KPdwds+/Thvl5t/QfAuuD9S+aP76+/3hvasW3hf7TGMW1bzthx42gbWG0+Yrq7M5AIwcbusMeYKJV/jHR2ZAGBHdCYUgWBI9i2nJ9rGlXsSgsixWvjk5VQwUZ8/BojyLlQo/gkmiGQBCNBDBKo2LbltFxsGOS+XlLQio7UuR7F4sh5LIvTjzRAToojJbUpFwhswsXgigiEbVsqfr5RME+zwtIymfehYxxNS8xFmyejsaK1mHKCWBOWTQ8EsqFmocwEomxbToz5hkZK/ooa8Y3EnLefYxzVRj1DSXvpgvHlBCmooezSECjLn9X1CNRq23pETEUWyzGlqlIxAjPYqDSpKdmYFgSmaoP+2gmEbXtlVnJizDdWRmPYmIAYzPgQPbsJCNVgY3dYUxPllDSlKqcYCOSkzVo5CUTZdk6hba4lvtJm+tpZC95gQ3t11fiY1iEITH32eqpftaYIboUAtm1lJ4I6xE6CR+lMRUA4BxupVskZ5xCmFQXMCoGf7utQzl9WujWjKXue6t8an/FVEsC2TW+buIhplQcSJ8CDjYoStWJa5ZDZIHDzIM6tOLDnrcSaGI9tm95mMQ/TKg8qTuCPG/YztmFahTnlhPD38SxfX/ryMDwV++vh/vykTvdlpafuu0ul8+HZPRekx/T7NXxH6f3Lpd+3bdf2Hx12/ciQn7d3F/kyvX8SqAvbdfrRCm8Ny8cQwLZj6KnPFcNQX4kFpgnILgQb0/NKHsnpWCXznF07H4Th8VyeSd89f5+uH/7x8PYXHnZ5zPbF47vpp5N7dLcX6t/rb5+xb8CDnXtzz38i3AgYHjfiIs+C46BtAti26f0RnzCtshlxsh3BhikM+RzLVNrXYvJBcE/MHJ7r5YuYvkn+8/be+Wj3FK/T+aGc3z+dhbsnhvUO7Sz50V2g/7s8WCxg24Oj+8/uHML2S5zkWWHYtr9BVbaxbdPbJvZgWmV74mRfgg0LPPI5loVsJzRkhPA53KC+u395eHx//fzrDPhyGe29Je337+Pt60nuqHsP37y4suRzdSV9vtT2r8KlPXizd4F+OjkLv4T1zV6WoFEfAWzb9J6JK5hW2bA42aBgoyCYjI5VMMuFpTND6P14uDIeLqPPt6kH23aXvw/PXx+/f5cb4Ofr4Iu/Sl5n235wz/2UC2XfgP22uHg/EtsWkMdqYNum91PMwLRKxJ1OslN+oyCYzI5VMNOZpQtBuLox7u54O9t2D8N+6e35L3A3e3iH2vdr//zsbtjFkt3c8wX3pd8f06PwDnGTfKY4aj6EbZvePfEA0yrbFid7NG4UBFPIsQpmHFg6H4TBg/23pA13rZ1td+8Xe3gb/Hh4a5gb7IZdv3lNXvP2bPtsz268581XY66vts/X+sO71W4v2QPE6KqCALZtepvECUyrbE+c7EuwYYFHPseykO2EhpwQug+ABT/Z9fE2fDCse8Na99UrvYk+vr/+ugvo88veix8A81+rXmnbvYufPxX2zQfAJuqkum5s2/SWiSuYVtmMONmOYMMUhpyOZSpxX0zrEIab5PfvH/3HxoY/IOQFch8V7ZoIYNumd0vswbTKo4uTXQg2bGbfumP1u9I8hPG993v3yrrNokXVSgLY9kpQZYaJT5RZvu1VBX6wYZxN847V7Q8QTj+f7w/utnz3Uvq/p7c/44WLvBUEsO0VkMoNEcMoJ6G5lYV5sFELDhwL266lVtG5lQC2vZVY1vHiHFlXbW8x4Rxs1MgD28a2a6xbNK8hgG2voVRsjLhIMQWHXljwBhtVp45tY9tVFzDiZwi0aNt3d9VkLXYys4Uc2kpAqAYbW6PZHI9tY9s2KxNV8QQCBiYnfKpGvMqEESSphDH1QgV95TCdetyCkee5BafU21lXnStxBoISWMKWJXBr21LoCRsZMtynNoOwyCXmneYYRyMRLU6fp7Q4vdIBckZUqj+JbCAkwUgQawSwbWs7cqVn3nKOcfQq4XQ/zMBJt4jdSDgWN8ntVifK4ghM2nZc2Nyz5ZfUpkZulaznERBb9fpimxIz2IiNXtV8ORGqUp1YLBASAyWcDQIHse31MDmT17NSHSnOGr+KhAo24uPXGIE652q7xrpF8xoC2PYaSoxJT0AsdndoiRBs7A57jInYNrZ9jEomizEBbHvMhJ4cBMRrty4mE4ONrdGOOh7bxraPWtvkhW1TA2UIiOmuXF7GBxsrg7QzDNvGttup9tYyxbZb23Er+Yr7zguSYePG/MTGj2Lb2Hbjp8CB02/Utg+8o7WkJjY8FiyHgo3xeHrGBLBtbHtcFfQcg0Bbts3vMjtVK5YskqQn2JBhNBYJSJ1X9D2+i0ntGCAcdsxlCgTMEsC2zW7NwYUFvXnceXAKOumJXWHbDoUOZqJCoAwBbLsMd1YdO7TfA58YAti2oyccYmAyFwLWCGDb1nakFT2+SUu7leSV8xS74mqbq23lWiN8AQLYdgHoLHk6nbBqvTLAth1b4aCHmsgQyE8A287PnBUhoEtA7Iqrba62dUuN6CUIXNm2nO0llORY8/AJ5oDIGuYJSJ1j29i2+WpF4GYC2PZmZEyAgHECYtvGdWrLg4M2YeIXIYBtF8HOohBQJIBdObhwUCwyQpcjgG2XY8/KENAhgF05rnDQqS+iFiaAbRfeAJaHQHIC2JVDCofkpUVACwSwbQu7gAYIpCSAXTmacEhZVcQyQwDbNrMVCIFAIgLYlQMJh0QFRRhbBLBtW/uBGgjEE8CuHEM4xNcSEQwSwLYNbgqSIBBFALty+OAQVUZMtkqgRdu2uhfogkAaAtiV4wiHNKraLwsAAAX8SURBVPVEFGMEGrJtzmFjtYccLQKUuiMLB60KI25RAth2UfwsDgEFAtiVgwoHheIiZHkC2Hb5PUABBNISwK4cTzikrSuiGSGAbRvZCGRAIBkB7MqhhEOykiKQJQLYtqXdQAsEUhDArhxFOKSoJmKYI4Btm9sSBEEgkgB25QDCIbKQmG6TALZtc19QBYH9BLArxw4O+2uImYYJYNuGNwdpENhFALty2OCwq3yYZJ0Atm19h9AHga0EsCtHDA5bK4fxVRDAtqvYJkRCYAMB7MrBgsOGomFoPQSw7Xr2CqUQWEcAu3Kc4LCuXhhVGQFsu7INQy4EFglgVw4RHBZLhQE1EsC2a9w1NENgjgB25ejAYa5KOFYtAWy72q1DOAQmCGBXDgwcJgqE7roJYNt17x/qITAmgF05JnAY1wY9ByDQnG0fYM9IAQIzBMSr7u6uzu6ZKUc9JCiOmiB5tUngcmIfu8SPnV2btUvWQQJS6ti2oAiCohMClRLAtivdOGRDIExAvArbFhRhUvRCoE4C2Had+4ZqCEwQEK/CtgXFBCq6IVAlAWy7ym1DNASmCIhXYduCYooV/RCokQC2XeOuoRkCkwTEq7BtQTEJiwMQqJAAtl3hpiEZArMEnF3NDmniILbdxDa3lyS23d6ek/HRCWBXbofhcPRKbzQ/bLvRjSftAxPArk6nk0DgxYIDl3qbqWHbbe47WR+ZgDjWkZNcyk0gYNtLqDheGQFsu7INQy4EFgmIYy2OPPAAgYBtH3iX20wN225z38n6yATEsY6c5FJuAgHbXkLF8coIYNuVbRhyIbBIQBxrceSBBwDhwJvbeGrYduMFQPoHJIBj+W9JO+AGk1LbBDrblpN8sVEvK0mt3hRQDoGVBKh2/9faSmgMg0AtBLbZtvw6WGxYy18EWxOGHggkJ0C1Y9vJi4qAdgi0Zdt2uKMEAnoEsG0I6FUXkYsTuLy2vUaKnAyLjTXRso0RtdlWZCEIFCRAwUOgYPmxtDaBbbatrUYpPuewEljC2iRAwUPAZmWiKgkBbDsJRoJAwBABTAsChsoRKakJYNupiRIPAgYINO5bjadvoACRoEigetuW83NNQxEkoSFgiYCcDpZE5dPSePr5QLNSCQJ2bVtOvISNEoRZEwIFCMhZU2BtA0s2nr6BHUCCIgFsWxEuoSFQikDjvtV4+qWqjnXzEKjettdg4hxeQ4kxRyLQeM03nv6RKplcxgTs2vZY6+4ezuHd6JhYKYHGa77x9CstWmSvJNCEba9kwTAIHIZA477VePqHKWMSCRLAtoNY6IRA3QQa963G06+7dlG/RADbXiLEcQhUSKBl32o59wpLFcmbCWDbm5ExAQL2CbRsXS3nbr8yURhPANuOZ0gECJgj0LJ1tZy7uUJEkAIBbFsBKiEhUJpAy9bVcu6l6471cxDAtnNQZg0IZCbQsnW1nHvmMmO5IgSw7SLYWRQC6gSce6kvY28BbNvenqAoJQFsOyVNYkHADoFm3avZxO3UHkpUCWDbqngJDoFiBJp1r2YTL1ZqLJyXALadlzerQSAXgWbdq9nEc1UW6xQmgG0X3gCWh4ASgbTuJdFcQ0lzkrAiNUk0gkDAGgFs29qOoAcCaQjscC+ZsthII1EniojXCU9UCBQmgG0X3gCWh4ASgSn3kv6YhpLmJGElryTRCAIBawSwbWs7gh4IpCEg7hXfSCMoSxRJNstqLAKBAgSw7QLQWRICGQiIga1vZFC1uMRKtVNxZPrUAPohUDsBbLv2HUQ/BBYIiJO5xsLo0odv1Eb+WDob1odAegLYdnqmRIQABHYTiPTpm+m7ZTARAmYJYNtmtwZhEIDAJIEbe576cXI+ByBQLQFsu9qtQzgEIDAiIP49OkIHBA5CANs+yEaSBgQgcDqdsG3K4PAEsO3DbzEJQgACEIDAcQhg28fZSzKBAAQgAIHDE8C2D7/FJAgBCEAAAschgG0fZy/JBAIQgAAEDk8A2z78FpMgBCAAAQgchwC2fZy9JBMIQAACEDg8AWz78FtMghCAAAQgcBwC/wcbW7NHgH4rLQAAAABJRU5ErkJggg==)"
      ],
      "metadata": {
        "id": "mcToAZZRBxGE"
      }
    },
    {
      "cell_type": "markdown",
      "source": [
        "### Splitting\n",
        "*   hsplit\n",
        "*   vsplit"
      ],
      "metadata": {
        "id": "gSTHOX8M9_PM"
      }
    },
    {
      "cell_type": "code",
      "source": [
        "a4"
      ],
      "metadata": {
        "colab": {
          "base_uri": "https://localhost:8080/"
        },
        "id": "kNWAxnKR7QDC",
        "outputId": "bbcdb6fc-0c21-452d-ccdd-d2ea5b5e317c"
      },
      "execution_count": 73,
      "outputs": [
        {
          "output_type": "execute_result",
          "data": {
            "text/plain": [
              "array([[ 0,  1,  2,  3],\n",
              "       [ 4,  5,  6,  7],\n",
              "       [ 8,  9, 10, 11]])"
            ]
          },
          "metadata": {},
          "execution_count": 73
        }
      ]
    },
    {
      "cell_type": "code",
      "source": [
        "# horizontal splitting\n",
        "np.hsplit(a4,2)"
      ],
      "metadata": {
        "colab": {
          "base_uri": "https://localhost:8080/"
        },
        "id": "naFon49j-BL9",
        "outputId": "a2abd987-49a2-4201-8d7f-08eb903e0bef"
      },
      "execution_count": 68,
      "outputs": [
        {
          "output_type": "execute_result",
          "data": {
            "text/plain": [
              "[array([[0, 1],\n",
              "        [4, 5],\n",
              "        [8, 9]]),\n",
              " array([[ 2,  3],\n",
              "        [ 6,  7],\n",
              "        [10, 11]])]"
            ]
          },
          "metadata": {},
          "execution_count": 68
        }
      ]
    },
    {
      "cell_type": "code",
      "source": [
        "np.hsplit(a4,4)"
      ],
      "metadata": {
        "colab": {
          "base_uri": "https://localhost:8080/"
        },
        "id": "O41407td-FuO",
        "outputId": "a269b8ae-0585-4d09-ead3-4845586f76ec"
      },
      "execution_count": 69,
      "outputs": [
        {
          "output_type": "execute_result",
          "data": {
            "text/plain": [
              "[array([[0],\n",
              "        [4],\n",
              "        [8]]),\n",
              " array([[1],\n",
              "        [5],\n",
              "        [9]]),\n",
              " array([[ 2],\n",
              "        [ 6],\n",
              "        [10]]),\n",
              " array([[ 3],\n",
              "        [ 7],\n",
              "        [11]])]"
            ]
          },
          "metadata": {},
          "execution_count": 69
        }
      ]
    },
    {
      "cell_type": "code",
      "source": [
        "np.hsplit(a4,3)"
      ],
      "metadata": {
        "colab": {
          "base_uri": "https://localhost:8080/",
          "height": 287
        },
        "id": "7mciq7mM-I7B",
        "outputId": "e5ccab32-d928-4295-97aa-426c85b9f145"
      },
      "execution_count": 70,
      "outputs": [
        {
          "output_type": "error",
          "ename": "ValueError",
          "evalue": "array split does not result in an equal division",
          "traceback": [
            "\u001b[0;31m---------------------------------------------------------------------------\u001b[0m",
            "\u001b[0;31mValueError\u001b[0m                                Traceback (most recent call last)",
            "\u001b[0;32m<ipython-input-70-98828260e92d>\u001b[0m in \u001b[0;36m<cell line: 1>\u001b[0;34m()\u001b[0m\n\u001b[0;32m----> 1\u001b[0;31m \u001b[0mnp\u001b[0m\u001b[0;34m.\u001b[0m\u001b[0mhsplit\u001b[0m\u001b[0;34m(\u001b[0m\u001b[0ma4\u001b[0m\u001b[0;34m,\u001b[0m\u001b[0;36m3\u001b[0m\u001b[0;34m)\u001b[0m\u001b[0;34m\u001b[0m\u001b[0;34m\u001b[0m\u001b[0m\n\u001b[0m",
            "\u001b[0;32m/usr/local/lib/python3.10/dist-packages/numpy/lib/shape_base.py\u001b[0m in \u001b[0;36mhsplit\u001b[0;34m(ary, indices_or_sections)\u001b[0m\n\u001b[1;32m    936\u001b[0m         \u001b[0;32mraise\u001b[0m \u001b[0mValueError\u001b[0m\u001b[0;34m(\u001b[0m\u001b[0;34m'hsplit only works on arrays of 1 or more dimensions'\u001b[0m\u001b[0;34m)\u001b[0m\u001b[0;34m\u001b[0m\u001b[0;34m\u001b[0m\u001b[0m\n\u001b[1;32m    937\u001b[0m     \u001b[0;32mif\u001b[0m \u001b[0mary\u001b[0m\u001b[0;34m.\u001b[0m\u001b[0mndim\u001b[0m \u001b[0;34m>\u001b[0m \u001b[0;36m1\u001b[0m\u001b[0;34m:\u001b[0m\u001b[0;34m\u001b[0m\u001b[0;34m\u001b[0m\u001b[0m\n\u001b[0;32m--> 938\u001b[0;31m         \u001b[0;32mreturn\u001b[0m \u001b[0msplit\u001b[0m\u001b[0;34m(\u001b[0m\u001b[0mary\u001b[0m\u001b[0;34m,\u001b[0m \u001b[0mindices_or_sections\u001b[0m\u001b[0;34m,\u001b[0m \u001b[0;36m1\u001b[0m\u001b[0;34m)\u001b[0m\u001b[0;34m\u001b[0m\u001b[0;34m\u001b[0m\u001b[0m\n\u001b[0m\u001b[1;32m    939\u001b[0m     \u001b[0;32melse\u001b[0m\u001b[0;34m:\u001b[0m\u001b[0;34m\u001b[0m\u001b[0;34m\u001b[0m\u001b[0m\n\u001b[1;32m    940\u001b[0m         \u001b[0;32mreturn\u001b[0m \u001b[0msplit\u001b[0m\u001b[0;34m(\u001b[0m\u001b[0mary\u001b[0m\u001b[0;34m,\u001b[0m \u001b[0mindices_or_sections\u001b[0m\u001b[0;34m,\u001b[0m \u001b[0;36m0\u001b[0m\u001b[0;34m)\u001b[0m\u001b[0;34m\u001b[0m\u001b[0;34m\u001b[0m\u001b[0m\n",
            "\u001b[0;32m/usr/local/lib/python3.10/dist-packages/numpy/lib/shape_base.py\u001b[0m in \u001b[0;36msplit\u001b[0;34m(ary, indices_or_sections, axis)\u001b[0m\n\u001b[1;32m    862\u001b[0m         \u001b[0mN\u001b[0m \u001b[0;34m=\u001b[0m \u001b[0mary\u001b[0m\u001b[0;34m.\u001b[0m\u001b[0mshape\u001b[0m\u001b[0;34m[\u001b[0m\u001b[0maxis\u001b[0m\u001b[0;34m]\u001b[0m\u001b[0;34m\u001b[0m\u001b[0;34m\u001b[0m\u001b[0m\n\u001b[1;32m    863\u001b[0m         \u001b[0;32mif\u001b[0m \u001b[0mN\u001b[0m \u001b[0;34m%\u001b[0m \u001b[0msections\u001b[0m\u001b[0;34m:\u001b[0m\u001b[0;34m\u001b[0m\u001b[0;34m\u001b[0m\u001b[0m\n\u001b[0;32m--> 864\u001b[0;31m             raise ValueError(\n\u001b[0m\u001b[1;32m    865\u001b[0m                 'array split does not result in an equal division') from None\n\u001b[1;32m    866\u001b[0m     \u001b[0;32mreturn\u001b[0m \u001b[0marray_split\u001b[0m\u001b[0;34m(\u001b[0m\u001b[0mary\u001b[0m\u001b[0;34m,\u001b[0m \u001b[0mindices_or_sections\u001b[0m\u001b[0;34m,\u001b[0m \u001b[0maxis\u001b[0m\u001b[0;34m)\u001b[0m\u001b[0;34m\u001b[0m\u001b[0;34m\u001b[0m\u001b[0m\n",
            "\u001b[0;31mValueError\u001b[0m: array split does not result in an equal division"
          ]
        }
      ]
    },
    {
      "cell_type": "code",
      "source": [
        "# vertical splitting\n",
        "np.vsplit(a4,3)"
      ],
      "metadata": {
        "colab": {
          "base_uri": "https://localhost:8080/"
        },
        "id": "q5Cc8ldE-NoD",
        "outputId": "bb79ee38-fec5-498d-b8cd-0dd017264a58"
      },
      "execution_count": 71,
      "outputs": [
        {
          "output_type": "execute_result",
          "data": {
            "text/plain": [
              "[array([[0, 1, 2, 3]]), array([[4, 5, 6, 7]]), array([[ 8,  9, 10, 11]])]"
            ]
          },
          "metadata": {},
          "execution_count": 71
        }
      ]
    },
    {
      "cell_type": "code",
      "source": [
        "np.vsplit(a4,2)"
      ],
      "metadata": {
        "colab": {
          "base_uri": "https://localhost:8080/",
          "height": 287
        },
        "id": "DIlxWM7n-fuO",
        "outputId": "0037c746-9eee-48a0-f976-977b5854ad34"
      },
      "execution_count": 72,
      "outputs": [
        {
          "output_type": "error",
          "ename": "ValueError",
          "evalue": "array split does not result in an equal division",
          "traceback": [
            "\u001b[0;31m---------------------------------------------------------------------------\u001b[0m",
            "\u001b[0;31mValueError\u001b[0m                                Traceback (most recent call last)",
            "\u001b[0;32m<ipython-input-72-dd1d00e31c09>\u001b[0m in \u001b[0;36m<cell line: 1>\u001b[0;34m()\u001b[0m\n\u001b[0;32m----> 1\u001b[0;31m \u001b[0mnp\u001b[0m\u001b[0;34m.\u001b[0m\u001b[0mvsplit\u001b[0m\u001b[0;34m(\u001b[0m\u001b[0ma4\u001b[0m\u001b[0;34m,\u001b[0m\u001b[0;36m2\u001b[0m\u001b[0;34m)\u001b[0m\u001b[0;34m\u001b[0m\u001b[0;34m\u001b[0m\u001b[0m\n\u001b[0m",
            "\u001b[0;32m/usr/local/lib/python3.10/dist-packages/numpy/lib/shape_base.py\u001b[0m in \u001b[0;36mvsplit\u001b[0;34m(ary, indices_or_sections)\u001b[0m\n\u001b[1;32m    987\u001b[0m     \u001b[0;32mif\u001b[0m \u001b[0m_nx\u001b[0m\u001b[0;34m.\u001b[0m\u001b[0mndim\u001b[0m\u001b[0;34m(\u001b[0m\u001b[0mary\u001b[0m\u001b[0;34m)\u001b[0m \u001b[0;34m<\u001b[0m \u001b[0;36m2\u001b[0m\u001b[0;34m:\u001b[0m\u001b[0;34m\u001b[0m\u001b[0;34m\u001b[0m\u001b[0m\n\u001b[1;32m    988\u001b[0m         \u001b[0;32mraise\u001b[0m \u001b[0mValueError\u001b[0m\u001b[0;34m(\u001b[0m\u001b[0;34m'vsplit only works on arrays of 2 or more dimensions'\u001b[0m\u001b[0;34m)\u001b[0m\u001b[0;34m\u001b[0m\u001b[0;34m\u001b[0m\u001b[0m\n\u001b[0;32m--> 989\u001b[0;31m     \u001b[0;32mreturn\u001b[0m \u001b[0msplit\u001b[0m\u001b[0;34m(\u001b[0m\u001b[0mary\u001b[0m\u001b[0;34m,\u001b[0m \u001b[0mindices_or_sections\u001b[0m\u001b[0;34m,\u001b[0m \u001b[0;36m0\u001b[0m\u001b[0;34m)\u001b[0m\u001b[0;34m\u001b[0m\u001b[0;34m\u001b[0m\u001b[0m\n\u001b[0m\u001b[1;32m    990\u001b[0m \u001b[0;34m\u001b[0m\u001b[0m\n\u001b[1;32m    991\u001b[0m \u001b[0;34m\u001b[0m\u001b[0m\n",
            "\u001b[0;32m/usr/local/lib/python3.10/dist-packages/numpy/lib/shape_base.py\u001b[0m in \u001b[0;36msplit\u001b[0;34m(ary, indices_or_sections, axis)\u001b[0m\n\u001b[1;32m    862\u001b[0m         \u001b[0mN\u001b[0m \u001b[0;34m=\u001b[0m \u001b[0mary\u001b[0m\u001b[0;34m.\u001b[0m\u001b[0mshape\u001b[0m\u001b[0;34m[\u001b[0m\u001b[0maxis\u001b[0m\u001b[0;34m]\u001b[0m\u001b[0;34m\u001b[0m\u001b[0;34m\u001b[0m\u001b[0m\n\u001b[1;32m    863\u001b[0m         \u001b[0;32mif\u001b[0m \u001b[0mN\u001b[0m \u001b[0;34m%\u001b[0m \u001b[0msections\u001b[0m\u001b[0;34m:\u001b[0m\u001b[0;34m\u001b[0m\u001b[0;34m\u001b[0m\u001b[0m\n\u001b[0;32m--> 864\u001b[0;31m             raise ValueError(\n\u001b[0m\u001b[1;32m    865\u001b[0m                 'array split does not result in an equal division') from None\n\u001b[1;32m    866\u001b[0m     \u001b[0;32mreturn\u001b[0m \u001b[0marray_split\u001b[0m\u001b[0;34m(\u001b[0m\u001b[0mary\u001b[0m\u001b[0;34m,\u001b[0m \u001b[0mindices_or_sections\u001b[0m\u001b[0;34m,\u001b[0m \u001b[0maxis\u001b[0m\u001b[0;34m)\u001b[0m\u001b[0;34m\u001b[0m\u001b[0;34m\u001b[0m\u001b[0m\n",
            "\u001b[0;31mValueError\u001b[0m: array split does not result in an equal division"
          ]
        }
      ]
    },
    {
      "cell_type": "markdown",
      "source": [
        "![image.png](data:image/png;base64,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)"
      ],
      "metadata": {
        "id": "n_feKYgvCmwR"
      }
    }
  ]
}