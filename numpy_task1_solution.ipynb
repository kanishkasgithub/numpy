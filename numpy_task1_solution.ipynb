{
  "nbformat": 4,
  "nbformat_minor": 0,
  "metadata": {
    "colab": {
      "provenance": []
    },
    "kernelspec": {
      "name": "python3",
      "display_name": "Python 3"
    },
    "language_info": {
      "name": "python"
    }
  },
  "cells": [
    {
      "cell_type": "markdown",
      "source": [
        "Numpy Task-1"
      ],
      "metadata": {
        "id": "AevslnRyct8y"
      }
    },
    {
      "cell_type": "markdown",
      "source": [
        "**Note: In Data Science googling is a very important skill. If you find some difficulties to solve the problem, google it and try to find some clues to solve.**"
      ],
      "metadata": {
        "id": "OanDvCgWc0gC"
      }
    },
    {
      "cell_type": "code",
      "execution_count": 2,
      "metadata": {
        "id": "jMCSDnG1cmlF"
      },
      "outputs": [],
      "source": [
        "import numpy as np"
      ]
    },
    {
      "cell_type": "markdown",
      "source": [
        "###`Q-1` Create a null vector of size 10 but the fifth value which is 1.\n",
        "\n"
      ],
      "metadata": {
        "id": "UqwmZlLjddSY"
      }
    },
    {
      "cell_type": "code",
      "source": [
        "a = np.zeros(10,dtype=int)\n",
        "a[4] = 1\n",
        "a"
      ],
      "metadata": {
        "colab": {
          "base_uri": "https://localhost:8080/"
        },
        "id": "TphOpX2Pdgjp",
        "outputId": "e6cbe8ba-6f43-47b4-832b-6fd9b8b88453"
      },
      "execution_count": 11,
      "outputs": [
        {
          "output_type": "execute_result",
          "data": {
            "text/plain": [
              "array([0, 0, 0, 0, 1, 0, 0, 0, 0, 0])"
            ]
          },
          "metadata": {},
          "execution_count": 11
        }
      ]
    },
    {
      "cell_type": "code",
      "source": [
        "np.where(np.arange(10)==4,1,0)"
      ],
      "metadata": {
        "colab": {
          "base_uri": "https://localhost:8080/"
        },
        "id": "EnalPc27wa_C",
        "outputId": "a868d093-baf4-4bc6-b606-d68810e244a5"
      },
      "execution_count": 8,
      "outputs": [
        {
          "output_type": "execute_result",
          "data": {
            "text/plain": [
              "array([0, 0, 0, 0, 1, 0, 0, 0, 0, 0])"
            ]
          },
          "metadata": {},
          "execution_count": 8
        }
      ]
    },
    {
      "cell_type": "code",
      "source": [
        "(np.arange(10)==4).astype(int)"
      ],
      "metadata": {
        "colab": {
          "base_uri": "https://localhost:8080/"
        },
        "id": "tIsspnEUwxC3",
        "outputId": "6c9c45e6-afd7-46a0-aff0-07afc93e96d5"
      },
      "execution_count": 16,
      "outputs": [
        {
          "output_type": "execute_result",
          "data": {
            "text/plain": [
              "array([0, 0, 0, 0, 1, 0, 0, 0, 0, 0])"
            ]
          },
          "metadata": {},
          "execution_count": 16
        }
      ]
    },
    {
      "cell_type": "markdown",
      "source": [
        "###`Q-2` Ask user to input two numbers a, b. Write a program to generate a random array of shape (a, b) and print the array and avg of the array."
      ],
      "metadata": {
        "id": "u9E_78JKdwcW"
      }
    },
    {
      "cell_type": "code",
      "source": [
        "a = int(input(\"Enter the number of rows: \"))\n",
        "b = int(input(\"Enter the number of columns: \"))\n",
        "import random\n",
        "# arr = np.round(np.random.random((a,b))*100)\n",
        "arr = np.random.randint(1,100,(a,b))\n",
        "print(arr)\n",
        "print(np.mean(arr))"
      ],
      "metadata": {
        "colab": {
          "base_uri": "https://localhost:8080/"
        },
        "id": "I14-THSIdiq_",
        "outputId": "b8f3f719-1698-4d0a-e7c3-77c858650776"
      },
      "execution_count": 20,
      "outputs": [
        {
          "output_type": "stream",
          "name": "stdout",
          "text": [
            "Enter the number of rows: 4\n",
            "Enter the number of columns: 5\n",
            "[[19 96 14 79 31]\n",
            " [43 10  4 33 30]\n",
            " [90 28 53 61 49]\n",
            " [27 64 36 44 65]]\n",
            "43.8\n"
          ]
        }
      ]
    },
    {
      "cell_type": "markdown",
      "source": [
        "###`Q-3`Write a function to create a 2d array with 1 on the border and 0 inside. Take 2-D array shape as (a,b) as parameter to function.\n",
        "\n",
        "Eg.-\n",
        "```\n",
        "[[1,1,1,1],\n",
        "[1,0,0,1],\n",
        "[1,0,0,1],\n",
        "[1,1,1,1]]\n",
        "```"
      ],
      "metadata": {
        "id": "lUscNK-7gm70"
      }
    },
    {
      "cell_type": "code",
      "source": [
        "def create_array(a,b):\n",
        "  arr = np.ones((a,b),dtype=int)\n",
        "  arr[1:-1,1:-1] = 0\n",
        "  return arr"
      ],
      "metadata": {
        "id": "WIhX5Dg6z0a-"
      },
      "execution_count": 27,
      "outputs": []
    },
    {
      "cell_type": "code",
      "source": [
        "a = int(input(\"Enter the number of rows: \"))\n",
        "b = int(input(\"Enter the number of columns: \"))\n",
        "create_array(a,b)"
      ],
      "metadata": {
        "id": "wYkm_NOeeDbX",
        "colab": {
          "base_uri": "https://localhost:8080/"
        },
        "outputId": "a53754dd-8d5f-4829-9db5-df7ced2d7d9b"
      },
      "execution_count": 29,
      "outputs": [
        {
          "name": "stdout",
          "output_type": "stream",
          "text": [
            "Enter the number of rows: 7\n",
            "Enter the number of columns: 8\n"
          ]
        },
        {
          "output_type": "execute_result",
          "data": {
            "text/plain": [
              "array([[1, 1, 1, 1, 1, 1, 1, 1],\n",
              "       [1, 0, 0, 0, 0, 0, 0, 1],\n",
              "       [1, 0, 0, 0, 0, 0, 0, 1],\n",
              "       [1, 0, 0, 0, 0, 0, 0, 1],\n",
              "       [1, 0, 0, 0, 0, 0, 0, 1],\n",
              "       [1, 0, 0, 0, 0, 0, 0, 1],\n",
              "       [1, 1, 1, 1, 1, 1, 1, 1]])"
            ]
          },
          "metadata": {},
          "execution_count": 29
        }
      ]
    },
    {
      "cell_type": "markdown",
      "source": [
        "###`Q-4` Create a vector of size 10 with values ranging from 0 to 1, both excluded.\n"
      ],
      "metadata": {
        "id": "2c2qYqaTgx_u"
      }
    },
    {
      "cell_type": "code",
      "source": [
        "np.linspace(0,1,11,endpoint=False)[1:]"
      ],
      "metadata": {
        "colab": {
          "base_uri": "https://localhost:8080/"
        },
        "id": "TUjKjheB0zZe",
        "outputId": "c4dab6b2-02ac-496d-d3b2-203834d48226"
      },
      "execution_count": 34,
      "outputs": [
        {
          "output_type": "execute_result",
          "data": {
            "text/plain": [
              "array([0.09090909, 0.18181818, 0.27272727, 0.36363636, 0.45454545,\n",
              "       0.54545455, 0.63636364, 0.72727273, 0.81818182, 0.90909091])"
            ]
          },
          "metadata": {},
          "execution_count": 34
        }
      ]
    },
    {
      "cell_type": "code",
      "source": [
        "np.linspace(0,1,12)[1:-1]"
      ],
      "metadata": {
        "id": "pz17xrPehjo5",
        "colab": {
          "base_uri": "https://localhost:8080/"
        },
        "outputId": "f3908c85-a846-4f3b-9634-5495ad4fdb14"
      },
      "execution_count": 41,
      "outputs": [
        {
          "output_type": "execute_result",
          "data": {
            "text/plain": [
              "array([0.09090909, 0.18181818, 0.27272727, 0.36363636, 0.45454545,\n",
              "       0.54545455, 0.63636364, 0.72727273, 0.81818182, 0.90909091])"
            ]
          },
          "metadata": {},
          "execution_count": 41
        }
      ]
    },
    {
      "cell_type": "code",
      "source": [
        "help(np.linspace)"
      ],
      "metadata": {
        "colab": {
          "base_uri": "https://localhost:8080/"
        },
        "id": "paRA0GVN0en2",
        "outputId": "dde3f416-e797-442c-ff75-302b54302c9e"
      },
      "execution_count": 31,
      "outputs": [
        {
          "output_type": "stream",
          "name": "stdout",
          "text": [
            "Help on _ArrayFunctionDispatcher in module numpy:\n",
            "\n",
            "linspace(start, stop, num=50, endpoint=True, retstep=False, dtype=None, axis=0)\n",
            "    Return evenly spaced numbers over a specified interval.\n",
            "    \n",
            "    Returns `num` evenly spaced samples, calculated over the\n",
            "    interval [`start`, `stop`].\n",
            "    \n",
            "    The endpoint of the interval can optionally be excluded.\n",
            "    \n",
            "    .. versionchanged:: 1.16.0\n",
            "        Non-scalar `start` and `stop` are now supported.\n",
            "    \n",
            "    .. versionchanged:: 1.20.0\n",
            "        Values are rounded towards ``-inf`` instead of ``0`` when an\n",
            "        integer ``dtype`` is specified. The old behavior can\n",
            "        still be obtained with ``np.linspace(start, stop, num).astype(int)``\n",
            "    \n",
            "    Parameters\n",
            "    ----------\n",
            "    start : array_like\n",
            "        The starting value of the sequence.\n",
            "    stop : array_like\n",
            "        The end value of the sequence, unless `endpoint` is set to False.\n",
            "        In that case, the sequence consists of all but the last of ``num + 1``\n",
            "        evenly spaced samples, so that `stop` is excluded.  Note that the step\n",
            "        size changes when `endpoint` is False.\n",
            "    num : int, optional\n",
            "        Number of samples to generate. Default is 50. Must be non-negative.\n",
            "    endpoint : bool, optional\n",
            "        If True, `stop` is the last sample. Otherwise, it is not included.\n",
            "        Default is True.\n",
            "    retstep : bool, optional\n",
            "        If True, return (`samples`, `step`), where `step` is the spacing\n",
            "        between samples.\n",
            "    dtype : dtype, optional\n",
            "        The type of the output array.  If `dtype` is not given, the data type\n",
            "        is inferred from `start` and `stop`. The inferred dtype will never be\n",
            "        an integer; `float` is chosen even if the arguments would produce an\n",
            "        array of integers.\n",
            "    \n",
            "        .. versionadded:: 1.9.0\n",
            "    \n",
            "    axis : int, optional\n",
            "        The axis in the result to store the samples.  Relevant only if start\n",
            "        or stop are array-like.  By default (0), the samples will be along a\n",
            "        new axis inserted at the beginning. Use -1 to get an axis at the end.\n",
            "    \n",
            "        .. versionadded:: 1.16.0\n",
            "    \n",
            "    Returns\n",
            "    -------\n",
            "    samples : ndarray\n",
            "        There are `num` equally spaced samples in the closed interval\n",
            "        ``[start, stop]`` or the half-open interval ``[start, stop)``\n",
            "        (depending on whether `endpoint` is True or False).\n",
            "    step : float, optional\n",
            "        Only returned if `retstep` is True\n",
            "    \n",
            "        Size of spacing between samples.\n",
            "    \n",
            "    \n",
            "    See Also\n",
            "    --------\n",
            "    arange : Similar to `linspace`, but uses a step size (instead of the\n",
            "             number of samples).\n",
            "    geomspace : Similar to `linspace`, but with numbers spaced evenly on a log\n",
            "                scale (a geometric progression).\n",
            "    logspace : Similar to `geomspace`, but with the end points specified as\n",
            "               logarithms.\n",
            "    :ref:`how-to-partition`\n",
            "    \n",
            "    Examples\n",
            "    --------\n",
            "    >>> np.linspace(2.0, 3.0, num=5)\n",
            "    array([2.  , 2.25, 2.5 , 2.75, 3.  ])\n",
            "    >>> np.linspace(2.0, 3.0, num=5, endpoint=False)\n",
            "    array([2. ,  2.2,  2.4,  2.6,  2.8])\n",
            "    >>> np.linspace(2.0, 3.0, num=5, retstep=True)\n",
            "    (array([2.  ,  2.25,  2.5 ,  2.75,  3.  ]), 0.25)\n",
            "    \n",
            "    Graphical illustration:\n",
            "    \n",
            "    >>> import matplotlib.pyplot as plt\n",
            "    >>> N = 8\n",
            "    >>> y = np.zeros(N)\n",
            "    >>> x1 = np.linspace(0, 10, N, endpoint=True)\n",
            "    >>> x2 = np.linspace(0, 10, N, endpoint=False)\n",
            "    >>> plt.plot(x1, y, 'o')\n",
            "    [<matplotlib.lines.Line2D object at 0x...>]\n",
            "    >>> plt.plot(x2, y + 0.5, 'o')\n",
            "    [<matplotlib.lines.Line2D object at 0x...>]\n",
            "    >>> plt.ylim([-0.5, 1])\n",
            "    (-0.5, 1)\n",
            "    >>> plt.show()\n",
            "\n"
          ]
        }
      ]
    },
    {
      "cell_type": "markdown",
      "source": [
        "###`Q-5` Can you create a identity mattrix of shape (3,4). If yes write code for it."
      ],
      "metadata": {
        "id": "NnHdQ0iSiKOY"
      }
    },
    {
      "cell_type": "code",
      "source": [
        "# No, we can't create an identity matrix of shape (3,4)"
      ],
      "metadata": {
        "id": "AumxTJ-IhpDN"
      },
      "execution_count": null,
      "outputs": []
    },
    {
      "cell_type": "code",
      "source": [
        "np.identity(3,4)"
      ],
      "metadata": {
        "colab": {
          "base_uri": "https://localhost:8080/",
          "height": 287
        },
        "id": "HnmidYYZ3ATB",
        "outputId": "bc215c81-a69c-4278-b1bb-083b25e2685d"
      },
      "execution_count": 43,
      "outputs": [
        {
          "output_type": "error",
          "ename": "TypeError",
          "evalue": "Cannot interpret '4' as a data type",
          "traceback": [
            "\u001b[0;31m---------------------------------------------------------------------------\u001b[0m",
            "\u001b[0;31mTypeError\u001b[0m                                 Traceback (most recent call last)",
            "\u001b[0;32m<ipython-input-43-b5ddf0f009a8>\u001b[0m in \u001b[0;36m<cell line: 1>\u001b[0;34m()\u001b[0m\n\u001b[0;32m----> 1\u001b[0;31m \u001b[0mnp\u001b[0m\u001b[0;34m.\u001b[0m\u001b[0midentity\u001b[0m\u001b[0;34m(\u001b[0m\u001b[0;36m3\u001b[0m\u001b[0;34m,\u001b[0m\u001b[0;36m4\u001b[0m\u001b[0;34m)\u001b[0m\u001b[0;34m\u001b[0m\u001b[0;34m\u001b[0m\u001b[0m\n\u001b[0m",
            "\u001b[0;32m/usr/local/lib/python3.10/dist-packages/numpy/core/numeric.py\u001b[0m in \u001b[0;36midentity\u001b[0;34m(n, dtype, like)\u001b[0m\n\u001b[1;32m   2158\u001b[0m \u001b[0;34m\u001b[0m\u001b[0m\n\u001b[1;32m   2159\u001b[0m     \u001b[0;32mfrom\u001b[0m \u001b[0mnumpy\u001b[0m \u001b[0;32mimport\u001b[0m \u001b[0meye\u001b[0m\u001b[0;34m\u001b[0m\u001b[0;34m\u001b[0m\u001b[0m\n\u001b[0;32m-> 2160\u001b[0;31m     \u001b[0;32mreturn\u001b[0m \u001b[0meye\u001b[0m\u001b[0;34m(\u001b[0m\u001b[0mn\u001b[0m\u001b[0;34m,\u001b[0m \u001b[0mdtype\u001b[0m\u001b[0;34m=\u001b[0m\u001b[0mdtype\u001b[0m\u001b[0;34m,\u001b[0m \u001b[0mlike\u001b[0m\u001b[0;34m=\u001b[0m\u001b[0mlike\u001b[0m\u001b[0;34m)\u001b[0m\u001b[0;34m\u001b[0m\u001b[0;34m\u001b[0m\u001b[0m\n\u001b[0m\u001b[1;32m   2161\u001b[0m \u001b[0;34m\u001b[0m\u001b[0m\n\u001b[1;32m   2162\u001b[0m \u001b[0;34m\u001b[0m\u001b[0m\n",
            "\u001b[0;32m/usr/local/lib/python3.10/dist-packages/numpy/lib/twodim_base.py\u001b[0m in \u001b[0;36meye\u001b[0;34m(N, M, k, dtype, order, like)\u001b[0m\n\u001b[1;32m    209\u001b[0m     \u001b[0;32mif\u001b[0m \u001b[0mM\u001b[0m \u001b[0;32mis\u001b[0m \u001b[0;32mNone\u001b[0m\u001b[0;34m:\u001b[0m\u001b[0;34m\u001b[0m\u001b[0;34m\u001b[0m\u001b[0m\n\u001b[1;32m    210\u001b[0m         \u001b[0mM\u001b[0m \u001b[0;34m=\u001b[0m \u001b[0mN\u001b[0m\u001b[0;34m\u001b[0m\u001b[0;34m\u001b[0m\u001b[0m\n\u001b[0;32m--> 211\u001b[0;31m     \u001b[0mm\u001b[0m \u001b[0;34m=\u001b[0m \u001b[0mzeros\u001b[0m\u001b[0;34m(\u001b[0m\u001b[0;34m(\u001b[0m\u001b[0mN\u001b[0m\u001b[0;34m,\u001b[0m \u001b[0mM\u001b[0m\u001b[0;34m)\u001b[0m\u001b[0;34m,\u001b[0m \u001b[0mdtype\u001b[0m\u001b[0;34m=\u001b[0m\u001b[0mdtype\u001b[0m\u001b[0;34m,\u001b[0m \u001b[0morder\u001b[0m\u001b[0;34m=\u001b[0m\u001b[0morder\u001b[0m\u001b[0;34m)\u001b[0m\u001b[0;34m\u001b[0m\u001b[0;34m\u001b[0m\u001b[0m\n\u001b[0m\u001b[1;32m    212\u001b[0m     \u001b[0;32mif\u001b[0m \u001b[0mk\u001b[0m \u001b[0;34m>=\u001b[0m \u001b[0mM\u001b[0m\u001b[0;34m:\u001b[0m\u001b[0;34m\u001b[0m\u001b[0;34m\u001b[0m\u001b[0m\n\u001b[1;32m    213\u001b[0m         \u001b[0;32mreturn\u001b[0m \u001b[0mm\u001b[0m\u001b[0;34m\u001b[0m\u001b[0;34m\u001b[0m\u001b[0m\n",
            "\u001b[0;31mTypeError\u001b[0m: Cannot interpret '4' as a data type"
          ]
        }
      ]
    },
    {
      "cell_type": "code",
      "source": [
        "help(np.identity)"
      ],
      "metadata": {
        "colab": {
          "base_uri": "https://localhost:8080/"
        },
        "id": "16Cw-3j13I3L",
        "outputId": "3179cecf-4ca9-4309-cc29-cbdca7124385"
      },
      "execution_count": 44,
      "outputs": [
        {
          "output_type": "stream",
          "name": "stdout",
          "text": [
            "Help on function identity in module numpy:\n",
            "\n",
            "identity(n, dtype=None, *, like=None)\n",
            "    Return the identity array.\n",
            "    \n",
            "    The identity array is a square array with ones on\n",
            "    the main diagonal.\n",
            "    \n",
            "    Parameters\n",
            "    ----------\n",
            "    n : int\n",
            "        Number of rows (and columns) in `n` x `n` output.\n",
            "    dtype : data-type, optional\n",
            "        Data-type of the output.  Defaults to ``float``.\n",
            "    like : array_like, optional\n",
            "        Reference object to allow the creation of arrays which are not\n",
            "        NumPy arrays. If an array-like passed in as ``like`` supports\n",
            "        the ``__array_function__`` protocol, the result will be defined\n",
            "        by it. In this case, it ensures the creation of an array object\n",
            "        compatible with that passed in via this argument.\n",
            "    \n",
            "        .. versionadded:: 1.20.0\n",
            "    \n",
            "    Returns\n",
            "    -------\n",
            "    out : ndarray\n",
            "        `n` x `n` array with its main diagonal set to one,\n",
            "        and all other elements 0.\n",
            "    \n",
            "    Examples\n",
            "    --------\n",
            "    >>> np.identity(3)\n",
            "    array([[1.,  0.,  0.],\n",
            "           [0.,  1.,  0.],\n",
            "           [0.,  0.,  1.]])\n",
            "\n"
          ]
        }
      ]
    },
    {
      "cell_type": "markdown",
      "source": [
        "###`Q-6:` Create a 5x5 matrix with row values ranging from 0 to 4."
      ],
      "metadata": {
        "id": "6Bh28bDDidBl"
      }
    },
    {
      "cell_type": "code",
      "source": [
        "np.arange(5).repeat(5).reshape(5,5)"
      ],
      "metadata": {
        "colab": {
          "base_uri": "https://localhost:8080/"
        },
        "id": "G9LzDWsx5M5g",
        "outputId": "bb3e5350-63bd-46a3-dd8f-913ebb570915"
      },
      "execution_count": 48,
      "outputs": [
        {
          "output_type": "execute_result",
          "data": {
            "text/plain": [
              "array([[0, 0, 0, 0, 0],\n",
              "       [1, 1, 1, 1, 1],\n",
              "       [2, 2, 2, 2, 2],\n",
              "       [3, 3, 3, 3, 3],\n",
              "       [4, 4, 4, 4, 4]])"
            ]
          },
          "metadata": {},
          "execution_count": 48
        }
      ]
    },
    {
      "cell_type": "code",
      "source": [
        "np.concatenate([np.arange(5) for i in range(5)]).reshape(5,5)"
      ],
      "metadata": {
        "colab": {
          "base_uri": "https://localhost:8080/"
        },
        "id": "73NWL_Z65f0d",
        "outputId": "103b6d12-fac8-4948-b51c-401245819991"
      },
      "execution_count": 58,
      "outputs": [
        {
          "output_type": "execute_result",
          "data": {
            "text/plain": [
              "array([[0, 1, 2, 3, 4],\n",
              "       [0, 1, 2, 3, 4],\n",
              "       [0, 1, 2, 3, 4],\n",
              "       [0, 1, 2, 3, 4],\n",
              "       [0, 1, 2, 3, 4]])"
            ]
          },
          "metadata": {},
          "execution_count": 58
        }
      ]
    },
    {
      "cell_type": "code",
      "source": [
        "np.zeros((5,5),dtype=int)+np.arange(5)"
      ],
      "metadata": {
        "colab": {
          "base_uri": "https://localhost:8080/"
        },
        "id": "ubn9FYl56v0A",
        "outputId": "1fab30fd-6337-4e2b-9415-720d381a5007"
      },
      "execution_count": 60,
      "outputs": [
        {
          "output_type": "execute_result",
          "data": {
            "text/plain": [
              "array([[0, 1, 2, 3, 4],\n",
              "       [0, 1, 2, 3, 4],\n",
              "       [0, 1, 2, 3, 4],\n",
              "       [0, 1, 2, 3, 4],\n",
              "       [0, 1, 2, 3, 4]])"
            ]
          },
          "metadata": {},
          "execution_count": 60
        }
      ]
    },
    {
      "cell_type": "code",
      "source": [
        "#np.tile(np.arange(5),5).reshape(5,5)\n",
        "np.tile(np.arange(5),(5,1))"
      ],
      "metadata": {
        "colab": {
          "base_uri": "https://localhost:8080/"
        },
        "id": "PSRhmpQn_mNH",
        "outputId": "43584279-e1c3-4a54-a0e6-d1716a52c4d4"
      },
      "execution_count": 69,
      "outputs": [
        {
          "output_type": "execute_result",
          "data": {
            "text/plain": [
              "array([[0, 1, 2, 3, 4],\n",
              "       [0, 1, 2, 3, 4],\n",
              "       [0, 1, 2, 3, 4],\n",
              "       [0, 1, 2, 3, 4],\n",
              "       [0, 1, 2, 3, 4]])"
            ]
          },
          "metadata": {},
          "execution_count": 69
        }
      ]
    },
    {
      "cell_type": "markdown",
      "source": [
        "###`Q-7:`  Consider a random integer (in range 1 to 100) vector with shape `(10,2)` representing coordinates, and coordinates of a point as array is given. Create an array of distance of each point in the random vectros from the given point. Distance array should be interger type.\n",
        "\n",
        "```\n",
        "point = np.array([2,3])\n",
        "```\n"
      ],
      "metadata": {
        "id": "t2yydaPojj-s"
      }
    },
    {
      "cell_type": "code",
      "source": [
        "point = np.array([2,3])"
      ],
      "metadata": {
        "id": "6XS2Ip-FFb3L"
      },
      "execution_count": 97,
      "outputs": []
    },
    {
      "cell_type": "code",
      "source": [
        "coordinates = np.random.randint(1,100,(10,2))\n",
        "coordinates"
      ],
      "metadata": {
        "id": "0j903EdGjpfh",
        "colab": {
          "base_uri": "https://localhost:8080/"
        },
        "outputId": "2c34aad0-9030-4ba0-fd2f-029ff34c9b2f"
      },
      "execution_count": 98,
      "outputs": [
        {
          "output_type": "execute_result",
          "data": {
            "text/plain": [
              "array([[31, 45],\n",
              "       [28, 44],\n",
              "       [57, 13],\n",
              "       [78, 14],\n",
              "       [33, 87],\n",
              "       [ 8, 57],\n",
              "       [19, 39],\n",
              "       [52, 71],\n",
              "       [16, 82],\n",
              "       [97, 73]])"
            ]
          },
          "metadata": {},
          "execution_count": 98
        }
      ]
    },
    {
      "cell_type": "code",
      "source": [
        "distance = np.array((np.sum((coordinates - point)**2,axis=1))**0.5,dtype=int)\n",
        "distance"
      ],
      "metadata": {
        "colab": {
          "base_uri": "https://localhost:8080/"
        },
        "id": "ayZYTOZ9GUyo",
        "outputId": "dfd7690f-a7d1-40d6-e1ad-ffa540c4eae0"
      },
      "execution_count": 99,
      "outputs": [
        {
          "output_type": "execute_result",
          "data": {
            "text/plain": [
              "array([ 51,  48,  55,  76,  89,  54,  39,  84,  80, 118])"
            ]
          },
          "metadata": {},
          "execution_count": 99
        }
      ]
    },
    {
      "cell_type": "markdown",
      "source": [
        "###`Q-8:` Consider a (6,7,8) shape array, what is the index (x,y,z) of the 100th element?"
      ],
      "metadata": {
        "id": "gh36UV9CjoCU"
      }
    },
    {
      "cell_type": "code",
      "source": [
        "np.unravel_index(99,(6,7,8))"
      ],
      "metadata": {
        "colab": {
          "base_uri": "https://localhost:8080/"
        },
        "id": "P3clUIRtKc5k",
        "outputId": "9a5b2b12-e326-4062-f7a3-5051ff145462"
      },
      "execution_count": 116,
      "outputs": [
        {
          "output_type": "execute_result",
          "data": {
            "text/plain": [
              "(1, 5, 3)"
            ]
          },
          "metadata": {},
          "execution_count": 116
        }
      ]
    },
    {
      "cell_type": "markdown",
      "source": [
        "https://numpy.org/doc/stable/reference/generated/numpy.unravel_index.html#numpy.unravel_index\n",
        "\n",
        "https://stackoverflow.com/questions/48135736/what-is-an-intuitive-explanation-of-np-unravel-index"
      ],
      "metadata": {
        "id": "UKxHB4PJMejj"
      }
    },
    {
      "cell_type": "code",
      "source": [
        "a = np.arange(6*7*8).reshape(6,7,8)\n",
        "a[1,5,3]"
      ],
      "metadata": {
        "colab": {
          "base_uri": "https://localhost:8080/"
        },
        "id": "gzY2LFSSMi66",
        "outputId": "0a725f24-5099-483f-85ab-32c1f5ec073c"
      },
      "execution_count": 118,
      "outputs": [
        {
          "output_type": "execute_result",
          "data": {
            "text/plain": [
              "99"
            ]
          },
          "metadata": {},
          "execution_count": 118
        }
      ]
    },
    {
      "cell_type": "markdown",
      "source": [
        "### `Q-9:` Arrays\n",
        "\n",
        "You are given a space separated list of numbers. Your task is to print a reversed NumPy array with the element type float.\n",
        "\n"
      ],
      "metadata": {
        "id": "BnPPAaV4jqG2"
      }
    },
    {
      "cell_type": "markdown",
      "source": [
        "**Input Format:**\n",
        "\n",
        "A single line of input containing space separated numbers.\n",
        "\n",
        "**Output Format:**\n",
        "\n",
        "Print the reverse NumPy array with type float.\n",
        "\n",
        "**Example 1:**\n",
        "\n",
        "Input:\n",
        "\n",
        "```bash\n",
        "1 2 3 4 -8 -10\n",
        "```\n",
        "\n",
        "Output:\n",
        "\n",
        "```bash\n",
        "[-10.  -8.   4.   3.   2.   1.]\n",
        "```"
      ],
      "metadata": {
        "id": "IPmRlHikjuE2"
      }
    },
    {
      "cell_type": "code",
      "source": [
        "L = input().split()\n",
        "# np.array(L[::-1],dtype=float)\n",
        "np.array(L,dtype=float)[::-1]"
      ],
      "metadata": {
        "colab": {
          "base_uri": "https://localhost:8080/"
        },
        "id": "vM4zjDrfQVKf",
        "outputId": "7080c18f-2839-4c16-f3af-3457c41e3b9e"
      },
      "execution_count": 8,
      "outputs": [
        {
          "name": "stdout",
          "output_type": "stream",
          "text": [
            "1 2 3 4 -8 -10\n"
          ]
        },
        {
          "output_type": "execute_result",
          "data": {
            "text/plain": [
              "array([-10.,  -8.,   4.,   3.,   2.,   1.])"
            ]
          },
          "metadata": {},
          "execution_count": 8
        }
      ]
    },
    {
      "cell_type": "markdown",
      "source": [
        "### `Q-10:` Elements count\n",
        "\n",
        "Count the number of elements of a numpy array.\n",
        "\n"
      ],
      "metadata": {
        "id": "cZ_A0DxOjyZ1"
      }
    },
    {
      "cell_type": "markdown",
      "source": [
        "**Example 1:**\n",
        "\n",
        "Input:\n",
        "```bash\n",
        "np.array([])\n",
        "```\n",
        "\n",
        "Output:\n",
        "```bash\n",
        "elements_count :  0\n",
        "```\n",
        "\n",
        "**Example 2:**\n",
        "\n",
        "Input:\n",
        "```bash\n",
        "np.array([1, 2])\n",
        "```\n",
        "\n",
        "Output:\n",
        "```bash\n",
        "elements_count :  2\n",
        "```"
      ],
      "metadata": {
        "id": "IRb7ln6Tj1jc"
      }
    },
    {
      "cell_type": "code",
      "source": [
        "a = np.array([[1,2],[3,4],[5,6]])\n",
        "# a = np.array([])\n",
        "# a = np.array([1, 2])"
      ],
      "metadata": {
        "id": "b31-BJXEj5MF"
      },
      "execution_count": 28,
      "outputs": []
    },
    {
      "cell_type": "code",
      "source": [
        "np.size(a)"
      ],
      "metadata": {
        "colab": {
          "base_uri": "https://localhost:8080/"
        },
        "id": "ThRs2jeESUP9",
        "outputId": "4e1c99a5-d0a8-4ac3-a98c-43fe434ed3f0"
      },
      "execution_count": 29,
      "outputs": [
        {
          "output_type": "execute_result",
          "data": {
            "text/plain": [
              "6"
            ]
          },
          "metadata": {},
          "execution_count": 29
        }
      ]
    },
    {
      "cell_type": "code",
      "source": [
        "help(np.size)"
      ],
      "metadata": {
        "colab": {
          "base_uri": "https://localhost:8080/"
        },
        "id": "cHEVIfdFSD1K",
        "outputId": "a9fcb7c5-ffa6-4da3-ddc0-756e5e69192d"
      },
      "execution_count": 12,
      "outputs": [
        {
          "output_type": "stream",
          "name": "stdout",
          "text": [
            "Help on _ArrayFunctionDispatcher in module numpy:\n",
            "\n",
            "size(a, axis=None)\n",
            "    Return the number of elements along a given axis.\n",
            "    \n",
            "    Parameters\n",
            "    ----------\n",
            "    a : array_like\n",
            "        Input data.\n",
            "    axis : int, optional\n",
            "        Axis along which the elements are counted.  By default, give\n",
            "        the total number of elements.\n",
            "    \n",
            "    Returns\n",
            "    -------\n",
            "    element_count : int\n",
            "        Number of elements along the specified axis.\n",
            "    \n",
            "    See Also\n",
            "    --------\n",
            "    shape : dimensions of array\n",
            "    ndarray.shape : dimensions of array\n",
            "    ndarray.size : number of elements in array\n",
            "    \n",
            "    Examples\n",
            "    --------\n",
            "    >>> a = np.array([[1,2,3],[4,5,6]])\n",
            "    >>> np.size(a)\n",
            "    6\n",
            "    >>> np.size(a,1)\n",
            "    3\n",
            "    >>> np.size(a,0)\n",
            "    2\n",
            "\n"
          ]
        }
      ]
    },
    {
      "cell_type": "markdown",
      "source": [
        "### `Q-11:` Softmax function\n",
        "\n",
        "Create a Python function to calculate the Softmax of the given numpy 1D array. The function only accepts the numpy 1D array, otherwise raise error.\n",
        "\n",
        "$$\\Large \\sigma(\\vec z)_i = \\frac{e^{z_i}}{\\sum_{j=i}^{K}{e^{z_j}}}$$\n",
        "\n",
        "https://en.wikipedia.org/wiki/Softmax_function\n",
        "\n"
      ],
      "metadata": {
        "id": "IqMSZ6bJj5wp"
      }
    },
    {
      "cell_type": "markdown",
      "source": [
        "**Example 1:**\n",
        "\n",
        "Input:\n",
        "```bash\n",
        "[86.03331084 37.7285648  48.64908087 87.16563062 38.40852563 37.20006318]\n",
        "```\n",
        "\n",
        "Output:\n",
        "```bash\n",
        "[2.43733249e-01, 2.56112115e-22, 1.41628284e-17, 7.56266751e-01,\n",
        "       5.05514197e-22, 1.50974911e-22]\n",
        "```\n",
        "\n",
        "**Example 2:**\n",
        "\n",
        "Input:\n",
        "```bash\n",
        "[33.17344305 45.61961654 82.05405781 80.9647098  68.82830233 91.52064278]\n",
        "```\n",
        "\n",
        "Output:\n",
        "```bash\n",
        "[4.57181035e-26, 1.16249923e-20, 7.73872596e-05, 2.60358426e-05,\n",
        "       1.39571531e-10, 9.99896577e-01]\n",
        "```"
      ],
      "metadata": {
        "id": "nZzztK5gj9Qx"
      }
    },
    {
      "cell_type": "code",
      "source": [
        "def softmax(arr):\n",
        "  try:\n",
        "    if arr.ndim != 1:\n",
        "      raise TypeError(\"Softmax function is for only 1D array\")\n",
        "  except Exception as e:\n",
        "    print(e)\n",
        "  else:\n",
        "    return np.exp(arr)/np.sum(np.exp(arr))"
      ],
      "metadata": {
        "id": "CaLQOO7UkBGF"
      },
      "execution_count": 95,
      "outputs": []
    },
    {
      "cell_type": "code",
      "source": [
        "l = input().split()\n",
        "a = np.array(l,dtype=float)\n",
        "softmax(a)"
      ],
      "metadata": {
        "colab": {
          "base_uri": "https://localhost:8080/"
        },
        "id": "etkCFOYrWqbo",
        "outputId": "327ca4ee-6b04-4beb-c5ea-b5bc957b71fb"
      },
      "execution_count": 96,
      "outputs": [
        {
          "name": "stdout",
          "output_type": "stream",
          "text": [
            "33.17344305 45.61961654 82.05405781 80.9647098  68.82830233 91.52064278\n"
          ]
        },
        {
          "output_type": "execute_result",
          "data": {
            "text/plain": [
              "array([4.57181033e-26, 1.16249922e-20, 7.73872594e-05, 2.60358426e-05,\n",
              "       1.39571531e-10, 9.99896577e-01])"
            ]
          },
          "metadata": {},
          "execution_count": 96
        }
      ]
    },
    {
      "cell_type": "code",
      "source": [
        "a = np.arange(10).reshape(2,5)\n",
        "softmax(a)"
      ],
      "metadata": {
        "colab": {
          "base_uri": "https://localhost:8080/"
        },
        "id": "Z5NuxSVdV-9k",
        "outputId": "a292e81a-31e0-43e4-b02b-5017e94b439a"
      },
      "execution_count": 97,
      "outputs": [
        {
          "output_type": "stream",
          "name": "stdout",
          "text": [
            "Softmax function is for only 1D array\n"
          ]
        }
      ]
    },
    {
      "cell_type": "markdown",
      "source": [
        "### `Q-12:` Vertical stack\n",
        "\n",
        "Write a python function that accepts infinite number of numpy arrays and do the vertical stack to them. Then return that new array as result. The function only accepts the numpy array, otherwise raise error.\n",
        "\n"
      ],
      "metadata": {
        "id": "N66URI0UkAse"
      }
    },
    {
      "cell_type": "markdown",
      "source": [
        "**Example 1:**\n",
        "\n",
        "Input:\n",
        "```bash\n",
        "a= [[0 1 2 3 4]\n",
        " [5 6 7 8 9]]\n",
        "\n",
        "b= [[1 1 1 1 1]\n",
        " [1 1 1 1 1]]\n",
        "```\n",
        "\n",
        "Output:\n",
        "\n",
        "```bash\n",
        "[[0 1 2 3 4]\n",
        " [5 6 7 8 9]\n",
        " [1 1 1 1 1]\n",
        " [1 1 1 1 1]]\n",
        "```\n",
        "\n",
        "**Example 2:**\n",
        "\n",
        "Input:\n",
        "```bash\n",
        "a= [[0 1 2 3 4]\n",
        " [5 6 7 8 9]]\n",
        "\n",
        "b= [[1 1 1 1 1]\n",
        " [1 1 1 1 1]]\n",
        "\n",
        "c= [[0.10117373 0.1677244  0.73764059 0.83166097 0.48985695]\n",
        " [0.44581567 0.13502419 0.55692335 0.16479622 0.61193593]]\n",
        "```\n",
        "\n",
        "Output:\n",
        "```bash\n",
        "[[0.         1.         2.         3.         4.        ]\n",
        " [5.         6.         7.         8.         9.        ]\n",
        " [1.         1.         1.         1.         1.        ]\n",
        " [1.         1.         1.         1.         1.        ]\n",
        " [0.10117373 0.1677244  0.73764059 0.83166097 0.48985695]\n",
        " [0.44581567 0.13502419 0.55692335 0.16479622 0.61193593]]\n",
        "```"
      ],
      "metadata": {
        "id": "D8PcdKXTkFBW"
      }
    },
    {
      "cell_type": "code",
      "source": [
        "def stack(*args):\n",
        "  try:\n",
        "    for i in args:\n",
        "      if type(i) != np.ndarray:\n",
        "        raise TypeError(\"All arguments should be numpy array\")\n",
        "  except Exception as e:\n",
        "    print(e)\n",
        "  else:\n",
        "    return np.vstack(args)"
      ],
      "metadata": {
        "id": "g46pczoeaZ-F"
      },
      "execution_count": 87,
      "outputs": []
    },
    {
      "cell_type": "code",
      "source": [
        "a = np.arange(10).reshape(2,5)\n",
        "b = np.ones(10,dtype=np.int8).reshape(2,5)\n",
        "stack(a,b)"
      ],
      "metadata": {
        "colab": {
          "base_uri": "https://localhost:8080/"
        },
        "id": "Ys8XcXChY--8",
        "outputId": "666cd1c6-76a3-4bf0-dd4b-a1d7e1b0874b"
      },
      "execution_count": 93,
      "outputs": [
        {
          "output_type": "execute_result",
          "data": {
            "text/plain": [
              "array([[0, 1, 2, 3, 4],\n",
              "       [5, 6, 7, 8, 9],\n",
              "       [1, 1, 1, 1, 1],\n",
              "       [1, 1, 1, 1, 1]])"
            ]
          },
          "metadata": {},
          "execution_count": 93
        }
      ]
    },
    {
      "cell_type": "code",
      "source": [
        "c = np.random.random(10).reshape(2,5)\n",
        "stack(a,b,c)"
      ],
      "metadata": {
        "colab": {
          "base_uri": "https://localhost:8080/"
        },
        "id": "CWnXDQIXcNyZ",
        "outputId": "daef0653-0039-4189-9447-95ceb0859566"
      },
      "execution_count": 94,
      "outputs": [
        {
          "output_type": "execute_result",
          "data": {
            "text/plain": [
              "array([[0.        , 1.        , 2.        , 3.        , 4.        ],\n",
              "       [5.        , 6.        , 7.        , 8.        , 9.        ],\n",
              "       [1.        , 1.        , 1.        , 1.        , 1.        ],\n",
              "       [1.        , 1.        , 1.        , 1.        , 1.        ],\n",
              "       [0.99793491, 0.97983578, 0.69626093, 0.44582627, 0.49815752],\n",
              "       [0.56890333, 0.62492173, 0.39585728, 0.95938503, 0.19663409]])"
            ]
          },
          "metadata": {},
          "execution_count": 94
        }
      ]
    },
    {
      "cell_type": "code",
      "source": [
        "a = np.arange(10).reshape(2,5)\n",
        "b = [10,11,12,13,14]\n",
        "stack(a,b)"
      ],
      "metadata": {
        "colab": {
          "base_uri": "https://localhost:8080/"
        },
        "id": "GR1b1eKqcDgX",
        "outputId": "ef0fdd3e-45f7-436a-f3ee-16998ea6bb31"
      },
      "execution_count": 91,
      "outputs": [
        {
          "output_type": "stream",
          "name": "stdout",
          "text": [
            "All arguments should be numpy array\n"
          ]
        }
      ]
    },
    {
      "cell_type": "markdown",
      "source": [
        "### `Q-13:` Dates\n",
        "\n",
        "Create a python function named **date_array** that accepts two dates as string format and returns a numpy array of dates between those 2 dates. The function only accept 2 strings, otherwise raise error. The date format should be like this only: `2022-12-6`. The end date should be included and for simplicity, choose dates from a same year.\n",
        "\n"
      ],
      "metadata": {
        "id": "qMiS1lsikJ8m"
      }
    },
    {
      "cell_type": "markdown",
      "source": [
        "**Example 1:**\n",
        "\n",
        "Input:\n",
        "```bash\n",
        "date_array(start = '2020-09-15', end = '2020-09-25')\n",
        "```\n",
        "\n",
        "Output:\n",
        "```bash\n",
        "['2020-09-15', '2020-09-16', '2020-09-17', '2020-09-18',\n",
        " '2020-09-19', '2020-09-20', '2020-09-21', '2020-09-22',\n",
        " '2020-09-23', '2020-09-24', '2020-09-25']\n",
        "```\n",
        "\n",
        "**Example 2:**\n",
        "\n",
        "Input:\n",
        "```bash\n",
        "date_array(start = '2022-12-01', end = '2022-12-06')\n",
        "```\n",
        "\n",
        "Output:\n",
        "```bash\n",
        "['2022-12-01', '2022-12-02', '2022-12-03', '2022-12-04', '2022-12-05', '2022-12-06']\n",
        "```\n",
        "\n",
        "**Example 3:**\n",
        "\n",
        "Input:\n",
        "```bash\n",
        "date_array(start = '2020-11-25', end = '2020-11-30')\n",
        "```\n",
        "\n",
        "Output:\n",
        "```bash\n",
        "['2020-11-25', '2020-11-26', '2020-11-27', '2020-11-28',\n",
        " '2020-11-29', '2020-11-30']\n",
        "```"
      ],
      "metadata": {
        "id": "UDWnoCNLkQlg"
      }
    },
    {
      "cell_type": "code",
      "source": [
        "def date_array(start,end):\n",
        "  try:\n",
        "    if type(start) != str or type(end) != str:\n",
        "      raise TypeError(\"All arguments should be string\")\n",
        "  except Exception as e:\n",
        "    print(e)\n",
        "  else:\n",
        "    start = np.datetime64(start)\n",
        "    end = np.datetime64(end)\n",
        "    return np.arange(start,end+1)\n",
        "    #return np.arange(start,end+np.timedelta64(1,'D'),dtype='datetime64[D]')"
      ],
      "metadata": {
        "id": "x3rrGusUujA3"
      },
      "execution_count": 219,
      "outputs": []
    },
    {
      "cell_type": "code",
      "source": [
        "s = '2020-11-25'\n",
        "e = '2020-11-30'\n",
        "print(date_array(s,e))"
      ],
      "metadata": {
        "colab": {
          "base_uri": "https://localhost:8080/"
        },
        "id": "HomsovQNuwnB",
        "outputId": "f38716e6-bda2-493b-b64b-a65b30645d12"
      },
      "execution_count": 220,
      "outputs": [
        {
          "output_type": "stream",
          "name": "stdout",
          "text": [
            "['2020-11-25' '2020-11-26' '2020-11-27' '2020-11-28' '2020-11-29'\n",
            " '2020-11-30']\n"
          ]
        }
      ]
    },
    {
      "cell_type": "code",
      "source": [
        "date_array(start = '2020-09-15', end = '2020-09-25')"
      ],
      "metadata": {
        "colab": {
          "base_uri": "https://localhost:8080/"
        },
        "id": "Sdxm4dn1waGO",
        "outputId": "5f05cf6f-99ec-489d-bf8b-9a86271d7bd6"
      },
      "execution_count": 221,
      "outputs": [
        {
          "output_type": "execute_result",
          "data": {
            "text/plain": [
              "array(['2020-09-15', '2020-09-16', '2020-09-17', '2020-09-18',\n",
              "       '2020-09-19', '2020-09-20', '2020-09-21', '2020-09-22',\n",
              "       '2020-09-23', '2020-09-24', '2020-09-25'], dtype='datetime64[D]')"
            ]
          },
          "metadata": {},
          "execution_count": 221
        }
      ]
    },
    {
      "cell_type": "code",
      "source": [
        "date_array(start = '2022-12-01', end = '2022-12-06')"
      ],
      "metadata": {
        "colab": {
          "base_uri": "https://localhost:8080/"
        },
        "id": "bELmqWcRwhzj",
        "outputId": "3a274d9b-4e0b-44e4-ad02-6b8e233f48c8"
      },
      "execution_count": 222,
      "outputs": [
        {
          "output_type": "execute_result",
          "data": {
            "text/plain": [
              "array(['2022-12-01', '2022-12-02', '2022-12-03', '2022-12-04',\n",
              "       '2022-12-05', '2022-12-06'], dtype='datetime64[D]')"
            ]
          },
          "metadata": {},
          "execution_count": 222
        }
      ]
    },
    {
      "cell_type": "markdown",
      "source": [
        "https://numpy.org/doc/stable/reference/arrays.datetime.html#arrays-datetime"
      ],
      "metadata": {
        "id": "63D7jG7xwyF_"
      }
    },
    {
      "cell_type": "markdown",
      "source": [
        "###`Q-14:` Subtract the mean of each row from a matrix."
      ],
      "metadata": {
        "id": "7XtVewlWkS5w"
      }
    },
    {
      "cell_type": "code",
      "source": [
        "a = np.random.randint(1,100,24).reshape(6,4)\n",
        "a"
      ],
      "metadata": {
        "colab": {
          "base_uri": "https://localhost:8080/"
        },
        "id": "4U6zUDEgob47",
        "outputId": "f2d48838-747d-4d31-b94a-ff0d8f0607b2"
      },
      "execution_count": 195,
      "outputs": [
        {
          "output_type": "execute_result",
          "data": {
            "text/plain": [
              "array([[86,  6, 51, 42],\n",
              "       [63, 13, 39, 74],\n",
              "       [64, 14, 48,  1],\n",
              "       [58, 89, 53, 69],\n",
              "       [78, 61, 39, 41],\n",
              "       [63,  9, 87,  5]])"
            ]
          },
          "metadata": {},
          "execution_count": 195
        }
      ]
    },
    {
      "cell_type": "code",
      "source": [
        "np.mean(a,axis=1,keepdims=True)"
      ],
      "metadata": {
        "colab": {
          "base_uri": "https://localhost:8080/"
        },
        "id": "q8rSKIAkolNr",
        "outputId": "e3a45af3-2eaa-494c-c3f1-4346624a807c"
      },
      "execution_count": 196,
      "outputs": [
        {
          "output_type": "execute_result",
          "data": {
            "text/plain": [
              "array([[46.25],\n",
              "       [47.25],\n",
              "       [31.75],\n",
              "       [67.25],\n",
              "       [54.75],\n",
              "       [41.  ]])"
            ]
          },
          "metadata": {},
          "execution_count": 196
        }
      ]
    },
    {
      "cell_type": "code",
      "source": [
        "a - np.mean(a,axis=1,keepdims=True)"
      ],
      "metadata": {
        "colab": {
          "base_uri": "https://localhost:8080/"
        },
        "id": "wGWRSATBpJHa",
        "outputId": "a38eebe0-d93d-44fa-8918-bd827d80a8c9"
      },
      "execution_count": 197,
      "outputs": [
        {
          "output_type": "execute_result",
          "data": {
            "text/plain": [
              "array([[ 39.75, -40.25,   4.75,  -4.25],\n",
              "       [ 15.75, -34.25,  -8.25,  26.75],\n",
              "       [ 32.25, -17.75,  16.25, -30.75],\n",
              "       [ -9.25,  21.75, -14.25,   1.75],\n",
              "       [ 23.25,   6.25, -15.75, -13.75],\n",
              "       [ 22.  , -32.  ,  46.  , -36.  ]])"
            ]
          },
          "metadata": {},
          "execution_count": 197
        }
      ]
    },
    {
      "cell_type": "markdown",
      "source": [
        "###`Q-15:` Swap column-1 of array with column-2 in the array."
      ],
      "metadata": {
        "id": "peKr3loVkW5t"
      }
    },
    {
      "cell_type": "code",
      "source": [
        "def swap_columns(arr,col1,col2):\n",
        "  arr[:,[col1,col2]] = arr[:,[col2,col1]]\n",
        "  # arr[:,col1],arr[:,col2] = arr[:,col2].copy(),arr[:,col1].copy()\n",
        "  return arr"
      ],
      "metadata": {
        "id": "YXWE7mAZllXI"
      },
      "execution_count": 156,
      "outputs": []
    },
    {
      "cell_type": "code",
      "source": [
        "a = np.arange(24).reshape(4,6)\n",
        "a"
      ],
      "metadata": {
        "id": "ZVTk0Es4kbeF",
        "colab": {
          "base_uri": "https://localhost:8080/"
        },
        "outputId": "18183b7c-c4b6-4d14-e2a2-7a8ba9d58d29"
      },
      "execution_count": 167,
      "outputs": [
        {
          "output_type": "execute_result",
          "data": {
            "text/plain": [
              "array([[ 0,  1,  2,  3,  4,  5],\n",
              "       [ 6,  7,  8,  9, 10, 11],\n",
              "       [12, 13, 14, 15, 16, 17],\n",
              "       [18, 19, 20, 21, 22, 23]])"
            ]
          },
          "metadata": {},
          "execution_count": 167
        }
      ]
    },
    {
      "cell_type": "code",
      "source": [
        "swap_columns(a,2,4)"
      ],
      "metadata": {
        "colab": {
          "base_uri": "https://localhost:8080/"
        },
        "id": "BfOEnQQZl-cK",
        "outputId": "62e36821-45fa-46fe-e8b8-4adfa2caf567"
      },
      "execution_count": 161,
      "outputs": [
        {
          "output_type": "execute_result",
          "data": {
            "text/plain": [
              "array([[ 0,  1,  4,  3,  2,  5],\n",
              "       [ 6,  7, 10,  9,  8, 11],\n",
              "       [12, 13, 16, 15, 14, 17],\n",
              "       [18, 19, 22, 21, 20, 23]])"
            ]
          },
          "metadata": {},
          "execution_count": 161
        }
      ]
    },
    {
      "cell_type": "code",
      "source": [
        "temp = np.copy(a[:, 0])\n",
        "a[:, 0] = a[:, 1]\n",
        "a[:, 1] = temp\n",
        "a"
      ],
      "metadata": {
        "colab": {
          "base_uri": "https://localhost:8080/"
        },
        "id": "0aYamU5InLOr",
        "outputId": "b63251e3-a3a3-47a1-e4e3-1f1e7368d71d"
      },
      "execution_count": 168,
      "outputs": [
        {
          "output_type": "execute_result",
          "data": {
            "text/plain": [
              "array([[ 1,  0,  2,  3,  4,  5],\n",
              "       [ 7,  6,  8,  9, 10, 11],\n",
              "       [13, 12, 14, 15, 16, 17],\n",
              "       [19, 18, 20, 21, 22, 23]])"
            ]
          },
          "metadata": {},
          "execution_count": 168
        }
      ]
    },
    {
      "cell_type": "code",
      "source": [
        "def swap_rows(arr,row1,row2):\n",
        "  arr[[row1,row2],:] = arr[[row2,row1],:]\n",
        "  return arr"
      ],
      "metadata": {
        "id": "R8DcSD3Ymyn6"
      },
      "execution_count": 162,
      "outputs": []
    },
    {
      "cell_type": "code",
      "source": [
        "swap_rows(a,1,3)"
      ],
      "metadata": {
        "colab": {
          "base_uri": "https://localhost:8080/"
        },
        "id": "8bKuixwgm2Qe",
        "outputId": "62f5e67a-190f-43b1-9dd6-d5d24e367221"
      },
      "execution_count": 163,
      "outputs": [
        {
          "output_type": "execute_result",
          "data": {
            "text/plain": [
              "array([[ 0,  1,  4,  3,  2,  5],\n",
              "       [18, 19, 22, 21, 20, 23],\n",
              "       [12, 13, 16, 15, 14, 17],\n",
              "       [ 6,  7, 10,  9,  8, 11]])"
            ]
          },
          "metadata": {},
          "execution_count": 163
        }
      ]
    },
    {
      "cell_type": "markdown",
      "source": [
        "###`Q-16:` Replace odd elements in arrays with -1."
      ],
      "metadata": {
        "id": "TAyB06ZLkcFF"
      }
    },
    {
      "cell_type": "code",
      "source": [
        "a = np.random.randint(1,100,30).reshape(6,5)\n",
        "a"
      ],
      "metadata": {
        "id": "ccLIbgkhkfnE",
        "colab": {
          "base_uri": "https://localhost:8080/"
        },
        "outputId": "f384fa92-becf-42cf-d0a3-dfdff121cc95"
      },
      "execution_count": 99,
      "outputs": [
        {
          "output_type": "execute_result",
          "data": {
            "text/plain": [
              "array([[73, 55, 58,  4, 54],\n",
              "       [45, 67, 21, 98,  8],\n",
              "       [32, 11, 74, 41, 54],\n",
              "       [81, 43,  7, 24, 69],\n",
              "       [53, 71,  3, 68, 31],\n",
              "       [78, 75, 74, 42, 97]])"
            ]
          },
          "metadata": {},
          "execution_count": 99
        }
      ]
    },
    {
      "cell_type": "code",
      "source": [
        "a[a%2!=0]=-1\n",
        "a"
      ],
      "metadata": {
        "colab": {
          "base_uri": "https://localhost:8080/"
        },
        "id": "TaBxMf5Rdrmq",
        "outputId": "508a1624-f830-4ccf-cdf0-6032567cae54"
      },
      "execution_count": 101,
      "outputs": [
        {
          "output_type": "execute_result",
          "data": {
            "text/plain": [
              "array([[-1, -1, 58,  4, 54],\n",
              "       [-1, -1, -1, 98,  8],\n",
              "       [32, -1, 74, -1, 54],\n",
              "       [-1, -1, -1, 24, -1],\n",
              "       [-1, -1, -1, 68, -1],\n",
              "       [78, -1, 74, 42, -1]])"
            ]
          },
          "metadata": {},
          "execution_count": 101
        }
      ]
    },
    {
      "cell_type": "markdown",
      "source": [
        "###`Q-17:` Given two arrays of same shape make an array of max out of two arrays. (Numpy way)\n",
        "```\n",
        "a=np.array([6,3,1,5,8])\n",
        "b=np.array([3,2,1,7,2])\n",
        "\n",
        "Result-> [6 3 1 7 8]\n",
        "```"
      ],
      "metadata": {
        "id": "NZTJdiiOkf6q"
      }
    },
    {
      "cell_type": "code",
      "source": [
        "a=np.array([6,3,1,5,8])\n",
        "b=np.array([3,2,1,7,2])"
      ],
      "metadata": {
        "id": "4SoPLEAqeSuT"
      },
      "execution_count": 112,
      "outputs": []
    },
    {
      "cell_type": "code",
      "source": [
        "np.max((a,b),axis=0)"
      ],
      "metadata": {
        "colab": {
          "base_uri": "https://localhost:8080/"
        },
        "id": "p40x1TtAeW5E",
        "outputId": "6e0ae995-8d38-4dfb-ac8e-c85598054442"
      },
      "execution_count": 113,
      "outputs": [
        {
          "output_type": "execute_result",
          "data": {
            "text/plain": [
              "array([6, 3, 1, 7, 8])"
            ]
          },
          "metadata": {},
          "execution_count": 113
        }
      ]
    },
    {
      "cell_type": "markdown",
      "source": [
        "###`Q-18` Answer below asked questions on given array:\n",
        "1. Fetch Every alternate column of the array\n",
        "2. Normalise the given array\n",
        "\n",
        "https://en.wikipedia.org/wiki/Normalization_(statistics)\n",
        "\n",
        "There are different form of normalisation for this question use below formula.\n",
        "\n",
        "$$\\large X_{normalized} = \\frac{X - X_{min}}{X_{max} - X_{min}}$$\n",
        "\n",
        "```python\n",
        "arr1=np.random.randint(low=1, high=10000, size=40).reshape(8,5)\n",
        "```\n"
      ],
      "metadata": {
        "id": "wYCPfoKBkkOk"
      }
    },
    {
      "cell_type": "code",
      "source": [
        "# Given\n",
        "arr1=np.random.randint(low=1, high=10000, size=40).reshape(8,5)\n",
        "arr1"
      ],
      "metadata": {
        "colab": {
          "base_uri": "https://localhost:8080/"
        },
        "id": "d0BiNIGcknld",
        "outputId": "78650f64-88ed-432b-e714-258488ea1972"
      },
      "execution_count": 229,
      "outputs": [
        {
          "output_type": "execute_result",
          "data": {
            "text/plain": [
              "array([[3376, 6252, 2047, 8975, 5312],\n",
              "       [2633, 8318, 1458,  743, 8177],\n",
              "       [8400, 4381, 8829, 7149, 1651],\n",
              "       [3828, 9290, 8238, 2786, 8397],\n",
              "       [8937, 2364, 2653, 1352, 3251],\n",
              "       [2521, 7703, 9089, 3198, 1724],\n",
              "       [8577, 9120, 5870, 1233, 6796],\n",
              "       [9772, 9946, 5118,  890, 3629]])"
            ]
          },
          "metadata": {},
          "execution_count": 229
        }
      ]
    },
    {
      "cell_type": "code",
      "source": [
        "def normalize(arr):\n",
        "  return (arr-np.min(arr))/(np.max(arr)-np.min(arr))"
      ],
      "metadata": {
        "id": "UNoGSlrEkuzI"
      },
      "execution_count": 231,
      "outputs": []
    },
    {
      "cell_type": "code",
      "source": [
        "def normalize_colwise(arr):\n",
        "  return (arr-np.min(arr,axis=0))/(np.max(arr,axis=0)-np.min(arr,axis=0))"
      ],
      "metadata": {
        "id": "EnJEbojhFCJk"
      },
      "execution_count": 230,
      "outputs": []
    },
    {
      "cell_type": "code",
      "source": [
        "def normalize_rowwise(arr):\n",
        "  return (arr-np.min(arr,axis=1,keepdims=True))/(np.max(arr,axis=1,keepdims=True)-np.min(arr,axis=1,keepdims=True))"
      ],
      "metadata": {
        "id": "HmRmLfJgH4Dc"
      },
      "execution_count": 236,
      "outputs": []
    },
    {
      "cell_type": "code",
      "source": [
        "normalize(arr1)"
      ],
      "metadata": {
        "colab": {
          "base_uri": "https://localhost:8080/"
        },
        "id": "C5mnt8pxD3C0",
        "outputId": "a6fb5e9a-d956-4abc-ae97-e5dee8d28101"
      },
      "execution_count": 232,
      "outputs": [
        {
          "output_type": "execute_result",
          "data": {
            "text/plain": [
              "array([[0.28610236, 0.59860915, 0.14169293, 0.89449093, 0.49646854],\n",
              "       [0.20536781, 0.82310116, 0.07769206, 0.        , 0.80778007],\n",
              "       [0.8320113 , 0.39530588, 0.87862653, 0.69607737, 0.09866348],\n",
              "       [0.33521678, 0.9287189 , 0.81440835, 0.22199283, 0.83168532],\n",
              "       [0.89036184, 0.17613822, 0.20754102, 0.06617407, 0.27251983],\n",
              "       [0.19319787, 0.75627513, 0.90687819, 0.26676084, 0.10659568],\n",
              "       [0.85124416, 0.91024666, 0.55710095, 0.05324351, 0.65772031],\n",
              "       [0.98109312, 1.        , 0.47538846, 0.01597305, 0.31359339]])"
            ]
          },
          "metadata": {},
          "execution_count": 232
        }
      ]
    },
    {
      "cell_type": "code",
      "source": [
        "normalize_colwise(arr1)"
      ],
      "metadata": {
        "colab": {
          "base_uri": "https://localhost:8080/"
        },
        "id": "w3fGwDAhHKZr",
        "outputId": "41a871bd-c0c2-402b-a162-30c4800a41ca"
      },
      "execution_count": 233,
      "outputs": [
        {
          "output_type": "execute_result",
          "data": {
            "text/plain": [
              "array([[0.11791477, 0.51279346, 0.07718517, 1.        , 0.54269197],\n",
              "       [0.01544615, 0.78528093, 0.        , 0.        , 0.96738808],\n",
              "       [0.81078472, 0.2660248 , 0.96592845, 0.7781827 , 0.        ],\n",
              "       [0.180251  , 0.91347929, 0.8884812 , 0.24817784, 1.        ],\n",
              "       [0.88484347, 0.        , 0.15659809, 0.07397959, 0.23717759],\n",
              "       [0.        , 0.70416777, 1.        , 0.29822643, 0.01082123],\n",
              "       [0.83519515, 0.89105777, 0.578168  , 0.05952381, 0.76267418],\n",
              "       [1.        , 1.        , 0.47962259, 0.01785714, 0.29321079]])"
            ]
          },
          "metadata": {},
          "execution_count": 233
        }
      ]
    },
    {
      "cell_type": "code",
      "source": [
        "normalize_rowwise(arr1)"
      ],
      "metadata": {
        "colab": {
          "base_uri": "https://localhost:8080/"
        },
        "id": "jxR5nfYCH-cN",
        "outputId": "0e24cc92-c17e-44ea-ce79-31d06c1ea63d"
      },
      "execution_count": 237,
      "outputs": [
        {
          "output_type": "execute_result",
          "data": {
            "text/plain": [
              "array([[0.19183025, 0.60695727, 0.        , 1.        , 0.47127598],\n",
              "       [0.24950495, 1.        , 0.09438944, 0.        , 0.98138614],\n",
              "       [0.94023405, 0.38032878, 1.        , 0.76595152, 0.        ],\n",
              "       [0.1602091 , 1.        , 0.83825338, 0.        , 0.86269988],\n",
              "       [1.        , 0.13342123, 0.17152274, 0.        , 0.25036256],\n",
              "       [0.10821453, 0.81181263, 1.        , 0.20013578, 0.        ],\n",
              "       [0.93115253, 1.        , 0.5879295 , 0.        , 0.7053379 ],\n",
              "       [0.98078622, 1.        , 0.46687279, 0.        , 0.30245141]])"
            ]
          },
          "metadata": {},
          "execution_count": 237
        }
      ]
    },
    {
      "cell_type": "markdown",
      "source": [
        "###`Q-19:` Write a function which will accept 2 arguments.\n",
        "First: A 1D numpy array arr\n",
        "\n",
        "Second: An integer n {Please make sure n<=len(arr)}\n",
        "\n",
        "Output: The output should be the nth largest item out of the array\n",
        "```\n",
        "# Example1 : arr=(12,34,40,7,1,0) and n=3, the output should be 12\n",
        "# Example2 : arr=(12,34,40,7,1,0) and n=1, the output should be 40\n",
        "```"
      ],
      "metadata": {
        "id": "q25mmS1EkvNo"
      }
    },
    {
      "cell_type": "code",
      "source": [
        "def nth_largest(arr,n):\n",
        "  if n<=len(arr):\n",
        "    return np.sort(arr)[-n]\n",
        "  else:\n",
        "    raise ValueError(\"n should be less than or equal to length of array\")"
      ],
      "metadata": {
        "id": "9uaFijZYhQ5C"
      },
      "execution_count": 129,
      "outputs": []
    },
    {
      "cell_type": "code",
      "source": [
        "arr=(12,34,40,7,1,0)\n",
        "nth_largest(arr,3)"
      ],
      "metadata": {
        "id": "MDengrcfky7J",
        "colab": {
          "base_uri": "https://localhost:8080/"
        },
        "outputId": "39164196-6916-48f6-e354-deaa32bbd17f"
      },
      "execution_count": 131,
      "outputs": [
        {
          "output_type": "execute_result",
          "data": {
            "text/plain": [
              "12"
            ]
          },
          "metadata": {},
          "execution_count": 131
        }
      ]
    },
    {
      "cell_type": "code",
      "source": [
        "nth_largest(arr,1)"
      ],
      "metadata": {
        "colab": {
          "base_uri": "https://localhost:8080/"
        },
        "id": "TYLsKEGPh0TK",
        "outputId": "73e9e67d-81f4-42a3-f9e0-34aee48c0d18"
      },
      "execution_count": 134,
      "outputs": [
        {
          "output_type": "execute_result",
          "data": {
            "text/plain": [
              "40"
            ]
          },
          "metadata": {},
          "execution_count": 134
        }
      ]
    },
    {
      "cell_type": "code",
      "source": [
        "nth_largest(arr,7)"
      ],
      "metadata": {
        "colab": {
          "base_uri": "https://localhost:8080/",
          "height": 228
        },
        "id": "P5scsyVAh2wC",
        "outputId": "6a66f86a-66d1-4448-a8df-fcf8eee188e6"
      },
      "execution_count": 133,
      "outputs": [
        {
          "output_type": "error",
          "ename": "ValueError",
          "evalue": "n should be less than or equal to length of array",
          "traceback": [
            "\u001b[0;31m---------------------------------------------------------------------------\u001b[0m",
            "\u001b[0;31mValueError\u001b[0m                                Traceback (most recent call last)",
            "\u001b[0;32m<ipython-input-133-9515f9f9b898>\u001b[0m in \u001b[0;36m<cell line: 1>\u001b[0;34m()\u001b[0m\n\u001b[0;32m----> 1\u001b[0;31m \u001b[0mnth_largest\u001b[0m\u001b[0;34m(\u001b[0m\u001b[0marr\u001b[0m\u001b[0;34m,\u001b[0m\u001b[0;36m7\u001b[0m\u001b[0;34m)\u001b[0m\u001b[0;34m\u001b[0m\u001b[0;34m\u001b[0m\u001b[0m\n\u001b[0m",
            "\u001b[0;32m<ipython-input-129-541d9cd16544>\u001b[0m in \u001b[0;36mnth_largest\u001b[0;34m(arr, n)\u001b[0m\n\u001b[1;32m      3\u001b[0m     \u001b[0;32mreturn\u001b[0m \u001b[0mnp\u001b[0m\u001b[0;34m.\u001b[0m\u001b[0msort\u001b[0m\u001b[0;34m(\u001b[0m\u001b[0marr\u001b[0m\u001b[0;34m)\u001b[0m\u001b[0;34m[\u001b[0m\u001b[0;34m-\u001b[0m\u001b[0mn\u001b[0m\u001b[0;34m]\u001b[0m\u001b[0;34m\u001b[0m\u001b[0;34m\u001b[0m\u001b[0m\n\u001b[1;32m      4\u001b[0m   \u001b[0;32melse\u001b[0m\u001b[0;34m:\u001b[0m\u001b[0;34m\u001b[0m\u001b[0;34m\u001b[0m\u001b[0m\n\u001b[0;32m----> 5\u001b[0;31m     \u001b[0;32mraise\u001b[0m \u001b[0mValueError\u001b[0m\u001b[0;34m(\u001b[0m\u001b[0;34m\"n should be less than or equal to length of array\"\u001b[0m\u001b[0;34m)\u001b[0m\u001b[0;34m\u001b[0m\u001b[0;34m\u001b[0m\u001b[0m\n\u001b[0m",
            "\u001b[0;31mValueError\u001b[0m: n should be less than or equal to length of array"
          ]
        }
      ]
    },
    {
      "cell_type": "markdown",
      "source": [
        "###`Q-20:` Create the following pattern without hardcoding. Use only numpy functions and the below input array a.\n",
        "```\n",
        "# Input: a = np.array([1,2,3])\n",
        "# Output: array([1, 1, 1, 2, 2, 2, 3, 3, 3, 1, 2, 3, 1, 2, 3, 1, 2, 3])\n",
        "```"
      ],
      "metadata": {
        "id": "3rPqvt9HkzXU"
      }
    },
    {
      "cell_type": "code",
      "source": [
        "a = np.array([1,2,3])"
      ],
      "metadata": {
        "id": "HhLLcInTk2kk"
      },
      "execution_count": 119,
      "outputs": []
    },
    {
      "cell_type": "code",
      "source": [
        "np.concatenate([np.repeat(a,3),np.tile(a,3)])"
      ],
      "metadata": {
        "colab": {
          "base_uri": "https://localhost:8080/"
        },
        "id": "4Llp-PMVfp_H",
        "outputId": "29049967-6c8a-4e95-de64-1f5a47fb46cc"
      },
      "execution_count": 120,
      "outputs": [
        {
          "output_type": "execute_result",
          "data": {
            "text/plain": [
              "array([1, 1, 1, 2, 2, 2, 3, 3, 3, 1, 2, 3, 1, 2, 3, 1, 2, 3])"
            ]
          },
          "metadata": {},
          "execution_count": 120
        }
      ]
    }
  ]
}