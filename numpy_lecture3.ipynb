{
  "nbformat": 4,
  "nbformat_minor": 0,
  "metadata": {
    "colab": {
      "provenance": []
    },
    "kernelspec": {
      "name": "python3",
      "display_name": "Python 3"
    },
    "language_info": {
      "name": "python"
    }
  },
  "cells": [
    {
      "cell_type": "markdown",
      "source": [
        "Topics covered:\n",
        "\n",
        "- np.sort\n",
        "- np.append\n",
        "- np.concatenate\n",
        "- np.unique\n",
        "- np.expand_dims\n",
        "- np.where\n",
        "- np.argmax\n",
        "- np.cumsum\n",
        "- np.percentile\n",
        "- np.histogram\n",
        "- np.corrcoef\n",
        "- np.isin\n",
        "- np.flip\n",
        "- np.put\n",
        "- np.delete\n",
        "- np.union1d\n",
        "- np.intersect1d\n",
        "- np.setdiff1d\n",
        "- np.setxor1d\n",
        "- np.in1d\n",
        "- np.clip\n"
      ],
      "metadata": {
        "id": "3pASnUs6tOuQ"
      }
    },
    {
      "cell_type": "markdown",
      "source": [
        "### np.sort\n",
        "\n",
        "Return a sorted copy of an array.\n",
        "\n",
        "https://numpy.org/doc/stable/reference/generated/numpy.sort.html"
      ],
      "metadata": {
        "id": "5e7RZ7q5vYOc"
      }
    },
    {
      "cell_type": "code",
      "execution_count": 1,
      "metadata": {
        "colab": {
          "base_uri": "https://localhost:8080/"
        },
        "id": "1SmO3EWItHMK",
        "outputId": "d58d9f45-4f39-4f1f-fabe-e623241b2cc0"
      },
      "outputs": [
        {
          "output_type": "execute_result",
          "data": {
            "text/plain": [
              "array([59, 38, 38, 52, 51, 52, 53, 30, 72, 65, 21, 26, 50, 41, 10])"
            ]
          },
          "metadata": {},
          "execution_count": 1
        }
      ],
      "source": [
        "# code\n",
        "import numpy as np\n",
        "a = np.random.randint(1,100,15)\n",
        "a"
      ]
    },
    {
      "cell_type": "code",
      "source": [
        "b = np.random.randint(1,100,24).reshape(6,4)\n",
        "b"
      ],
      "metadata": {
        "colab": {
          "base_uri": "https://localhost:8080/"
        },
        "id": "j90hYQ3Svhbr",
        "outputId": "88376669-4c79-4b81-ede8-1ba62608258c"
      },
      "execution_count": 2,
      "outputs": [
        {
          "output_type": "execute_result",
          "data": {
            "text/plain": [
              "array([[32, 10, 68, 37],\n",
              "       [67, 80, 83, 54],\n",
              "       [47,  4, 76, 14],\n",
              "       [70, 39, 30,  4],\n",
              "       [98,  4, 74, 35],\n",
              "       [62, 31, 57, 94]])"
            ]
          },
          "metadata": {},
          "execution_count": 2
        }
      ]
    },
    {
      "cell_type": "code",
      "source": [
        "np.sort(a)   # sort in ascending order"
      ],
      "metadata": {
        "colab": {
          "base_uri": "https://localhost:8080/"
        },
        "id": "lnTB1p-Lvkqw",
        "outputId": "72265e28-1232-406a-f400-47f6bfeed8c4"
      },
      "execution_count": 3,
      "outputs": [
        {
          "output_type": "execute_result",
          "data": {
            "text/plain": [
              "array([10, 21, 26, 30, 38, 38, 41, 50, 51, 52, 52, 53, 59, 65, 72])"
            ]
          },
          "metadata": {},
          "execution_count": 3
        }
      ]
    },
    {
      "cell_type": "code",
      "source": [
        "np.sort(a)[::-1]  # sort in descending order"
      ],
      "metadata": {
        "colab": {
          "base_uri": "https://localhost:8080/"
        },
        "id": "4w79K2PZvmGH",
        "outputId": "b76b0de5-e55f-4ffe-d1bf-64b94ac8adcf"
      },
      "execution_count": 4,
      "outputs": [
        {
          "output_type": "execute_result",
          "data": {
            "text/plain": [
              "array([72, 65, 59, 53, 52, 52, 51, 50, 41, 38, 38, 30, 26, 21, 10])"
            ]
          },
          "metadata": {},
          "execution_count": 4
        }
      ]
    },
    {
      "cell_type": "code",
      "source": [
        "np.sort(b)   # default -> row-wise ascending sort"
      ],
      "metadata": {
        "colab": {
          "base_uri": "https://localhost:8080/"
        },
        "id": "YWkJEcMZvviS",
        "outputId": "d9db613f-88a5-435a-9e1d-aab6f18ebbbc"
      },
      "execution_count": 5,
      "outputs": [
        {
          "output_type": "execute_result",
          "data": {
            "text/plain": [
              "array([[10, 32, 37, 68],\n",
              "       [54, 67, 80, 83],\n",
              "       [ 4, 14, 47, 76],\n",
              "       [ 4, 30, 39, 70],\n",
              "       [ 4, 35, 74, 98],\n",
              "       [31, 57, 62, 94]])"
            ]
          },
          "metadata": {},
          "execution_count": 5
        }
      ]
    },
    {
      "cell_type": "code",
      "source": [
        "np.sort(b,axis=0)  # column-wise ascending sort"
      ],
      "metadata": {
        "colab": {
          "base_uri": "https://localhost:8080/"
        },
        "id": "Q5Lmxidqvymm",
        "outputId": "95bba3d6-c728-48ee-d391-faefd1c7857c"
      },
      "execution_count": 6,
      "outputs": [
        {
          "output_type": "execute_result",
          "data": {
            "text/plain": [
              "array([[32,  4, 30,  4],\n",
              "       [47,  4, 57, 14],\n",
              "       [62, 10, 68, 35],\n",
              "       [67, 31, 74, 37],\n",
              "       [70, 39, 76, 54],\n",
              "       [98, 80, 83, 94]])"
            ]
          },
          "metadata": {},
          "execution_count": 6
        }
      ]
    },
    {
      "cell_type": "code",
      "source": [
        "np.sort(b,axis=0)[::-1]  # column-wise descending sort"
      ],
      "metadata": {
        "colab": {
          "base_uri": "https://localhost:8080/"
        },
        "id": "mWu_Url0v8pg",
        "outputId": "3efd8f91-c1fa-46b0-88b2-fbe52c17c78f"
      },
      "execution_count": 7,
      "outputs": [
        {
          "output_type": "execute_result",
          "data": {
            "text/plain": [
              "array([[98, 80, 83, 94],\n",
              "       [70, 39, 76, 54],\n",
              "       [67, 31, 74, 37],\n",
              "       [62, 10, 68, 35],\n",
              "       [47,  4, 57, 14],\n",
              "       [32,  4, 30,  4]])"
            ]
          },
          "metadata": {},
          "execution_count": 7
        }
      ]
    },
    {
      "cell_type": "code",
      "source": [
        "np.sort(b,axis=1)  # row-wise ascending sort"
      ],
      "metadata": {
        "colab": {
          "base_uri": "https://localhost:8080/"
        },
        "id": "pBJ57Vdawxwi",
        "outputId": "c7222d36-fde9-46e7-da79-819f1f197e95"
      },
      "execution_count": 12,
      "outputs": [
        {
          "output_type": "execute_result",
          "data": {
            "text/plain": [
              "array([[10, 32, 37, 68],\n",
              "       [54, 67, 80, 83],\n",
              "       [ 4, 14, 47, 76],\n",
              "       [ 4, 30, 39, 70],\n",
              "       [ 4, 35, 74, 98],\n",
              "       [31, 57, 62, 94]])"
            ]
          },
          "metadata": {},
          "execution_count": 12
        }
      ]
    },
    {
      "cell_type": "code",
      "source": [
        "np.sort(b)[::,::-1]  # row-wise descending order"
      ],
      "metadata": {
        "colab": {
          "base_uri": "https://localhost:8080/"
        },
        "id": "UmcTZpsoyWaA",
        "outputId": "aa2025b4-7ed8-402f-cf81-7bf67428c69f"
      },
      "execution_count": 28,
      "outputs": [
        {
          "output_type": "execute_result",
          "data": {
            "text/plain": [
              "array([[68, 37, 32, 10],\n",
              "       [83, 80, 67, 54],\n",
              "       [76, 47, 14,  4],\n",
              "       [70, 39, 30,  4],\n",
              "       [98, 74, 35,  4],\n",
              "       [94, 62, 57, 31]])"
            ]
          },
          "metadata": {},
          "execution_count": 28
        }
      ]
    },
    {
      "cell_type": "code",
      "source": [
        "# 0 for column, 1 for row"
      ],
      "metadata": {
        "id": "dRHOGZ_SyYol"
      },
      "execution_count": null,
      "outputs": []
    },
    {
      "cell_type": "markdown",
      "source": [
        "### np.append\n",
        "\n",
        "The numpy.append() appends values along the mentioned axis at the end of the array\n",
        "\n",
        "https://numpy.org/doc/stable/reference/generated/numpy.append.html"
      ],
      "metadata": {
        "id": "g89qJd3C0Fff"
      }
    },
    {
      "cell_type": "code",
      "source": [
        "a"
      ],
      "metadata": {
        "colab": {
          "base_uri": "https://localhost:8080/"
        },
        "id": "UWZQYviK0GDy",
        "outputId": "2a9e5a67-404f-4537-cb74-7ac152e44388"
      },
      "execution_count": 29,
      "outputs": [
        {
          "output_type": "execute_result",
          "data": {
            "text/plain": [
              "array([59, 38, 38, 52, 51, 52, 53, 30, 72, 65, 21, 26, 50, 41, 10])"
            ]
          },
          "metadata": {},
          "execution_count": 29
        }
      ]
    },
    {
      "cell_type": "code",
      "source": [
        "np.append(a,200)"
      ],
      "metadata": {
        "colab": {
          "base_uri": "https://localhost:8080/"
        },
        "id": "QJJQaix10G1m",
        "outputId": "24180f82-d519-47bf-f003-72b95c05c309"
      },
      "execution_count": 30,
      "outputs": [
        {
          "output_type": "execute_result",
          "data": {
            "text/plain": [
              "array([ 59,  38,  38,  52,  51,  52,  53,  30,  72,  65,  21,  26,  50,\n",
              "        41,  10, 200])"
            ]
          },
          "metadata": {},
          "execution_count": 30
        }
      ]
    },
    {
      "cell_type": "code",
      "source": [
        "b"
      ],
      "metadata": {
        "colab": {
          "base_uri": "https://localhost:8080/"
        },
        "id": "Zd7JwI5K0JF4",
        "outputId": "3b3bd50c-e777-4d0a-f2be-d096dddcb88f"
      },
      "execution_count": 31,
      "outputs": [
        {
          "output_type": "execute_result",
          "data": {
            "text/plain": [
              "array([[32, 10, 68, 37],\n",
              "       [67, 80, 83, 54],\n",
              "       [47,  4, 76, 14],\n",
              "       [70, 39, 30,  4],\n",
              "       [98,  4, 74, 35],\n",
              "       [62, 31, 57, 94]])"
            ]
          },
          "metadata": {},
          "execution_count": 31
        }
      ]
    },
    {
      "cell_type": "code",
      "source": [
        "np.append(b,200)  # appending new element"
      ],
      "metadata": {
        "colab": {
          "base_uri": "https://localhost:8080/"
        },
        "id": "L49f3gZz0LLB",
        "outputId": "54b0f7b7-ab69-4973-cbab-3747c877c5e0"
      },
      "execution_count": 32,
      "outputs": [
        {
          "output_type": "execute_result",
          "data": {
            "text/plain": [
              "array([ 32,  10,  68,  37,  67,  80,  83,  54,  47,   4,  76,  14,  70,\n",
              "        39,  30,   4,  98,   4,  74,  35,  62,  31,  57,  94, 200])"
            ]
          },
          "metadata": {},
          "execution_count": 32
        }
      ]
    },
    {
      "cell_type": "code",
      "source": [
        "np.append(b,np.ones((b.shape[0],1)),axis=1)   # appending column"
      ],
      "metadata": {
        "colab": {
          "base_uri": "https://localhost:8080/"
        },
        "id": "VNl5bbHi0OBi",
        "outputId": "a23dbbc0-b31c-41f1-ce04-64d21c7a52be"
      },
      "execution_count": 33,
      "outputs": [
        {
          "output_type": "execute_result",
          "data": {
            "text/plain": [
              "array([[32., 10., 68., 37.,  1.],\n",
              "       [67., 80., 83., 54.,  1.],\n",
              "       [47.,  4., 76., 14.,  1.],\n",
              "       [70., 39., 30.,  4.,  1.],\n",
              "       [98.,  4., 74., 35.,  1.],\n",
              "       [62., 31., 57., 94.,  1.]])"
            ]
          },
          "metadata": {},
          "execution_count": 33
        }
      ]
    },
    {
      "cell_type": "code",
      "source": [
        "np.append(b,np.ones((1,b.shape[1])),axis=0)  # appending row"
      ],
      "metadata": {
        "colab": {
          "base_uri": "https://localhost:8080/"
        },
        "id": "xDerHfTB0nhV",
        "outputId": "0f4fa6ee-34c7-404d-87e0-ec3d6c9d6406"
      },
      "execution_count": 38,
      "outputs": [
        {
          "output_type": "execute_result",
          "data": {
            "text/plain": [
              "array([[32., 10., 68., 37.],\n",
              "       [67., 80., 83., 54.],\n",
              "       [47.,  4., 76., 14.],\n",
              "       [70., 39., 30.,  4.],\n",
              "       [98.,  4., 74., 35.],\n",
              "       [62., 31., 57., 94.],\n",
              "       [ 1.,  1.,  1.,  1.]])"
            ]
          },
          "metadata": {},
          "execution_count": 38
        }
      ]
    },
    {
      "cell_type": "code",
      "source": [
        "np.append(b,np.random.random((b.shape[0],1)),axis=1)"
      ],
      "metadata": {
        "colab": {
          "base_uri": "https://localhost:8080/"
        },
        "id": "giToukLC0pDE",
        "outputId": "35bf3922-d20d-4f70-d962-3188433df02b"
      },
      "execution_count": 45,
      "outputs": [
        {
          "output_type": "execute_result",
          "data": {
            "text/plain": [
              "array([[32.        , 10.        , 68.        , 37.        ,  0.17320995],\n",
              "       [67.        , 80.        , 83.        , 54.        ,  0.63109237],\n",
              "       [47.        ,  4.        , 76.        , 14.        ,  0.3309528 ],\n",
              "       [70.        , 39.        , 30.        ,  4.        ,  0.32212962],\n",
              "       [98.        ,  4.        , 74.        , 35.        ,  0.9860406 ],\n",
              "       [62.        , 31.        , 57.        , 94.        ,  0.83274141]])"
            ]
          },
          "metadata": {},
          "execution_count": 45
        }
      ]
    },
    {
      "cell_type": "markdown",
      "source": [
        "### np.concatenate\n",
        "\n",
        "numpy.concatenate() function concatenate a sequence of arrays along an existing axis.\n",
        "\n",
        "https://numpy.org/doc/stable/reference/generated/numpy.concatenate.html"
      ],
      "metadata": {
        "id": "EdnA8vyF2UUF"
      }
    },
    {
      "cell_type": "code",
      "source": [
        "# code\n",
        "c = np.arange(6).reshape(2,3)\n",
        "d = np.arange(6,12).reshape(2,3)\n",
        "\n",
        "print(c)\n",
        "print(d)"
      ],
      "metadata": {
        "colab": {
          "base_uri": "https://localhost:8080/"
        },
        "id": "YMPp0lWi1T_B",
        "outputId": "26970a6b-219f-41e9-ec18-4428b804f76b"
      },
      "execution_count": 46,
      "outputs": [
        {
          "output_type": "stream",
          "name": "stdout",
          "text": [
            "[[0 1 2]\n",
            " [3 4 5]]\n",
            "[[ 6  7  8]\n",
            " [ 9 10 11]]\n"
          ]
        }
      ]
    },
    {
      "cell_type": "code",
      "source": [
        "np.concatenate((c,d),axis=0)   # column-wise concatenate"
      ],
      "metadata": {
        "colab": {
          "base_uri": "https://localhost:8080/"
        },
        "id": "MbOQiwvU2Ybp",
        "outputId": "acdb7e27-57b4-4c16-ef40-51975eeaa67d"
      },
      "execution_count": 47,
      "outputs": [
        {
          "output_type": "execute_result",
          "data": {
            "text/plain": [
              "array([[ 0,  1,  2],\n",
              "       [ 3,  4,  5],\n",
              "       [ 6,  7,  8],\n",
              "       [ 9, 10, 11]])"
            ]
          },
          "metadata": {},
          "execution_count": 47
        }
      ]
    },
    {
      "cell_type": "code",
      "source": [
        "np.concatenate((c,d),axis=1)   # row-wise concatenate"
      ],
      "metadata": {
        "colab": {
          "base_uri": "https://localhost:8080/"
        },
        "id": "xdHo889c2btz",
        "outputId": "32c8c6ea-4cef-4d16-edc0-1d6b58fd9cec"
      },
      "execution_count": 48,
      "outputs": [
        {
          "output_type": "execute_result",
          "data": {
            "text/plain": [
              "array([[ 0,  1,  2,  6,  7,  8],\n",
              "       [ 3,  4,  5,  9, 10, 11]])"
            ]
          },
          "metadata": {},
          "execution_count": 48
        }
      ]
    },
    {
      "cell_type": "markdown",
      "source": [
        "### np.unique\n",
        "\n",
        "With the help of np.unique() method, we can get the unique values from an array given as parameter in np.unique() method.\n",
        "\n",
        "https://numpy.org/doc/stable/reference/generated/numpy.unique.html/"
      ],
      "metadata": {
        "id": "iHZZgGGF3Btk"
      }
    },
    {
      "cell_type": "code",
      "source": [
        "# code\n",
        "e = np.array([1,1,2,2,3,3,4,4,5,5,6,6])\n",
        "e"
      ],
      "metadata": {
        "colab": {
          "base_uri": "https://localhost:8080/"
        },
        "id": "2DKePfJi2eBZ",
        "outputId": "6c62d596-9d7c-4232-b987-dac1826d9e69"
      },
      "execution_count": 50,
      "outputs": [
        {
          "output_type": "execute_result",
          "data": {
            "text/plain": [
              "array([1, 1, 2, 2, 3, 3, 4, 4, 5, 5, 6, 6])"
            ]
          },
          "metadata": {},
          "execution_count": 50
        }
      ]
    },
    {
      "cell_type": "code",
      "source": [
        "np.unique(e)"
      ],
      "metadata": {
        "colab": {
          "base_uri": "https://localhost:8080/"
        },
        "id": "SmMU2x3M3Fca",
        "outputId": "7223f544-7b87-4218-9fbb-8db43eb85a86"
      },
      "execution_count": 51,
      "outputs": [
        {
          "output_type": "execute_result",
          "data": {
            "text/plain": [
              "array([1, 2, 3, 4, 5, 6])"
            ]
          },
          "metadata": {},
          "execution_count": 51
        }
      ]
    },
    {
      "cell_type": "markdown",
      "source": [
        "### np.expand_dims\n",
        "\n",
        "With the help of Numpy.expand_dims() method, we can get the expanded dimensions of an array\n",
        "\n",
        "https://numpy.org/doc/stable/reference/generated/numpy.expand_dims.html"
      ],
      "metadata": {
        "id": "HrC80k1r4YET"
      }
    },
    {
      "cell_type": "markdown",
      "source": [
        "Expand dimension of an array: 1D->2D, 2D->3D, 3D->4D, ..."
      ],
      "metadata": {
        "id": "woZEmwB-4z-Z"
      }
    },
    {
      "cell_type": "code",
      "source": [
        "a"
      ],
      "metadata": {
        "colab": {
          "base_uri": "https://localhost:8080/"
        },
        "id": "_7Qt7ZFJ3XWz",
        "outputId": "06687154-5338-4f15-8eef-1384e7629706"
      },
      "execution_count": 55,
      "outputs": [
        {
          "output_type": "execute_result",
          "data": {
            "text/plain": [
              "array([59, 38, 38, 52, 51, 52, 53, 30, 72, 65, 21, 26, 50, 41, 10])"
            ]
          },
          "metadata": {},
          "execution_count": 55
        }
      ]
    },
    {
      "cell_type": "code",
      "source": [
        "a.shape"
      ],
      "metadata": {
        "colab": {
          "base_uri": "https://localhost:8080/"
        },
        "id": "Cv6Qyna34ZIE",
        "outputId": "cce04e49-9a82-4e3c-894f-f2082ceedb8b"
      },
      "execution_count": 56,
      "outputs": [
        {
          "output_type": "execute_result",
          "data": {
            "text/plain": [
              "(15,)"
            ]
          },
          "metadata": {},
          "execution_count": 56
        }
      ]
    },
    {
      "cell_type": "code",
      "source": [
        "np.expand_dims(a,axis=0)"
      ],
      "metadata": {
        "colab": {
          "base_uri": "https://localhost:8080/"
        },
        "id": "zjSQlkr94aTf",
        "outputId": "695cb7e1-d007-403c-c25d-686de6ca0b4f"
      },
      "execution_count": 57,
      "outputs": [
        {
          "output_type": "execute_result",
          "data": {
            "text/plain": [
              "array([[59, 38, 38, 52, 51, 52, 53, 30, 72, 65, 21, 26, 50, 41, 10]])"
            ]
          },
          "metadata": {},
          "execution_count": 57
        }
      ]
    },
    {
      "cell_type": "code",
      "source": [
        "np.expand_dims(a,axis=0).shape"
      ],
      "metadata": {
        "colab": {
          "base_uri": "https://localhost:8080/"
        },
        "id": "_pZeZW1i4dw-",
        "outputId": "0c0ad73a-2f6a-4c6e-f7b5-900e145ed4ef"
      },
      "execution_count": 58,
      "outputs": [
        {
          "output_type": "execute_result",
          "data": {
            "text/plain": [
              "(1, 15)"
            ]
          },
          "metadata": {},
          "execution_count": 58
        }
      ]
    },
    {
      "cell_type": "code",
      "source": [
        "np.expand_dims(a,axis=1)"
      ],
      "metadata": {
        "colab": {
          "base_uri": "https://localhost:8080/"
        },
        "id": "Hrun3N6t4gG3",
        "outputId": "5a61a8e9-bdbb-4582-c568-5a8afb1e4733"
      },
      "execution_count": 59,
      "outputs": [
        {
          "output_type": "execute_result",
          "data": {
            "text/plain": [
              "array([[59],\n",
              "       [38],\n",
              "       [38],\n",
              "       [52],\n",
              "       [51],\n",
              "       [52],\n",
              "       [53],\n",
              "       [30],\n",
              "       [72],\n",
              "       [65],\n",
              "       [21],\n",
              "       [26],\n",
              "       [50],\n",
              "       [41],\n",
              "       [10]])"
            ]
          },
          "metadata": {},
          "execution_count": 59
        }
      ]
    },
    {
      "cell_type": "code",
      "source": [
        "np.expand_dims(a,axis=1).shape"
      ],
      "metadata": {
        "colab": {
          "base_uri": "https://localhost:8080/"
        },
        "id": "8lhvJZMM4tpc",
        "outputId": "ffe458a7-d30c-4763-da66-198229cf158d"
      },
      "execution_count": 60,
      "outputs": [
        {
          "output_type": "execute_result",
          "data": {
            "text/plain": [
              "(15, 1)"
            ]
          },
          "metadata": {},
          "execution_count": 60
        }
      ]
    },
    {
      "cell_type": "markdown",
      "source": [
        "### np.where\n",
        "\n",
        "The numpy.where() function returns the indices of elements in an input array where the given condition is satisfied.\n",
        "\n",
        "https://numpy.org/doc/stable/reference/generated/numpy.where.html"
      ],
      "metadata": {
        "id": "2VoW4y-450NY"
      }
    },
    {
      "cell_type": "code",
      "source": [
        "a"
      ],
      "metadata": {
        "colab": {
          "base_uri": "https://localhost:8080/"
        },
        "id": "-2kYiaFs4wEM",
        "outputId": "c3527e93-3ed6-47ee-a852-436e1900c2f2"
      },
      "execution_count": 61,
      "outputs": [
        {
          "output_type": "execute_result",
          "data": {
            "text/plain": [
              "array([59, 38, 38, 52, 51, 52, 53, 30, 72, 65, 21, 26, 50, 41, 10])"
            ]
          },
          "metadata": {},
          "execution_count": 61
        }
      ]
    },
    {
      "cell_type": "code",
      "source": [
        "# find all indices with value greater than 50\n",
        "np.where(a>50)"
      ],
      "metadata": {
        "colab": {
          "base_uri": "https://localhost:8080/"
        },
        "id": "0RP2Qm1z51UW",
        "outputId": "c4df3acc-475d-421e-d0a0-194240cb9c56"
      },
      "execution_count": 63,
      "outputs": [
        {
          "output_type": "execute_result",
          "data": {
            "text/plain": [
              "(array([0, 3, 4, 5, 6, 8, 9]),)"
            ]
          },
          "metadata": {},
          "execution_count": 63
        }
      ]
    },
    {
      "cell_type": "code",
      "source": [
        "# replace all values > 50 with 0\n",
        "# np.where(condition,true,false)\n",
        "\n",
        "np.where(a>50,0,a)"
      ],
      "metadata": {
        "colab": {
          "base_uri": "https://localhost:8080/"
        },
        "id": "UQSvLJil53xW",
        "outputId": "01dab16e-5c8b-402a-c4d2-c1b47ec8cbcb"
      },
      "execution_count": 64,
      "outputs": [
        {
          "output_type": "execute_result",
          "data": {
            "text/plain": [
              "array([ 0, 38, 38,  0,  0,  0,  0, 30,  0,  0, 21, 26, 50, 41, 10])"
            ]
          },
          "metadata": {},
          "execution_count": 64
        }
      ]
    },
    {
      "cell_type": "code",
      "source": [
        "# replace even numbers with 0\n",
        "np.where(a%2==0,0,a)"
      ],
      "metadata": {
        "colab": {
          "base_uri": "https://localhost:8080/"
        },
        "id": "FTo8wy2d6CQq",
        "outputId": "1a5bde10-6e99-4a96-efc8-1aff56a44ff2"
      },
      "execution_count": 65,
      "outputs": [
        {
          "output_type": "execute_result",
          "data": {
            "text/plain": [
              "array([59,  0,  0,  0, 51,  0, 53,  0,  0, 65, 21,  0,  0, 41,  0])"
            ]
          },
          "metadata": {},
          "execution_count": 65
        }
      ]
    },
    {
      "cell_type": "markdown",
      "source": [
        "### np.argmax\n",
        "\n",
        "The numpy.argmax() function returns indices of the max element of the array in a particular axis.\n",
        "\n",
        "https://numpy.org/doc/stable/reference/generated/numpy.argmax.html"
      ],
      "metadata": {
        "id": "0YAtNZTF7FSf"
      }
    },
    {
      "cell_type": "code",
      "source": [
        "a"
      ],
      "metadata": {
        "colab": {
          "base_uri": "https://localhost:8080/"
        },
        "id": "maS1eqat6QSY",
        "outputId": "bad87386-f5fe-459d-96f5-ad0baf76c978"
      },
      "execution_count": 66,
      "outputs": [
        {
          "output_type": "execute_result",
          "data": {
            "text/plain": [
              "array([59, 38, 38, 52, 51, 52, 53, 30, 72, 65, 21, 26, 50, 41, 10])"
            ]
          },
          "metadata": {},
          "execution_count": 66
        }
      ]
    },
    {
      "cell_type": "code",
      "source": [
        "np.argmax(a)"
      ],
      "metadata": {
        "colab": {
          "base_uri": "https://localhost:8080/"
        },
        "id": "o4ckkSNT7GZq",
        "outputId": "392bc5a4-4229-4616-e74a-c845e3bbb484"
      },
      "execution_count": 67,
      "outputs": [
        {
          "output_type": "execute_result",
          "data": {
            "text/plain": [
              "8"
            ]
          },
          "metadata": {},
          "execution_count": 67
        }
      ]
    },
    {
      "cell_type": "code",
      "source": [
        "b"
      ],
      "metadata": {
        "colab": {
          "base_uri": "https://localhost:8080/"
        },
        "id": "Ux4xS7gB7Ij0",
        "outputId": "36b4642e-d77b-4714-dacc-b80a257086a7"
      },
      "execution_count": 68,
      "outputs": [
        {
          "output_type": "execute_result",
          "data": {
            "text/plain": [
              "array([[32, 10, 68, 37],\n",
              "       [67, 80, 83, 54],\n",
              "       [47,  4, 76, 14],\n",
              "       [70, 39, 30,  4],\n",
              "       [98,  4, 74, 35],\n",
              "       [62, 31, 57, 94]])"
            ]
          },
          "metadata": {},
          "execution_count": 68
        }
      ]
    },
    {
      "cell_type": "code",
      "source": [
        "np.argmax(b)   # index of max element in flattened array"
      ],
      "metadata": {
        "colab": {
          "base_uri": "https://localhost:8080/"
        },
        "id": "INoKSNb77LLb",
        "outputId": "e6a8a089-9a42-4d62-f950-b7dd5c41180f"
      },
      "execution_count": 69,
      "outputs": [
        {
          "output_type": "execute_result",
          "data": {
            "text/plain": [
              "16"
            ]
          },
          "metadata": {},
          "execution_count": 69
        }
      ]
    },
    {
      "cell_type": "code",
      "source": [
        "np.argmax(b,axis=0)  # index of max element in column"
      ],
      "metadata": {
        "colab": {
          "base_uri": "https://localhost:8080/"
        },
        "id": "0FNPtZHr7NvB",
        "outputId": "7d86e670-4eaf-486a-acf5-5db16899592f"
      },
      "execution_count": 70,
      "outputs": [
        {
          "output_type": "execute_result",
          "data": {
            "text/plain": [
              "array([4, 1, 1, 5])"
            ]
          },
          "metadata": {},
          "execution_count": 70
        }
      ]
    },
    {
      "cell_type": "code",
      "source": [
        "np.argmax(b,axis=1)  # index of max element in row"
      ],
      "metadata": {
        "colab": {
          "base_uri": "https://localhost:8080/"
        },
        "id": "NMQMhdZ27Xu2",
        "outputId": "333e50f4-c4ef-4865-ba8f-beda77d90dd5"
      },
      "execution_count": 71,
      "outputs": [
        {
          "output_type": "execute_result",
          "data": {
            "text/plain": [
              "array([2, 2, 2, 0, 0, 3])"
            ]
          },
          "metadata": {},
          "execution_count": 71
        }
      ]
    },
    {
      "cell_type": "code",
      "source": [
        "# np.argmin\n",
        "a"
      ],
      "metadata": {
        "colab": {
          "base_uri": "https://localhost:8080/"
        },
        "id": "QxjObTt87cnR",
        "outputId": "f43f0da1-00be-4c89-ca50-8803396f7d11"
      },
      "execution_count": 73,
      "outputs": [
        {
          "output_type": "execute_result",
          "data": {
            "text/plain": [
              "array([59, 38, 38, 52, 51, 52, 53, 30, 72, 65, 21, 26, 50, 41, 10])"
            ]
          },
          "metadata": {},
          "execution_count": 73
        }
      ]
    },
    {
      "cell_type": "code",
      "source": [
        "np.argmin(a)"
      ],
      "metadata": {
        "colab": {
          "base_uri": "https://localhost:8080/"
        },
        "id": "W3CUm0en750t",
        "outputId": "52539e54-1e30-4c3e-c849-ae8267e4f772"
      },
      "execution_count": 74,
      "outputs": [
        {
          "output_type": "execute_result",
          "data": {
            "text/plain": [
              "14"
            ]
          },
          "metadata": {},
          "execution_count": 74
        }
      ]
    },
    {
      "cell_type": "markdown",
      "source": [
        "### np.cumsum\n",
        "\n",
        "numpy.cumsum() function is used when we want to compute the cumulative sum of array elements over a given axis.\n",
        "\n",
        "https://numpy.org/doc/stable/reference/generated/numpy.cumsum.html"
      ],
      "metadata": {
        "id": "U7jwuP2YA4JQ"
      }
    },
    {
      "cell_type": "code",
      "source": [
        "a"
      ],
      "metadata": {
        "colab": {
          "base_uri": "https://localhost:8080/"
        },
        "id": "9Fg6wd3G8Dzh",
        "outputId": "1cf91610-942a-46a4-8b09-cb3452b26b43"
      },
      "execution_count": 75,
      "outputs": [
        {
          "output_type": "execute_result",
          "data": {
            "text/plain": [
              "array([59, 38, 38, 52, 51, 52, 53, 30, 72, 65, 21, 26, 50, 41, 10])"
            ]
          },
          "metadata": {},
          "execution_count": 75
        }
      ]
    },
    {
      "cell_type": "code",
      "source": [
        "np.cumsum(a)"
      ],
      "metadata": {
        "colab": {
          "base_uri": "https://localhost:8080/"
        },
        "id": "yCaf-cxHA5ba",
        "outputId": "6ab4c7a9-e113-4895-938b-81d5d095cb09"
      },
      "execution_count": 76,
      "outputs": [
        {
          "output_type": "execute_result",
          "data": {
            "text/plain": [
              "array([ 59,  97, 135, 187, 238, 290, 343, 373, 445, 510, 531, 557, 607,\n",
              "       648, 658])"
            ]
          },
          "metadata": {},
          "execution_count": 76
        }
      ]
    },
    {
      "cell_type": "code",
      "source": [
        "b"
      ],
      "metadata": {
        "colab": {
          "base_uri": "https://localhost:8080/"
        },
        "id": "A8ZaENJ2A7UU",
        "outputId": "b88546cf-925e-444f-e6f9-cc79e135b672"
      },
      "execution_count": 77,
      "outputs": [
        {
          "output_type": "execute_result",
          "data": {
            "text/plain": [
              "array([[32, 10, 68, 37],\n",
              "       [67, 80, 83, 54],\n",
              "       [47,  4, 76, 14],\n",
              "       [70, 39, 30,  4],\n",
              "       [98,  4, 74, 35],\n",
              "       [62, 31, 57, 94]])"
            ]
          },
          "metadata": {},
          "execution_count": 77
        }
      ]
    },
    {
      "cell_type": "code",
      "source": [
        "np.cumsum(b)"
      ],
      "metadata": {
        "colab": {
          "base_uri": "https://localhost:8080/"
        },
        "id": "IZ3dw2ByA9V_",
        "outputId": "19853866-2522-4f8d-bfba-575eb4fa2416"
      },
      "execution_count": 78,
      "outputs": [
        {
          "output_type": "execute_result",
          "data": {
            "text/plain": [
              "array([  32,   42,  110,  147,  214,  294,  377,  431,  478,  482,  558,\n",
              "        572,  642,  681,  711,  715,  813,  817,  891,  926,  988, 1019,\n",
              "       1076, 1170])"
            ]
          },
          "metadata": {},
          "execution_count": 78
        }
      ]
    },
    {
      "cell_type": "code",
      "source": [
        "np.cumsum(b,axis=0)"
      ],
      "metadata": {
        "colab": {
          "base_uri": "https://localhost:8080/"
        },
        "id": "E8MW7f_oA_g_",
        "outputId": "44283583-d353-4407-9010-cf31f686837a"
      },
      "execution_count": 79,
      "outputs": [
        {
          "output_type": "execute_result",
          "data": {
            "text/plain": [
              "array([[ 32,  10,  68,  37],\n",
              "       [ 99,  90, 151,  91],\n",
              "       [146,  94, 227, 105],\n",
              "       [216, 133, 257, 109],\n",
              "       [314, 137, 331, 144],\n",
              "       [376, 168, 388, 238]])"
            ]
          },
          "metadata": {},
          "execution_count": 79
        }
      ]
    },
    {
      "cell_type": "code",
      "source": [
        "np.cumsum(b,axis=1)"
      ],
      "metadata": {
        "colab": {
          "base_uri": "https://localhost:8080/"
        },
        "id": "vhxyybSsBDdF",
        "outputId": "f0d58ad1-092d-4da3-efe1-3995f646e8cb"
      },
      "execution_count": 80,
      "outputs": [
        {
          "output_type": "execute_result",
          "data": {
            "text/plain": [
              "array([[ 32,  42, 110, 147],\n",
              "       [ 67, 147, 230, 284],\n",
              "       [ 47,  51, 127, 141],\n",
              "       [ 70, 109, 139, 143],\n",
              "       [ 98, 102, 176, 211],\n",
              "       [ 62,  93, 150, 244]])"
            ]
          },
          "metadata": {},
          "execution_count": 80
        }
      ]
    },
    {
      "cell_type": "code",
      "source": [
        "# np.cumprod\n",
        "a"
      ],
      "metadata": {
        "colab": {
          "base_uri": "https://localhost:8080/"
        },
        "id": "0xZO8XY-BIBw",
        "outputId": "5f129221-8f09-4b01-cace-d0b30e351f57"
      },
      "execution_count": 81,
      "outputs": [
        {
          "output_type": "execute_result",
          "data": {
            "text/plain": [
              "array([59, 38, 38, 52, 51, 52, 53, 30, 72, 65, 21, 26, 50, 41, 10])"
            ]
          },
          "metadata": {},
          "execution_count": 81
        }
      ]
    },
    {
      "cell_type": "code",
      "source": [
        "np.cumprod(a)"
      ],
      "metadata": {
        "colab": {
          "base_uri": "https://localhost:8080/"
        },
        "id": "vnTNPkDyBY-W",
        "outputId": "ffe7e13c-67f2-46da-c9b4-195e91654969"
      },
      "execution_count": 82,
      "outputs": [
        {
          "output_type": "execute_result",
          "data": {
            "text/plain": [
              "array([                  59,                 2242,                85196,\n",
              "                    4430192,            225939792,          11748869184,\n",
              "               622690066752,       18680702002560,     1345010544184320,\n",
              "          87425685371980800,  1835939392811596800, -7605808008027138048,\n",
              "        7091225146543681536, -4407674171061882880, -7183253563199725568])"
            ]
          },
          "metadata": {},
          "execution_count": 82
        }
      ]
    },
    {
      "cell_type": "markdown",
      "source": [
        "### np.percentile\n",
        "\n",
        "numpy.percentile()function used to compute the nth percentile of the given data (array elements) along the specified axis.\n",
        "\n",
        "https://numpy.org/doc/stable/reference/generated/numpy.percentile.html"
      ],
      "metadata": {
        "id": "qowi7gPVCTGY"
      }
    },
    {
      "cell_type": "code",
      "source": [
        "a"
      ],
      "metadata": {
        "colab": {
          "base_uri": "https://localhost:8080/"
        },
        "id": "KsmRZ8UaBbEU",
        "outputId": "ebfddb42-6c0a-42c7-e421-3f45a85ef454"
      },
      "execution_count": 83,
      "outputs": [
        {
          "output_type": "execute_result",
          "data": {
            "text/plain": [
              "array([59, 38, 38, 52, 51, 52, 53, 30, 72, 65, 21, 26, 50, 41, 10])"
            ]
          },
          "metadata": {},
          "execution_count": 83
        }
      ]
    },
    {
      "cell_type": "code",
      "source": [
        "np.percentile(a,100)"
      ],
      "metadata": {
        "colab": {
          "base_uri": "https://localhost:8080/"
        },
        "id": "QzOuELkCCVIt",
        "outputId": "099586eb-75d5-4d0d-a2bc-432063fefea1"
      },
      "execution_count": 84,
      "outputs": [
        {
          "output_type": "execute_result",
          "data": {
            "text/plain": [
              "72.0"
            ]
          },
          "metadata": {},
          "execution_count": 84
        }
      ]
    },
    {
      "cell_type": "code",
      "source": [
        "np.percentile(a,0)"
      ],
      "metadata": {
        "colab": {
          "base_uri": "https://localhost:8080/"
        },
        "id": "O9UA313ZCbKX",
        "outputId": "aef610b5-3d20-4974-bc3d-f86f95d3a216"
      },
      "execution_count": 85,
      "outputs": [
        {
          "output_type": "execute_result",
          "data": {
            "text/plain": [
              "10.0"
            ]
          },
          "metadata": {},
          "execution_count": 85
        }
      ]
    },
    {
      "cell_type": "code",
      "source": [
        "np.percentile(a,50)"
      ],
      "metadata": {
        "colab": {
          "base_uri": "https://localhost:8080/"
        },
        "id": "Mn5-gwHMCdk5",
        "outputId": "943bfe98-d550-4513-fcdd-568efe2b7e7e"
      },
      "execution_count": 86,
      "outputs": [
        {
          "output_type": "execute_result",
          "data": {
            "text/plain": [
              "50.0"
            ]
          },
          "metadata": {},
          "execution_count": 86
        }
      ]
    },
    {
      "cell_type": "code",
      "source": [
        "np.median(a)"
      ],
      "metadata": {
        "colab": {
          "base_uri": "https://localhost:8080/"
        },
        "id": "hVkGPz9lCfO3",
        "outputId": "4c3d1c5b-a4bc-4563-9dcd-7ea982beb7fe"
      },
      "execution_count": 87,
      "outputs": [
        {
          "output_type": "execute_result",
          "data": {
            "text/plain": [
              "50.0"
            ]
          },
          "metadata": {},
          "execution_count": 87
        }
      ]
    },
    {
      "cell_type": "code",
      "source": [
        "b"
      ],
      "metadata": {
        "colab": {
          "base_uri": "https://localhost:8080/"
        },
        "id": "fyzbHIO4CjJJ",
        "outputId": "773d1754-ab8b-478e-cd48-14388f87ad0c"
      },
      "execution_count": 88,
      "outputs": [
        {
          "output_type": "execute_result",
          "data": {
            "text/plain": [
              "array([[32, 10, 68, 37],\n",
              "       [67, 80, 83, 54],\n",
              "       [47,  4, 76, 14],\n",
              "       [70, 39, 30,  4],\n",
              "       [98,  4, 74, 35],\n",
              "       [62, 31, 57, 94]])"
            ]
          },
          "metadata": {},
          "execution_count": 88
        }
      ]
    },
    {
      "cell_type": "code",
      "source": [
        "np.percentile(b,100)"
      ],
      "metadata": {
        "colab": {
          "base_uri": "https://localhost:8080/"
        },
        "id": "BQGFUIGvCkGg",
        "outputId": "addd88d3-3bf8-4aa1-dcc7-2cb5771e5cf0"
      },
      "execution_count": 89,
      "outputs": [
        {
          "output_type": "execute_result",
          "data": {
            "text/plain": [
              "98.0"
            ]
          },
          "metadata": {},
          "execution_count": 89
        }
      ]
    },
    {
      "cell_type": "code",
      "source": [
        "np.percentile(b,50,axis=0)"
      ],
      "metadata": {
        "colab": {
          "base_uri": "https://localhost:8080/"
        },
        "id": "bN5xX85nCnAF",
        "outputId": "81b5eb14-5854-4189-da27-c004f9b3214a"
      },
      "execution_count": 92,
      "outputs": [
        {
          "output_type": "execute_result",
          "data": {
            "text/plain": [
              "array([64.5, 20.5, 71. , 36. ])"
            ]
          },
          "metadata": {},
          "execution_count": 92
        }
      ]
    },
    {
      "cell_type": "markdown",
      "source": [
        "### np.histogram\n",
        "\n",
        "Numpy has a built-in numpy.histogram() function which represents the frequency of data distribution in the graphical form.\n",
        "\n",
        "https://numpy.org/doc/stable/reference/generated/numpy.histogram.html"
      ],
      "metadata": {
        "id": "A3Isid6KDyhA"
      }
    },
    {
      "cell_type": "code",
      "source": [
        "a"
      ],
      "metadata": {
        "colab": {
          "base_uri": "https://localhost:8080/"
        },
        "id": "1d7Bf-P1CsxW",
        "outputId": "db33da07-1dd2-4ec7-b742-0c605cb3700a"
      },
      "execution_count": 93,
      "outputs": [
        {
          "output_type": "execute_result",
          "data": {
            "text/plain": [
              "array([59, 38, 38, 52, 51, 52, 53, 30, 72, 65, 21, 26, 50, 41, 10])"
            ]
          },
          "metadata": {},
          "execution_count": 93
        }
      ]
    },
    {
      "cell_type": "code",
      "source": [
        "np.histogram(a,bins=[0,10,20,30,40,50,60,70,80,90,100])"
      ],
      "metadata": {
        "colab": {
          "base_uri": "https://localhost:8080/"
        },
        "id": "khAg5g4-Dzh-",
        "outputId": "c76b44fc-b511-4582-c20b-8250a042a741"
      },
      "execution_count": 94,
      "outputs": [
        {
          "output_type": "execute_result",
          "data": {
            "text/plain": [
              "(array([0, 1, 2, 3, 1, 6, 1, 1, 0, 0]),\n",
              " array([  0,  10,  20,  30,  40,  50,  60,  70,  80,  90, 100]))"
            ]
          },
          "metadata": {},
          "execution_count": 94
        }
      ]
    },
    {
      "cell_type": "code",
      "source": [
        "np.histogram(a,bins=[0,25,50,75,100])"
      ],
      "metadata": {
        "colab": {
          "base_uri": "https://localhost:8080/"
        },
        "id": "gbmMWNPvD7P4",
        "outputId": "d89c5e1f-c701-4360-8beb-bdd3e855bf90"
      },
      "execution_count": 96,
      "outputs": [
        {
          "output_type": "execute_result",
          "data": {
            "text/plain": [
              "(array([2, 5, 8, 0]), array([  0,  25,  50,  75, 100]))"
            ]
          },
          "metadata": {},
          "execution_count": 96
        }
      ]
    },
    {
      "cell_type": "code",
      "source": [
        "b"
      ],
      "metadata": {
        "colab": {
          "base_uri": "https://localhost:8080/"
        },
        "id": "1qRZGQOaD_uE",
        "outputId": "93454983-c20a-44c2-9869-3536f3ca525f"
      },
      "execution_count": 97,
      "outputs": [
        {
          "output_type": "execute_result",
          "data": {
            "text/plain": [
              "array([[32, 10, 68, 37],\n",
              "       [67, 80, 83, 54],\n",
              "       [47,  4, 76, 14],\n",
              "       [70, 39, 30,  4],\n",
              "       [98,  4, 74, 35],\n",
              "       [62, 31, 57, 94]])"
            ]
          },
          "metadata": {},
          "execution_count": 97
        }
      ]
    },
    {
      "cell_type": "code",
      "source": [
        "np.histogram(b,bins=[0,25,50,75,100])"
      ],
      "metadata": {
        "colab": {
          "base_uri": "https://localhost:8080/"
        },
        "id": "JAKnAeg1ECx8",
        "outputId": "3ace8deb-e4c6-4311-8a34-963420d8faf7"
      },
      "execution_count": 98,
      "outputs": [
        {
          "output_type": "execute_result",
          "data": {
            "text/plain": [
              "(array([5, 7, 7, 5]), array([  0,  25,  50,  75, 100]))"
            ]
          },
          "metadata": {},
          "execution_count": 98
        }
      ]
    },
    {
      "cell_type": "code",
      "source": [
        "np.histogram(b,bins=[0,25,50,75,100],axis=0)   # row/column-wise is not possible"
      ],
      "metadata": {
        "colab": {
          "base_uri": "https://localhost:8080/",
          "height": 141
        },
        "id": "t2puCjOZEFFk",
        "outputId": "d7edc140-cee3-4a79-a5f3-2411413e4d47"
      },
      "execution_count": 100,
      "outputs": [
        {
          "output_type": "error",
          "ename": "TypeError",
          "evalue": "histogram() got an unexpected keyword argument 'axis'",
          "traceback": [
            "\u001b[0;31m---------------------------------------------------------------------------\u001b[0m",
            "\u001b[0;31mTypeError\u001b[0m                                 Traceback (most recent call last)",
            "\u001b[0;32m<ipython-input-100-52dd8db34e98>\u001b[0m in \u001b[0;36m<cell line: 1>\u001b[0;34m()\u001b[0m\n\u001b[0;32m----> 1\u001b[0;31m \u001b[0mnp\u001b[0m\u001b[0;34m.\u001b[0m\u001b[0mhistogram\u001b[0m\u001b[0;34m(\u001b[0m\u001b[0mb\u001b[0m\u001b[0;34m,\u001b[0m\u001b[0mbins\u001b[0m\u001b[0;34m=\u001b[0m\u001b[0;34m[\u001b[0m\u001b[0;36m0\u001b[0m\u001b[0;34m,\u001b[0m\u001b[0;36m25\u001b[0m\u001b[0;34m,\u001b[0m\u001b[0;36m50\u001b[0m\u001b[0;34m,\u001b[0m\u001b[0;36m75\u001b[0m\u001b[0;34m,\u001b[0m\u001b[0;36m100\u001b[0m\u001b[0;34m]\u001b[0m\u001b[0;34m,\u001b[0m\u001b[0maxis\u001b[0m\u001b[0;34m=\u001b[0m\u001b[0;36m0\u001b[0m\u001b[0;34m)\u001b[0m\u001b[0;34m\u001b[0m\u001b[0;34m\u001b[0m\u001b[0m\n\u001b[0m",
            "\u001b[0;31mTypeError\u001b[0m: histogram() got an unexpected keyword argument 'axis'"
          ]
        }
      ]
    },
    {
      "cell_type": "markdown",
      "source": [
        "### np.corrcoef\n",
        "\n",
        "Return Pearson product-moment correlation coefficients.\n",
        "\n",
        "https://numpy.org/doc/stable/reference/generated/numpy.corrcoef.html"
      ],
      "metadata": {
        "id": "7v4lCz--FbbZ"
      }
    },
    {
      "cell_type": "code",
      "source": [
        "salary = np.array([20000,40000,25000,35000,60000])\n",
        "experience = np.array([1,3,2,4,2])\n",
        "\n",
        "np.corrcoef(salary,experience)"
      ],
      "metadata": {
        "colab": {
          "base_uri": "https://localhost:8080/"
        },
        "id": "vYqAvtuDEKyA",
        "outputId": "370dc8e4-b723-4191-f993-4d75e44879eb"
      },
      "execution_count": 101,
      "outputs": [
        {
          "output_type": "execute_result",
          "data": {
            "text/plain": [
              "array([[1.        , 0.25344572],\n",
              "       [0.25344572, 1.        ]])"
            ]
          },
          "metadata": {},
          "execution_count": 101
        }
      ]
    },
    {
      "cell_type": "markdown",
      "source": [
        "### np.isin\n",
        "\n",
        "With the help of numpy.isin() method, we can see that one array having values are checked in a different numpy array having different elements with different sizes.\n",
        "\n",
        "https://numpy.org/doc/stable/reference/generated/numpy.isin.html"
      ],
      "metadata": {
        "id": "TEu9_eUEGSaY"
      }
    },
    {
      "cell_type": "code",
      "source": [
        "a"
      ],
      "metadata": {
        "colab": {
          "base_uri": "https://localhost:8080/"
        },
        "id": "NNYj5kxzFqsI",
        "outputId": "51549450-a094-4f4c-9a55-b9d141815b28"
      },
      "execution_count": 103,
      "outputs": [
        {
          "output_type": "execute_result",
          "data": {
            "text/plain": [
              "array([59, 38, 38, 52, 51, 52, 53, 30, 72, 65, 21, 26, 50, 41, 10])"
            ]
          },
          "metadata": {},
          "execution_count": 103
        }
      ]
    },
    {
      "cell_type": "code",
      "source": [
        "items = [10,20,30,40,50,60,70,80,90,100]\n",
        "\n",
        "np.isin(a,items)"
      ],
      "metadata": {
        "colab": {
          "base_uri": "https://localhost:8080/"
        },
        "id": "Qcdk3uakGThE",
        "outputId": "e10c3a82-f2bd-4f29-f362-eb04ae3fdb5c"
      },
      "execution_count": 104,
      "outputs": [
        {
          "output_type": "execute_result",
          "data": {
            "text/plain": [
              "array([False, False, False, False, False, False, False,  True, False,\n",
              "       False, False, False,  True, False,  True])"
            ]
          },
          "metadata": {},
          "execution_count": 104
        }
      ]
    },
    {
      "cell_type": "code",
      "source": [
        "a[np.isin(a,items)]"
      ],
      "metadata": {
        "colab": {
          "base_uri": "https://localhost:8080/"
        },
        "id": "ZaGQJAoGGYX9",
        "outputId": "f8357f25-6e0e-4d3b-f866-e31f40df92f4"
      },
      "execution_count": 105,
      "outputs": [
        {
          "output_type": "execute_result",
          "data": {
            "text/plain": [
              "array([30, 50, 10])"
            ]
          },
          "metadata": {},
          "execution_count": 105
        }
      ]
    },
    {
      "cell_type": "markdown",
      "source": [
        "### np.flip\n",
        "\n",
        "The numpy.flip() function reverses the order of array elements along the specified axis, preserving the shape of the array.\n",
        "\n",
        "https://numpy.org/doc/stable/reference/generated/numpy.flip.html"
      ],
      "metadata": {
        "id": "Q0zYnJiAHtug"
      }
    },
    {
      "cell_type": "code",
      "source": [
        "a"
      ],
      "metadata": {
        "colab": {
          "base_uri": "https://localhost:8080/"
        },
        "id": "Ck2KA0oPGioL",
        "outputId": "c02338bd-9c95-4d8f-862e-26e7a6cbf92a"
      },
      "execution_count": 107,
      "outputs": [
        {
          "output_type": "execute_result",
          "data": {
            "text/plain": [
              "array([59, 38, 38, 52, 51, 52, 53, 30, 72, 65, 21, 26, 50, 41, 10])"
            ]
          },
          "metadata": {},
          "execution_count": 107
        }
      ]
    },
    {
      "cell_type": "code",
      "source": [
        "np.flip(a)"
      ],
      "metadata": {
        "colab": {
          "base_uri": "https://localhost:8080/"
        },
        "id": "QPAlaxxtHvIK",
        "outputId": "f8d4b5d0-d59e-4ead-d426-f35a1ca35542"
      },
      "execution_count": 108,
      "outputs": [
        {
          "output_type": "execute_result",
          "data": {
            "text/plain": [
              "array([10, 41, 50, 26, 21, 65, 72, 30, 53, 52, 51, 52, 38, 38, 59])"
            ]
          },
          "metadata": {},
          "execution_count": 108
        }
      ]
    },
    {
      "cell_type": "code",
      "source": [
        "b"
      ],
      "metadata": {
        "colab": {
          "base_uri": "https://localhost:8080/"
        },
        "id": "ooGWHCEZHxnG",
        "outputId": "3e285957-6287-4934-8021-5e0e0f4bb2ca"
      },
      "execution_count": 109,
      "outputs": [
        {
          "output_type": "execute_result",
          "data": {
            "text/plain": [
              "array([[32, 10, 68, 37],\n",
              "       [67, 80, 83, 54],\n",
              "       [47,  4, 76, 14],\n",
              "       [70, 39, 30,  4],\n",
              "       [98,  4, 74, 35],\n",
              "       [62, 31, 57, 94]])"
            ]
          },
          "metadata": {},
          "execution_count": 109
        }
      ]
    },
    {
      "cell_type": "code",
      "source": [
        "np.flip(b)   # flip by both axis x and y"
      ],
      "metadata": {
        "colab": {
          "base_uri": "https://localhost:8080/"
        },
        "id": "xDmAqPUNHzET",
        "outputId": "f3a6e1f8-43c8-4c88-fa6b-0f1897a99b3c"
      },
      "execution_count": 110,
      "outputs": [
        {
          "output_type": "execute_result",
          "data": {
            "text/plain": [
              "array([[94, 57, 31, 62],\n",
              "       [35, 74,  4, 98],\n",
              "       [ 4, 30, 39, 70],\n",
              "       [14, 76,  4, 47],\n",
              "       [54, 83, 80, 67],\n",
              "       [37, 68, 10, 32]])"
            ]
          },
          "metadata": {},
          "execution_count": 110
        }
      ]
    },
    {
      "cell_type": "code",
      "source": [
        "np.flip(b,axis=0)    # mirror image column-wise (flip by x-axis)"
      ],
      "metadata": {
        "colab": {
          "base_uri": "https://localhost:8080/"
        },
        "id": "9XtnQpdMH1y5",
        "outputId": "eba0c013-b6b9-4f7a-d14e-7343f6d5e0a9"
      },
      "execution_count": 111,
      "outputs": [
        {
          "output_type": "execute_result",
          "data": {
            "text/plain": [
              "array([[62, 31, 57, 94],\n",
              "       [98,  4, 74, 35],\n",
              "       [70, 39, 30,  4],\n",
              "       [47,  4, 76, 14],\n",
              "       [67, 80, 83, 54],\n",
              "       [32, 10, 68, 37]])"
            ]
          },
          "metadata": {},
          "execution_count": 111
        }
      ]
    },
    {
      "cell_type": "code",
      "source": [
        "np.flip(b,axis=1)  # mirror image row-wise (flip by y-axis)"
      ],
      "metadata": {
        "colab": {
          "base_uri": "https://localhost:8080/"
        },
        "id": "vl9js-33H5lc",
        "outputId": "bb62da6e-6162-4f67-eb26-f0714efef0d2"
      },
      "execution_count": 112,
      "outputs": [
        {
          "output_type": "execute_result",
          "data": {
            "text/plain": [
              "array([[37, 68, 10, 32],\n",
              "       [54, 83, 80, 67],\n",
              "       [14, 76,  4, 47],\n",
              "       [ 4, 30, 39, 70],\n",
              "       [35, 74,  4, 98],\n",
              "       [94, 57, 31, 62]])"
            ]
          },
          "metadata": {},
          "execution_count": 112
        }
      ]
    },
    {
      "cell_type": "markdown",
      "source": [
        "### np.put\n",
        "\n",
        "The numpy.put() function replaces specific elements of an array with given values of p_array. Array indexed works on flattened array.\n",
        "\n",
        "https://numpy.org/doc/stable/reference/generated/numpy.put.html"
      ],
      "metadata": {
        "id": "O982QlUnKIAj"
      }
    },
    {
      "cell_type": "code",
      "source": [
        "# np.put(array,indices to change,new values) -> makes permanent changes"
      ],
      "metadata": {
        "id": "bB417AmgKjZn"
      },
      "execution_count": null,
      "outputs": []
    },
    {
      "cell_type": "code",
      "source": [
        "a"
      ],
      "metadata": {
        "colab": {
          "base_uri": "https://localhost:8080/"
        },
        "id": "bDaMRyMLH-yc",
        "outputId": "7ce66550-9756-4b15-a959-05a559795657"
      },
      "execution_count": 114,
      "outputs": [
        {
          "output_type": "execute_result",
          "data": {
            "text/plain": [
              "array([59, 38, 38, 52, 51, 52, 53, 30, 72, 65, 21, 26, 50, 41, 10])"
            ]
          },
          "metadata": {},
          "execution_count": 114
        }
      ]
    },
    {
      "cell_type": "code",
      "source": [
        "np.put(a,[1,5,9],[100,200,300])"
      ],
      "metadata": {
        "id": "RLg1BVXhKJJw"
      },
      "execution_count": 115,
      "outputs": []
    },
    {
      "cell_type": "code",
      "source": [
        "a"
      ],
      "metadata": {
        "colab": {
          "base_uri": "https://localhost:8080/"
        },
        "id": "x_e7WQ_kKO41",
        "outputId": "d526961e-8780-45b2-bc79-dd9c2d26d1bc"
      },
      "execution_count": 116,
      "outputs": [
        {
          "output_type": "execute_result",
          "data": {
            "text/plain": [
              "array([ 59, 100,  38,  52,  51, 200,  53,  30,  72, 300,  21,  26,  50,\n",
              "        41,  10])"
            ]
          },
          "metadata": {},
          "execution_count": 116
        }
      ]
    },
    {
      "cell_type": "code",
      "source": [
        "b"
      ],
      "metadata": {
        "colab": {
          "base_uri": "https://localhost:8080/"
        },
        "id": "nNSZsJ_mKPwl",
        "outputId": "da791ccb-5ec4-4c9d-999c-6ae2c8d59ae2"
      },
      "execution_count": 117,
      "outputs": [
        {
          "output_type": "execute_result",
          "data": {
            "text/plain": [
              "array([[32, 10, 68, 37],\n",
              "       [67, 80, 83, 54],\n",
              "       [47,  4, 76, 14],\n",
              "       [70, 39, 30,  4],\n",
              "       [98,  4, 74, 35],\n",
              "       [62, 31, 57, 94]])"
            ]
          },
          "metadata": {},
          "execution_count": 117
        }
      ]
    },
    {
      "cell_type": "code",
      "source": [
        "np.put(b,[1,5,9],[100,200,300])"
      ],
      "metadata": {
        "id": "QI1S5-eeKVyo"
      },
      "execution_count": 118,
      "outputs": []
    },
    {
      "cell_type": "code",
      "source": [
        "b"
      ],
      "metadata": {
        "colab": {
          "base_uri": "https://localhost:8080/"
        },
        "id": "LgDJgsOYKYHC",
        "outputId": "93d83ecd-080b-467d-8b3d-2b3d10bc78ed"
      },
      "execution_count": 119,
      "outputs": [
        {
          "output_type": "execute_result",
          "data": {
            "text/plain": [
              "array([[ 32, 100,  68,  37],\n",
              "       [ 67, 200,  83,  54],\n",
              "       [ 47, 300,  76,  14],\n",
              "       [ 70,  39,  30,   4],\n",
              "       [ 98,   4,  74,  35],\n",
              "       [ 62,  31,  57,  94]])"
            ]
          },
          "metadata": {},
          "execution_count": 119
        }
      ]
    },
    {
      "cell_type": "markdown",
      "source": [
        "### np.delete\n",
        "\n",
        "The numpy.delete() function returns a new array with the deletion of sub-arrays along with the mentioned axis.\n",
        "\n",
        "https://numpy.org/doc/stable/reference/generated/numpy.delete.html"
      ],
      "metadata": {
        "id": "bpjKByafLLRu"
      }
    },
    {
      "cell_type": "code",
      "source": [
        "a"
      ],
      "metadata": {
        "colab": {
          "base_uri": "https://localhost:8080/"
        },
        "id": "ZpVSXH8iKY6x",
        "outputId": "738d1d9d-aed2-4cf9-d593-2cad8a905fbc"
      },
      "execution_count": 120,
      "outputs": [
        {
          "output_type": "execute_result",
          "data": {
            "text/plain": [
              "array([ 59, 100,  38,  52,  51, 200,  53,  30,  72, 300,  21,  26,  50,\n",
              "        41,  10])"
            ]
          },
          "metadata": {},
          "execution_count": 120
        }
      ]
    },
    {
      "cell_type": "code",
      "source": [
        "np.delete(a,[0,2,4,6])"
      ],
      "metadata": {
        "colab": {
          "base_uri": "https://localhost:8080/"
        },
        "id": "BzNfwLXKLMUX",
        "outputId": "41d1f964-8609-439f-d341-fd6f871d0cc3"
      },
      "execution_count": 121,
      "outputs": [
        {
          "output_type": "execute_result",
          "data": {
            "text/plain": [
              "array([100,  52, 200,  30,  72, 300,  21,  26,  50,  41,  10])"
            ]
          },
          "metadata": {},
          "execution_count": 121
        }
      ]
    },
    {
      "cell_type": "code",
      "source": [
        "b"
      ],
      "metadata": {
        "colab": {
          "base_uri": "https://localhost:8080/"
        },
        "id": "6m4Hg6hMLPpH",
        "outputId": "85d11cf3-0423-45de-92a9-d207d74f979b"
      },
      "execution_count": 122,
      "outputs": [
        {
          "output_type": "execute_result",
          "data": {
            "text/plain": [
              "array([[ 32, 100,  68,  37],\n",
              "       [ 67, 200,  83,  54],\n",
              "       [ 47, 300,  76,  14],\n",
              "       [ 70,  39,  30,   4],\n",
              "       [ 98,   4,  74,  35],\n",
              "       [ 62,  31,  57,  94]])"
            ]
          },
          "metadata": {},
          "execution_count": 122
        }
      ]
    },
    {
      "cell_type": "code",
      "source": [
        "np.delete(b,1,axis=0)"
      ],
      "metadata": {
        "colab": {
          "base_uri": "https://localhost:8080/"
        },
        "id": "Ly3j4phPLSy-",
        "outputId": "5c1da859-1d27-4851-f02a-652be22dd6bb"
      },
      "execution_count": 123,
      "outputs": [
        {
          "output_type": "execute_result",
          "data": {
            "text/plain": [
              "array([[ 32, 100,  68,  37],\n",
              "       [ 47, 300,  76,  14],\n",
              "       [ 70,  39,  30,   4],\n",
              "       [ 98,   4,  74,  35],\n",
              "       [ 62,  31,  57,  94]])"
            ]
          },
          "metadata": {},
          "execution_count": 123
        }
      ]
    },
    {
      "cell_type": "code",
      "source": [
        "np.delete(b,1,axis=1)"
      ],
      "metadata": {
        "colab": {
          "base_uri": "https://localhost:8080/"
        },
        "id": "XTraMh3XLe-m",
        "outputId": "4e26c37d-29df-4fca-e10f-80e9977e9c24"
      },
      "execution_count": 124,
      "outputs": [
        {
          "output_type": "execute_result",
          "data": {
            "text/plain": [
              "array([[32, 68, 37],\n",
              "       [67, 83, 54],\n",
              "       [47, 76, 14],\n",
              "       [70, 30,  4],\n",
              "       [98, 74, 35],\n",
              "       [62, 57, 94]])"
            ]
          },
          "metadata": {},
          "execution_count": 124
        }
      ]
    },
    {
      "cell_type": "code",
      "source": [
        "np.delete(b,[1,3,5,7,9,10,13,15])"
      ],
      "metadata": {
        "colab": {
          "base_uri": "https://localhost:8080/"
        },
        "id": "A2a_cm8QL7XN",
        "outputId": "a7e9ba0e-c9f8-4199-a66d-426a54e55c64"
      },
      "execution_count": 129,
      "outputs": [
        {
          "output_type": "execute_result",
          "data": {
            "text/plain": [
              "array([32, 68, 67, 83, 47, 14, 70, 30, 98,  4, 74, 35, 62, 31, 57, 94])"
            ]
          },
          "metadata": {},
          "execution_count": 129
        }
      ]
    },
    {
      "cell_type": "markdown",
      "source": [
        "### Set functions\n",
        "\n",
        "- np.union1d\n",
        "- np.intersect1d\n",
        "- np.setdiff1d\n",
        "- np.setxor1d\n",
        "- np.in1d"
      ],
      "metadata": {
        "id": "ISEFZebMPkx-"
      }
    },
    {
      "cell_type": "code",
      "source": [
        "m = np.array([1,2,3,4,5])\n",
        "n = np.array([3,4,5,6,7])"
      ],
      "metadata": {
        "id": "zgBYOtJ0MTt_"
      },
      "execution_count": 130,
      "outputs": []
    },
    {
      "cell_type": "code",
      "source": [
        "np.union1d(m,n)"
      ],
      "metadata": {
        "colab": {
          "base_uri": "https://localhost:8080/"
        },
        "id": "o-FETcWpPoGa",
        "outputId": "0c9b3d1a-2b3c-44da-c12f-bdb3193a19f4"
      },
      "execution_count": 131,
      "outputs": [
        {
          "output_type": "execute_result",
          "data": {
            "text/plain": [
              "array([1, 2, 3, 4, 5, 6, 7])"
            ]
          },
          "metadata": {},
          "execution_count": 131
        }
      ]
    },
    {
      "cell_type": "code",
      "source": [
        "np.intersect1d(m,n)"
      ],
      "metadata": {
        "colab": {
          "base_uri": "https://localhost:8080/"
        },
        "id": "j6rjJxw1PrOl",
        "outputId": "bd719a75-1bc2-4732-b1ab-00cfee168b57"
      },
      "execution_count": 132,
      "outputs": [
        {
          "output_type": "execute_result",
          "data": {
            "text/plain": [
              "array([3, 4, 5])"
            ]
          },
          "metadata": {},
          "execution_count": 132
        }
      ]
    },
    {
      "cell_type": "code",
      "source": [
        "np.setdiff1d(m,n)"
      ],
      "metadata": {
        "colab": {
          "base_uri": "https://localhost:8080/"
        },
        "id": "LxnZUY3hPtas",
        "outputId": "2a06a870-5e80-4340-9258-e7657d5245aa"
      },
      "execution_count": 133,
      "outputs": [
        {
          "output_type": "execute_result",
          "data": {
            "text/plain": [
              "array([1, 2])"
            ]
          },
          "metadata": {},
          "execution_count": 133
        }
      ]
    },
    {
      "cell_type": "code",
      "source": [
        "np.setdiff1d(n,m)"
      ],
      "metadata": {
        "colab": {
          "base_uri": "https://localhost:8080/"
        },
        "id": "Py4hq9GcPx6A",
        "outputId": "e5241ccc-cce1-4c88-d068-e054d53ebf69"
      },
      "execution_count": 134,
      "outputs": [
        {
          "output_type": "execute_result",
          "data": {
            "text/plain": [
              "array([6, 7])"
            ]
          },
          "metadata": {},
          "execution_count": 134
        }
      ]
    },
    {
      "cell_type": "code",
      "source": [
        "np.setxor1d(m,n)"
      ],
      "metadata": {
        "colab": {
          "base_uri": "https://localhost:8080/"
        },
        "id": "HaPJlGnaPzjD",
        "outputId": "678f2b63-e54c-4975-961d-5a5cc97d2bb3"
      },
      "execution_count": 135,
      "outputs": [
        {
          "output_type": "execute_result",
          "data": {
            "text/plain": [
              "array([1, 2, 6, 7])"
            ]
          },
          "metadata": {},
          "execution_count": 135
        }
      ]
    },
    {
      "cell_type": "code",
      "source": [
        "np.in1d(m,1)"
      ],
      "metadata": {
        "colab": {
          "base_uri": "https://localhost:8080/"
        },
        "id": "jHyImvfLP4p7",
        "outputId": "7726f5a4-99c9-4b84-ff4b-e4f6437569ab"
      },
      "execution_count": 137,
      "outputs": [
        {
          "output_type": "execute_result",
          "data": {
            "text/plain": [
              "array([ True, False, False, False, False])"
            ]
          },
          "metadata": {},
          "execution_count": 137
        }
      ]
    },
    {
      "cell_type": "code",
      "source": [
        "np.in1d(n,1)"
      ],
      "metadata": {
        "colab": {
          "base_uri": "https://localhost:8080/"
        },
        "id": "opbdl8gXQJWc",
        "outputId": "2b688c69-e904-449b-8b56-60cae3f8ea93"
      },
      "execution_count": 140,
      "outputs": [
        {
          "output_type": "execute_result",
          "data": {
            "text/plain": [
              "array([False, False, False, False, False])"
            ]
          },
          "metadata": {},
          "execution_count": 140
        }
      ]
    },
    {
      "cell_type": "code",
      "source": [
        "n[np.in1d(n,1)]"
      ],
      "metadata": {
        "colab": {
          "base_uri": "https://localhost:8080/"
        },
        "id": "6c7gReV1QQZF",
        "outputId": "63f3bbb6-38c7-4c19-83ad-0cb9521f4a7f"
      },
      "execution_count": 141,
      "outputs": [
        {
          "output_type": "execute_result",
          "data": {
            "text/plain": [
              "array([], dtype=int64)"
            ]
          },
          "metadata": {},
          "execution_count": 141
        }
      ]
    },
    {
      "cell_type": "code",
      "source": [
        "m[np.in1d(m,1)]"
      ],
      "metadata": {
        "colab": {
          "base_uri": "https://localhost:8080/"
        },
        "id": "1fcKCHrPQYAO",
        "outputId": "bed929aa-18e7-4b20-b2ec-d2882fd92523"
      },
      "execution_count": 142,
      "outputs": [
        {
          "output_type": "execute_result",
          "data": {
            "text/plain": [
              "array([1])"
            ]
          },
          "metadata": {},
          "execution_count": 142
        }
      ]
    },
    {
      "cell_type": "markdown",
      "source": [
        "### np.clip\n",
        "\n",
        "numpy.clip() function is used to Clip (limit) the values in an array.\n",
        "\n",
        "https://numpy.org/doc/stable/reference/generated/numpy.clip.html"
      ],
      "metadata": {
        "id": "1kSeOmELQ-Pz"
      }
    },
    {
      "cell_type": "code",
      "source": [
        "a"
      ],
      "metadata": {
        "colab": {
          "base_uri": "https://localhost:8080/"
        },
        "id": "DVwN8Zn2Q6u5",
        "outputId": "70a51897-dec4-421f-b3b7-246700427224"
      },
      "execution_count": 143,
      "outputs": [
        {
          "output_type": "execute_result",
          "data": {
            "text/plain": [
              "array([ 59, 100,  38,  52,  51, 200,  53,  30,  72, 300,  21,  26,  50,\n",
              "        41,  10])"
            ]
          },
          "metadata": {},
          "execution_count": 143
        }
      ]
    },
    {
      "cell_type": "code",
      "source": [
        "np.clip(a,a_min=25,a_max=75)"
      ],
      "metadata": {
        "colab": {
          "base_uri": "https://localhost:8080/"
        },
        "id": "y2p1PMSIQ_Zo",
        "outputId": "be8ea92a-f30e-4b67-d472-d6607a9509f5"
      },
      "execution_count": 144,
      "outputs": [
        {
          "output_type": "execute_result",
          "data": {
            "text/plain": [
              "array([59, 75, 38, 52, 51, 75, 53, 30, 72, 75, 25, 26, 50, 41, 25])"
            ]
          },
          "metadata": {},
          "execution_count": 144
        }
      ]
    },
    {
      "cell_type": "code",
      "source": [
        "# 17. np.swapaxes"
      ],
      "metadata": {
        "id": "KxCIplZBRBdK"
      },
      "execution_count": null,
      "outputs": []
    },
    {
      "cell_type": "code",
      "source": [
        "# 18. np.uniform"
      ],
      "metadata": {
        "id": "bkWkZ_uJRKlX"
      },
      "execution_count": null,
      "outputs": []
    },
    {
      "cell_type": "code",
      "source": [
        "# 19. np.count_nonzero"
      ],
      "metadata": {
        "id": "2f36EyQURM2w"
      },
      "execution_count": null,
      "outputs": []
    },
    {
      "cell_type": "code",
      "source": [
        "# 21. np.tile\n",
        "# https://www.kaggle.com/code/abhayparashar31/best-numpy-functions-for-data-science-50?scriptVersionId=98816580"
      ],
      "metadata": {
        "id": "_X1iJBXARPIH"
      },
      "execution_count": null,
      "outputs": []
    },
    {
      "cell_type": "code",
      "source": [
        "# 22. np.repeat\n",
        "# https://towardsdatascience.com/10-numpy-functions-you-should-know-1dc4863764c5"
      ],
      "metadata": {
        "id": "KYDR36pZRSgj"
      },
      "execution_count": null,
      "outputs": []
    },
    {
      "cell_type": "code",
      "source": [
        "# 25. np.allclose and equals"
      ],
      "metadata": {
        "id": "1Dz3eYceRWRl"
      },
      "execution_count": null,
      "outputs": []
    }
  ]
}